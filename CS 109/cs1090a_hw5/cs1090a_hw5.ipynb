{
 "cells": [
  {
   "cell_type": "code",
   "execution_count": null,
   "id": "543ead65",
   "metadata": {
    "deletable": false,
    "editable": false
   },
   "outputs": [],
   "source": [
    "# Initialize Otter\n",
    "import otter\n",
    "grader = otter.Notebook(\"cs1090a_hw5.ipynb\")"
   ]
  },
  {
   "cell_type": "markdown",
   "id": "1ffd582b-96c7-46a9-940b-4e73e43e3d41",
   "metadata": {
    "tags": []
   },
   "source": [
    "# <img style=\"float: left; padding-right: 10px; width: 45px\" src=\"https://raw.githubusercontent.com/Harvard-IACS/2018-CS109A/master/content/styles/iacs.png\"> CS1090A Introduction to Data Science: \n",
    "## Homework 5: Multiclass Classification & Decision Trees\n",
    "\n",
    "**Harvard University**<br/>\n",
    "**Fall 2024**<br/>\n",
    "**Instructors**: Pavlos Protopapas and Natesh Pillai\n",
    "\n",
    "<hr style=\"height:2.4pt\">"
   ]
  },
  {
   "cell_type": "code",
   "execution_count": null,
   "id": "3dbc8baa-0936-4961-8022-2267b9cdcffc",
   "metadata": {},
   "outputs": [],
   "source": [
    "# RUN THIS CELL \n",
    "import requests\n",
    "from IPython.core.display import HTML\n",
    "styles = requests.get(\n",
    "    \"https://raw.githubusercontent.com/Harvard-IACS/2021-CS109A/master/\"\n",
    "    \"themes/static/css/cs109.css\"\n",
    ").text\n",
    "HTML(styles)"
   ]
  },
  {
   "cell_type": "markdown",
   "id": "b3a29dab-235f-4881-ae25-a26895999de4",
   "metadata": {},
   "source": [
    "# 🎓 Predicting Student Outcomes 🕳️\n",
    "\n",
    "In this assignment, you will construct and evaluate classification models to predict student outcomes (“Dropout,” “Enrolled,” or “Graduate”) using demographic, socio-economic, and academic data available at the point of enrollment. The aim is to identify students at risk and understand the factors contributing to their academic outcomes.\n",
    "\n",
    "The dataset used in this assignment originates from the Polytechnic Institute of Portalegre, Portugal, and includes information such as demographics, socio-economic background, and academic history at the time of enrollment. The classification task involves predicting whether a student will graduate, remain enrolled, or drop out, which poses unique challenges, including class imbalance.\n",
    "\n",
    "More information on the dataset and related modeling approaches can be found in the paper \"Early Prediction of Student’s Performance in Higher Education: A Case Study\" by Martins et al.. We have included a PDF of this paper in the data directory for your reference."
   ]
  },
  {
   "cell_type": "markdown",
   "id": "2e134bb0-2143-4daa-9eb6-ddb487633005",
   "metadata": {},
   "source": [
    "<div style = \"background: orange; border: thin solid black; border-radius: 2px; padding: 5px\">\n",
    "<details>\n",
    "<summary><strong>Dataset Information</strong> (click to expand)</summary>\n",
    "\n",
    "| Variable Name                       | Description                                                                                                                                                                                                                             |\n",
    "|-------------------------------------|-----------------------------------------------------------------------------------------------------------------------------------------------------------------------------------------------------------------------------------------|\n",
    "| Marital Status                      | **1** – single, **2** – married, **3** – widower, **4** – divorced, **5** – facto union, **6** – legally separated                                                                                                                                              |\n",
    "| Application mode                    | **1** - 1st phase - general contingent, **2** - Ordinance No. 612/93, **5** - 1st phase - special contingent (Azores Island), **7** - Holders of other higher courses, **10** - Ordinance No. 854-B/99, **15** - International student (bachelor), **16** - 1st phase - special contingent (Madeira Island), **17** - 2nd phase - general contingent, **18** - 3rd phase - general contingent, **26** - Ordinance No. 533-A/99, item b2) (Different Plan), **27** - Ordinance No. 533-A/99, item b3 (Other Institution), **39** - Over 23 years old, **42** - Transfer, **43** - Change of course, **44** - Technological specialization diploma holders, **51** - Change of institution/course, **53** - Short cycle diploma holders, **57** - Change of institution/course (International) |\n",
    "| Application order                   | Application order (between **0** - first choice and **9** - last choice)                                                                                                                                                                        |\n",
    "| Course                              | **33** - Biofuel Production Technologies, **171** - Animation and Multimedia Design, **8014** - Social Service (evening attendance), **9003** - Agronomy, **9070** - Communication Design, **9085** - Veterinary Nursing, **9119** - Informatics Engineering, **9130** - Equinculture, **9147** - Management, **9238** - Social Service, **9254** - Tourism, **9500** - Nursing, **9556** - Oral Hygiene, **9670** - Advertising and Marketing Management, **9773** - Journalism and Communication, **9853** - Basic Education, **9991** - Management (evening attendance) |\n",
    "| Daytime/evening attendance          | **1** – daytime, **0** - evening                                                                                                                                                                                                                |\n",
    "| Previous qualification              | **1** - Secondary education, **2** - Higher education - bachelor's degree, **3** - Higher education - degree, **4** - Higher education - master's, **5** - Higher education - doctorate, **6** - Frequency of higher education, **9** - 12th year of schooling - not completed, **10** - 11th year of schooling - not completed, **12** - Other - 11th year of schooling, **14** - 10th year of schooling, **15** - 10th year of schooling - not completed, **19** - Basic education 3rd cycle (9th/10th/11th year) or equiv., **38** - Basic education 2nd cycle (6th/7th/8th year) or equiv., **39** - Technological specialization course, **40** - Higher education - degree (1st cycle), **42** - Professional higher technical course, **43** - Higher education - master (2nd cycle) |\n",
    "| Previous qualification (grade)      | Grade of previous qualification (between **0** and **200**)                                                                                                                                                                                      |\n",
    "| Nationality                         | **1** - Portuguese, **2** - German, **6** - Spanish, **11** - Italian, **13** - Dutch, **14** - English, **17** - Lithuanian, **21** - Angolan, **22** - Cape Verdean, **24** - Guinean, **25** - Mozambican, **26** - Santomean, **32** - Turkish, **41** - Brazilian, **62** - Romanian, **100** - Moldova (Republic of), **101** - Mexican, **103** - Ukrainian, **105** - Russian, **108** - Cuban, **109** - Colombian |\n",
    "| Mother's qualification              | **1** - Secondary Education - 12th Year of Schooling or Eq., **2** - Higher Education - Bachelor's Degree, **3** - Higher Education - Degree, **4** - Higher Education - Master's, **5** - Higher Education - Doctorate, **6** - Frequency of Higher Education, **9** - 12th Year of Schooling - Not Completed, **10** - 11th Year of Schooling - Not Completed, **11** - 7th Year (Old), **12** - Other - 11th Year of Schooling, **14** - 10th Year of Schooling, **18** - General commerce course, **19** - Basic Education 3rd Cycle (9th/10th/11th Year) or Equiv., **22** - Technical-professional course, **26** - 7th year of schooling, **27** - 2nd cycle of the general high school course, **29** - 9th Year of Schooling - Not Completed, **30** - 8th year of schooling, **34** - Unknown, **35** - Can't read or write, **36** - Can read without having a 4th year of schooling, **37** - Basic education 1st cycle (4th/5th year) or equiv., **38** - Basic Education 2nd Cycle (6th/7th/8th Year) or Equiv., **39** - Technological specialization course, **40** - Higher education - degree (1st cycle), **41** - Specialized higher studies course, **42** - Professional higher technical course, **43** - Higher Education - Master (2nd cycle), **44** - Higher Education - Doctorate (3rd cycle) |\n",
    "| Father's qualification              | Similar values as Mother's qualification (refer to full details above)                                                                                                                                                                   |\n",
    "| Mother's occupation                 | **0** - Student, **1** - Representatives of the Legislative Power and Executive Bodies, Directors, Directors and Executive Managers, **2** - Specialists in Intellectual and Scientific Activities, **3** - Intermediate Level Technicians and Professions, **4** - Administrative staff, **5** - Personal Services, Security and Safety Workers and Sellers, **6** - Farmers and Skilled Workers in Agriculture, Fisheries and Forestry, **7** - Skilled Workers in Industry, Construction and Craftsmen, **8** - Installation and Machine Operators and Assembly Workers, **9** - Unskilled Workers, **10** - Armed Forces Professions, **90** - Other Situation, **99** - (blank), **122** - Health professionals, **123** - teachers, **125** - Specialists in information and communication technologies (ICT), **131** - Intermediate level science and engineering technicians and professions, **132** - Technicians and professionals, of intermediate level of health, **134** - Intermediate level technicians from legal, social, sports, cultural and similar services, **141** - Office workers, secretaries in general and data processing operators, **143** - Data, accounting, statistical, financial services and registry-related operators, **144** - Other administrative support staff, **151** - personal service workers, **152** - sellers, **153** - Personal care workers and the like, **171** - Skilled construction workers and the like, except electricians, **173** - Skilled workers in printing, precision instrument manufacturing, jewelers, artisans and the like, **175** - Workers in food processing, woodworking, clothing and other industries and crafts, **191** - cleaning workers, **192** - Unskilled workers in agriculture, animal production, fisheries and forestry, **193** - Unskilled workers in extractive industry, construction, manufacturing and transport, **194** - Meal preparation assistants |\n",
    "| Father's occupation                 | Similar values as Mother's occupation (refer to full details above)                                                                                                                                                                     |\n",
    "| Admission grade                     | Admission grade (between **0** and **200**)                                                                                                                                                                                                     |\n",
    "| Displaced                           | **1** – yes, **0** – no                                                                                                                                                                                                                          |\n",
    "| Educational special needs           | **1** – yes, **0** – no                                                                                                                                                                                                                          |\n",
    "| Debtor                              | **1** – yes, **0** – no                                                                                                                                                                                                                          |\n",
    "| Tuition fees up to date             | **1** – yes, **0** – no                                                                                                                                                                                                                          |\n",
    "| Gender                              | **1** – male, **0** – female                                                                                                                                                                                                                     |\n",
    "| Scholarship holder                  | **1** – yes, **0** – no                                                                                                                                                                                                                          |\n",
    "| Age at enrollment                   | Age of student at enrollment                                                                                                                                                                                                            |\n",
    "| International                       | **1** – yes, **0** – no                                                                                                                                                                                                                          |\n",
    "| Curricular units 1st sem (credited) | Number of curricular units credited in the 1st semester                                                                                                                                                                                  |\n",
    "| Curricular units 1st sem (enrolled) | Number of curricular units enrolled in the 1st semester                                                                                                                                                                                  |\n",
    "| Curricular units 1st sem (evaluations) | Number of evaluations to curricular units in the 1st semester                                                                                                                                                                            |\n",
    "| Curricular units 1st sem (approved) | Number of curricular units approved in the 1st semester                                                                                                                                                                                  |\n",
    "| Curricular units 1st sem (grade)    | Grade average in the 1st semester (between **0** and **20**)                                                                                                                                                                                     |\n",
    "| Curricular units 1st sem (without evaluations) | Number of curricular units without evaluations in the 1st semester                                                                                                                                                                       |\n",
    "| Curricular units 2nd sem (credited) | Number of curricular units credited in the 2nd semester                                                                                                                                                                                  |\n",
    "| Curricular units 2nd sem (enrolled) | Number of curricular units enrolled in the 2nd semester                                                                                                                                                                                  |\n",
    "| Curricular units 2nd sem (evaluations) | Number of evaluations to curricular units in the 2nd semester                                                                                                                                                                            |\n",
    "| Curricular units 2nd sem (approved) | Number of curricular units approved in the 2nd semester                                                                                                                                                                                  |\n",
    "| Curricular units 2nd sem (grade)    | Grade average in the 2nd semester (between **0** and **20**)                                                                                                                                                                                     |\n",
    "| Curricular units 2nd sem (without evaluations) | Number of curricular units without evaluations in the 2nd semester                                                                                                                                                                       |\n",
    "| Unemployment rate                   | Unemployment rate (%)                                                                                                                                                                                                                    |\n",
    "| Inflation rate                      | Inflation rate (%)                                                                                                                                                                                                                       |\n",
    "| GDP                                 | GDP                                                                                                                                                                                                                                      |\n",
    "| Target                              | The problem is formulated as a three-category classification task: **dropout**, **enrolled**, or **graduate** at the end of the normal duration of the course                                                                                                                              |\n",
    "\n",
    "</details>\n",
    "</div>"
   ]
  },
  {
   "cell_type": "markdown",
   "id": "2c53150c-384d-463f-91e7-f357b0e6bb79",
   "metadata": {},
   "source": [
    "<p>\n",
    "<span style = \"background: lightgreen; border: thin solid black; border-radius: 2px; padding: 5px\">\n",
    "<strong>Guidelines</strong>\n",
    "</span>\n",
    "</p>\n",
    "\n",
    "This assignment is intentionally **open-ended**. You will not receive explicit instructions for every step—it is up to you to **make informed decisions** and **justify** them.\n",
    "\n",
    "Consider every choice carefully, and support your decisions with **evidence** such as plots, metrics, or references to the literature.\n",
    "\n",
    "The goal is to apply your data science expertise to a real-world problem where there may not be a single correct answer but rather multiple valid approaches that can be logically defended.\n",
    "\n",
    "Feel free to add code and markdown cells as you need them. \n",
    "\n",
    "<span style = \"background: lightgreen; border: thin solid black; border-radius: 2px; padding: 5px\">\n",
    "<strong>HW5 Overview</strong>\n",
    "</span>\n",
    "\n",
    "- EDA & General Preprocessing\n",
    "- Model 1: OvR Logistic Regression\n",
    "- Model 2: Decicion Tree Classifier\n",
    "- Model 3: Custom Classifier\n",
    "- Model Comparison & Kaggle Submissions\n",
    "- Causal Inference (BONUS)\n",
    "- Wrap-up\n",
    "\n",
    "🏆 **Each of the 3 models has an associated Kaggle competition. Making it into the top 20 on any of the leaderboards will earn you bonus points.**\n",
    "\n",
    "<span style = \"background: violet; border: thin solid black; border-radius: 2px; padding: 5px\">\n",
    "<strong>Submission Requirements</strong>\n",
    "</span>\n",
    "\n",
    "- The notebook submitted to Canvas must **run from top to bottom** without errors and contain **all output**.\n",
    "- Notebooks are intended for human readers. Prose should appear in markdown cells, not code comments.\n",
    "- Notebooks should contain no excessive output and no non-functional code unless the latter is included with the expressive purpose of communicating something to the reader. \n",
    "- Predictions must be saved in the specified paths when the notebook is run to facilitate staff verification.\n",
    "- Kaggle submissions whose performance cannot be reproduced by the appropriate model in the related notebook submission will be disqualified.\n",
    "\n",
    "<p>\n",
    "<span style = \"background: red; border: thin solid black; border-radius: 2px; padding: 5px\">\n",
    "<strong>☣️ HW Submissions Copy-Pasted from Generative AI Output Will Receive No Credit ☣️</strong>\n",
    "</span>\n",
    "</p>\n",
    "\n"
   ]
  },
  {
   "cell_type": "code",
   "execution_count": null,
   "id": "fd3502f9-cd16-475b-8cf7-52eee9196964",
   "metadata": {},
   "outputs": [],
   "source": [
    "import os\n",
    "import time\n",
    "import pandas as pd\n",
    "import numpy as np\n",
    "from sklearn.model_selection import train_test_split, cross_validate, cross_val_score, cross_val_predict, \\\n",
    "                        GridSearchCV, RandomizedSearchCV, KFold, StratifiedKFold\n",
    "from sklearn.preprocessing import StandardScaler, MinMaxScaler, OneHotEncoder, LabelEncoder\n",
    "from sklearn.compose import ColumnTransformer\n",
    "from sklearn.pipeline import Pipeline, make_pipeline\n",
    "from sklearn.linear_model import LogisticRegression, LogisticRegressionCV\n",
    "from sklearn.multiclass import OneVsRestClassifier\n",
    "from sklearn.tree import DecisionTreeClassifier, plot_tree\n",
    "from sklearn.metrics import classification_report, confusion_matrix, accuracy_score, \\\n",
    "                            roc_curve, auc, roc_auc_score, precision_score, recall_score, f1_score\n",
    "\n",
    "# For optional causal inference section\n",
    "# from psmpy import PsmPy\n",
    "# from psmpy.functions import cohenD\n",
    "# from psmpy.plotting import *"
   ]
  },
  {
   "cell_type": "code",
   "execution_count": null,
   "id": "d962c00d-dcd3-4527-afa2-23d4c8a22195",
   "metadata": {},
   "outputs": [],
   "source": [
    "# For calculating total notebook runtime\n",
    "notebook_start = time.time()"
   ]
  },
  {
   "cell_type": "markdown",
   "id": "e965df38-e7e9-4e47-a3b5-6de3391bca11",
   "metadata": {
    "cell_id": "0a790850-87c6-4f46-b89e-048a2295c92b",
    "colab_type": "text",
    "deletable": false,
    "editable": false,
    "id": "IGFtXJmQap2q"
   },
   "source": [
    "## EDA & General Preprocessing\n",
    "\n",
    "Load and explore the dataset. Your EDA should help inform your later modeling decisions. \n",
    "\n",
    "**Hints:**\n",
    "\n",
    "- Consider methods to handle class imbalance, feature scaling, categorical variable encoding, and any necessary feature engineering. Provide justification for the choice you make, including reasons for *not* taking certain actions that might be considered standard in the given context.\n",
    "- You may decide that your different models require their own distinct preprocessing steps rather than taking a one-size-fits-all approach.\n",
    "- Take a moment to look at the imports provided above. You may find these useful through the notebook.\n",
    "\n",
    "---"
   ]
  },
  {
   "cell_type": "code",
   "execution_count": null,
   "id": "7553b41b-cc95-4dd0-b391-04e7e3578fee",
   "metadata": {
    "tags": []
   },
   "outputs": [],
   "source": [
    "# your code here\n",
    "..."
   ]
  },
  {
   "cell_type": "markdown",
   "id": "798a3bac-1cd4-4931-a4ea-5aac116e02fb",
   "metadata": {},
   "source": [
    "<div class=\"highlight-box\" style=\"border: 1px solid #ffcccb; background-color: #ffcccb; height: 5px;\"></div>"
   ]
  },
  {
   "cell_type": "markdown",
   "id": "7af25ab0-fdd4-41eb-984d-b6d7386f212a",
   "metadata": {},
   "source": [
    "_Type your answer here, replacing this text._"
   ]
  },
  {
   "cell_type": "markdown",
   "id": "250a43a6-43d5-4c8e-9fde-009a799ddd00",
   "metadata": {},
   "source": [
    "<div class=\"highlight-box\" style=\"border: 1px solid #ffcccb; background-color: #ffcccb; height: 5px;\"></div>"
   ]
  },
  {
   "cell_type": "markdown",
   "id": "25460890-fb84-4427-8399-17cd46811ff5",
   "metadata": {
    "deletable": false,
    "editable": false
   },
   "source": [
    "## Model 1: OvR Logistic Regression\n",
    "\n",
    "Develop a One-vs-Rest Logistic Regression model to predict student outcomes. You are expected to perform model selection, tuning, evaluation, and interpretation.\n",
    "\n",
    "**Instructions**:\n",
    "1. **Model Selection & Training**\n",
    "   - Train an **OvR Logistic Regression** model using appropriate hyperparameter tuning methods (e.g., cross-validation).\n",
    "   - Explain and justify all modeling decisions, including any feature preprocessing, engineering, and/or selection, hyperparameter tuning, and regularization choices.\n",
    "\n",
    "2. **Prediction Generation**\n",
    "   - Generate predictions for the test dataset in `./data/X_test.csv`.\n",
    "   - Save your predictions in the following file path: `./submissions/submission_logreg.csv`.\n",
    "   - Follow the structure of the expected submission file provided in `./data/example_submissions/example_submission_logreg.csv`.\n",
    "\n",
    "3. **Feature Importance & Interpretation**\n",
    "   - Analyze and interpret the feature importance in your logistic regression model.\n",
    "   - Provide visualizations and explanations to support your interpretations (e.g., coefficients of significant predictors).\n",
    "\n",
    "**Kaggle Competition Link**: [Logistic Regression Kaggle Competition](https://www.kaggle.com/t/8e1458a396f54accb532b6afa535a8a9)\n",
    "\n",
    "**Kaggle Rules Summary**:\n",
    "- You **must use an OvR Logistic Regression model**.\n",
    "- No additional data beyond what was distributed with the assignment may be used (data derived from the provided dataset is allowed).\n",
    "- Submissions will be **disqualified** if their performance cannot be reproduced by the relevant model in your notebook.\n",
    "\n",
    "---"
   ]
  },
  {
   "cell_type": "code",
   "execution_count": null,
   "id": "f7f87ee2-50c7-4aaa-ba87-ef3a7248ad0f",
   "metadata": {
    "tags": []
   },
   "outputs": [],
   "source": [
    "# your code here\n",
    "..."
   ]
  },
  {
   "cell_type": "markdown",
   "id": "57385ee1-bd45-4cb2-81a2-c7471119f626",
   "metadata": {},
   "source": [
    "<div class=\"highlight-box\" style=\"border: 1px solid #ffcccb; background-color: #ffcccb; height: 5px;\"></div>"
   ]
  },
  {
   "cell_type": "markdown",
   "id": "d768d21e-5229-4381-9d98-9d60ebb351ec",
   "metadata": {},
   "source": [
    "_Type your answer here, replacing this text._"
   ]
  },
  {
   "cell_type": "markdown",
   "id": "b96ab3a2-12e4-4826-8c4b-9280df247f64",
   "metadata": {},
   "source": [
    "<div class=\"highlight-box\" style=\"border: 1px solid #ffcccb; background-color: #ffcccb; height: 5px;\"></div>"
   ]
  },
  {
   "cell_type": "code",
   "execution_count": null,
   "id": "09ced55e",
   "metadata": {
    "deletable": false,
    "editable": false
   },
   "outputs": [],
   "source": [
    "grader.check(\"logreg\")"
   ]
  },
  {
   "cell_type": "markdown",
   "id": "4570d1b1-2412-4f69-9c9f-85d94b1e223c",
   "metadata": {
    "deletable": false,
    "editable": false
   },
   "source": [
    "## Model 2: Decision Tree Classifier\n",
    "\n",
    "Develop a Decision Tree Classifier to predict student outcomes. You are expected to perform model selection, tuning, evaluation, and interpretation.\n",
    "\n",
    "**Instructions**:\n",
    "1. **Model Selection & Training**\n",
    "   - Train a **Decision Tree Classifier** with hyperparameter tuning.\n",
    "   - Justify your modeling decisions, including feature preprocessing, hyperparameter values (e.g., depth, splits), and pruning if applied.\n",
    "\n",
    "2. **Prediction Generation**\n",
    "   - Generate predictions for the test dataset.\n",
    "   - Save your predictions in the following file path: `./submissions/submission_dt.csv`.\n",
    "   - Follow the structure of the expected submission file provided in `./data/example_submissions/example_submission_dt.csv`.\n",
    "\n",
    "3. **Feature Importance & Interpretation**\n",
    "   - Analyze and interpret the feature importance of the decision tree model (e.g., Gini importance).\n",
    "   - Visualize and explain which features had the most impact.\n",
    "\n",
    "**Kaggle Competition Link**: [Decision Tree Kaggle Competition](https://www.kaggle.com/t/c2df59ec7be441fa84a882e2f2b8a03e)  \n",
    "**Kaggle Rules Summary**:\n",
    "- You **must use a Decision Tree Classifier**.\n",
    "- No additional data beyond what was distributed with the assignment may be used (data derived from the provided dataset is allowed).\n",
    "- Submissions will be **disqualified** if their performance cannot be reproduced by the relevant model in your notebook.\n",
    "\n",
    "---"
   ]
  },
  {
   "cell_type": "code",
   "execution_count": null,
   "id": "1217415b-96a5-4098-be7f-f7241b3ffd57",
   "metadata": {
    "scrolled": true,
    "tags": []
   },
   "outputs": [],
   "source": [
    "# your code here\n",
    "..."
   ]
  },
  {
   "cell_type": "markdown",
   "id": "cf02f26d-1dad-4279-9cca-f3286e6d930d",
   "metadata": {},
   "source": [
    "<div class=\"highlight-box\" style=\"border: 1px solid #ffcccb; background-color: #ffcccb; height: 5px;\"></div>"
   ]
  },
  {
   "cell_type": "markdown",
   "id": "78a2d858-7141-4ee4-b478-c55c99f95aa5",
   "metadata": {},
   "source": [
    "_Type your answer here, replacing this text._"
   ]
  },
  {
   "cell_type": "markdown",
   "id": "69791148-306f-44c5-b620-37fa4d477d12",
   "metadata": {},
   "source": [
    "<div class=\"highlight-box\" style=\"border: 1px solid #ffcccb; background-color: #ffcccb; height: 5px;\"></div>"
   ]
  },
  {
   "cell_type": "code",
   "execution_count": null,
   "id": "7b4f8ed5",
   "metadata": {
    "deletable": false,
    "editable": false
   },
   "outputs": [],
   "source": [
    "grader.check(\"dt\")"
   ]
  },
  {
   "cell_type": "markdown",
   "id": "25f9cf4e-3995-4407-a897-e803f632a488",
   "metadata": {
    "deletable": false,
    "editable": false
   },
   "source": [
    "## Model 3: Custom Model\n",
    "\n",
    "Develop a custom model of your choice using any methods covered in class up through Lecture 20 (so not boosting, neural networks, etc.). You are expected to perform model selection, tuning, evaluation, and interpretation.\n",
    "\n",
    "**Instructions**:\n",
    "1. **Model Selection & Training**\n",
    "   - Train a custom model of your choice, using any techniques and methods up to and including Lecture 20.\n",
    "   - Provide a detailed explanation of your modeling choices, including preprocessing, hyperparameter tuning, and rationale for model selection.\n",
    "\n",
    "2. **Prediction Generation**\n",
    "   - Generate predictions for the test dataset.\n",
    "   - Save your predictions in the following file path: `./submissions/submission_custom.csv`.\n",
    "   - Follow the structure of the expected submission file provided in `./data/example_submissions/example_submission_custom.csv`.\n",
    "\n",
    "3. **Feature Importance & Interpretation**\n",
    "   - Analyze and interpret feature importance where possible for your selected model.\n",
    "   - Provide visualizations and explanations to support your interpretations.\n",
    "\n",
    "**Kaggle Competition Link**: [Custom Model Kaggle Competition](https://www.kaggle.com/t/bb69567807ff4c32ba8599c06e773b8c)  \n",
    "**Kaggle Rules Summary**:\n",
    "- The model must use only methods covered in class up to and including Lecture 20 (**no boosting, no neural networks, etc.**).\n",
    "- Submissions will be **disqualified** if lacking sufficient description of the approach taken or if performance cannot be reproduced in your notebook.\n",
    "- No additional data beyond what was distributed with the assignment may be used (data derived from the provided dataset is allowed).\n",
    "\n",
    "---"
   ]
  },
  {
   "cell_type": "code",
   "execution_count": null,
   "id": "c2cd862e-9051-4bc2-8593-e198788eef1c",
   "metadata": {
    "tags": []
   },
   "outputs": [],
   "source": [
    "# your code here\n",
    "..."
   ]
  },
  {
   "cell_type": "markdown",
   "id": "0efded9c-3142-4d48-85dc-46a40a2b4c82",
   "metadata": {},
   "source": [
    "<div class=\"highlight-box\" style=\"border: 1px solid #ffcccb; background-color: #ffcccb; height: 5px;\"></div>"
   ]
  },
  {
   "cell_type": "markdown",
   "id": "7e076c2b-6618-4032-9344-e400b4a0c4ad",
   "metadata": {},
   "source": [
    "_Type your answer here, replacing this text._"
   ]
  },
  {
   "cell_type": "markdown",
   "id": "695889f2-8172-4a8a-b655-6fbf9dd3cf51",
   "metadata": {},
   "source": [
    "<div class=\"highlight-box\" style=\"border: 1px solid #ffcccb; background-color: #ffcccb; height: 5px;\"></div>"
   ]
  },
  {
   "cell_type": "code",
   "execution_count": null,
   "id": "e74325ad",
   "metadata": {
    "deletable": false,
    "editable": false
   },
   "outputs": [],
   "source": [
    "grader.check(\"custom\")"
   ]
  },
  {
   "cell_type": "markdown",
   "id": "c54fcaba-6305-4c3f-aafc-2f1fbcf2b719",
   "metadata": {
    "deletable": false,
    "editable": false
   },
   "source": [
    "## Model Comparison & Kaggle Submission\n",
    "- **Compare** all three models based on metrics such as F1 score, accuracy, and interpretability. There are many possible metrics for comparison. Consider those you judge to be particularly relevant for potential use cases of your classifier. \n",
    "- **Discuss** the strengths and weaknesses of each approach.\n",
    "- Submit your **best predictions** for each model to the 3 Kaggle competitions.\n",
    "    - [OvR Logistic Regression](https://www.kaggle.com/t/8e1458a396f54accb532b6afa535a8a9)\n",
    "    - [Decision Tree Classifier](https://www.kaggle.com/t/c2df59ec7be441fa84a882e2f2b8a03e)\n",
    "    - [Custom Model](https://www.kaggle.com/t/bb69567807ff4c32ba8599c06e773b8c)\n",
    "\n",
    "---"
   ]
  },
  {
   "cell_type": "code",
   "execution_count": null,
   "id": "e3410901-77f1-4970-954c-ac88f6e46c06",
   "metadata": {
    "tags": []
   },
   "outputs": [],
   "source": [
    "# your code here\n",
    "..."
   ]
  },
  {
   "cell_type": "markdown",
   "id": "769ecae3-f8ac-404d-b7f1-fd42a010c20a",
   "metadata": {},
   "source": [
    "<div class=\"highlight-box\" style=\"border: 1px solid #ffcccb; background-color: #ffcccb; height: 5px;\"></div>"
   ]
  },
  {
   "cell_type": "markdown",
   "id": "54b3ecf4-1b78-4627-88cf-4948cf10874b",
   "metadata": {},
   "source": [
    "_Type your answer here, replacing this text._"
   ]
  },
  {
   "cell_type": "markdown",
   "id": "86ea989c-0e3a-40f6-b1f9-28fbf88ebb02",
   "metadata": {},
   "source": [
    "<div class=\"highlight-box\" style=\"border: 1px solid #ffcccb; background-color: #ffcccb; height: 5px;\"></div>"
   ]
  },
  {
   "cell_type": "markdown",
   "id": "567cdec2-8262-4b7a-a999-e7dfb5db4067",
   "metadata": {
    "deletable": false,
    "editable": false
   },
   "source": [
    "## Bonus: Causal Inference\n",
    "- (Optional) Perform a causal inference analysis on a feature of your choice using one of the trained models.\n",
    "- Use a technique discussed in class, such as **propensity score matching**.\n",
    "\n",
    "---"
   ]
  },
  {
   "cell_type": "code",
   "execution_count": null,
   "id": "344284f4-393c-4b84-bc46-4118d33550c4",
   "metadata": {
    "tags": []
   },
   "outputs": [],
   "source": [
    "# your code here\n",
    "..."
   ]
  },
  {
   "cell_type": "markdown",
   "id": "3f51500f-2c3e-46e1-b230-3d16c3e615b2",
   "metadata": {},
   "source": [
    "<div class=\"highlight-box\" style=\"border: 1px solid #ffcccb; background-color: #ffcccb; height: 5px;\"></div>"
   ]
  },
  {
   "cell_type": "markdown",
   "id": "8ba547ee-e511-4c33-a78d-131368207e2b",
   "metadata": {},
   "source": [
    "_Type your answer here, replacing this text._"
   ]
  },
  {
   "cell_type": "markdown",
   "id": "0187d741-c0b2-41ab-8e0a-4d4c0d073026",
   "metadata": {},
   "source": [
    "<div class=\"highlight-box\" style=\"border: 1px solid #ffcccb; background-color: #ffcccb; height: 5px;\"></div>"
   ]
  },
  {
   "cell_type": "markdown",
   "id": "f228167d-e4b1-429d-be78-d1b8d60191be",
   "metadata": {
    "deletable": false,
    "editable": false
   },
   "source": [
    "## Wrap-up and Reflection\n",
    "- Provide insights on how these models could be used by educational institutions to improve student outcomes.\n",
    "- Please describe the aspect(s) of the assignment you found most challenging. This could be conceptual and/or related to coding and implementation. This is also a good place to ask any remaining questions you may have.\n",
    "- How many hours did you spend working on this assignment? Store this as an int or float in `hours_spent_on_hw`. If you worked on the project in a group, report the *average* time spent per person.\n",
    "\n",
    "---"
   ]
  },
  {
   "cell_type": "markdown",
   "id": "2f3ed225-9722-4180-b9b4-2369738584b2",
   "metadata": {},
   "source": [
    "<div class=\"highlight-box\" style=\"border: 1px solid #ffcccb; background-color: #ffcccb; height: 5px;\"></div>"
   ]
  },
  {
   "cell_type": "markdown",
   "id": "88ac9038-13d7-4175-bf40-c4135a6860e5",
   "metadata": {},
   "source": [
    "_Type your answer here, replacing this text._"
   ]
  },
  {
   "cell_type": "markdown",
   "id": "86ac2dd3-4578-4d72-8765-0f94dd0fe62c",
   "metadata": {},
   "source": [
    "<div class=\"highlight-box\" style=\"border: 1px solid #ffcccb; background-color: #ffcccb; height: 5px;\"></div>"
   ]
  },
  {
   "cell_type": "code",
   "execution_count": null,
   "id": "c0a3b274-b3d1-4f2e-becc-59e0f7fe4eea",
   "metadata": {
    "tags": []
   },
   "outputs": [],
   "source": [
    "hours_spent_on_hw = ..."
   ]
  },
  {
   "cell_type": "code",
   "execution_count": null,
   "id": "f032cbc2",
   "metadata": {
    "deletable": false,
    "editable": false
   },
   "outputs": [],
   "source": [
    "grader.check(\"wrapup\")"
   ]
  },
  {
   "cell_type": "code",
   "execution_count": null,
   "id": "068ea70e-b329-412c-bfa9-971185e933ff",
   "metadata": {},
   "outputs": [],
   "source": [
    "notebook_end = time.time()\n",
    "print(f\"It took {(notebook_end - notebook_start)/60:.2f} minutes for this notebook to run\")"
   ]
  },
  {
   "cell_type": "markdown",
   "id": "db39f628-9bda-4458-b29b-ccc070472b02",
   "metadata": {},
   "source": [
    "🌈 **This concludes HW5. Thank you!**\n"
   ]
  }
 ],
 "metadata": {
  "kernelspec": {
   "display_name": "Python 3 (ipykernel)",
   "language": "python",
   "name": "python3"
  },
  "language_info": {
   "codemirror_mode": {
    "name": "ipython",
    "version": 3
   },
   "file_extension": ".py",
   "mimetype": "text/x-python",
   "name": "python",
   "nbconvert_exporter": "python",
   "pygments_lexer": "ipython3",
   "version": "3.12.7"
  },
  "otter": {
   "OK_FORMAT": true,
   "tests": {
    "custom": {
     "name": "custom",
     "points": 0,
     "suites": [
      {
       "cases": [
        {
         "code": ">>> custom_path = './submissions/submission_custom.csv'\n>>> assert os.path.exists(custom_path), 'Custom Model submission file not found.'\n>>> df_custom = pd.read_csv(custom_path)\n>>> expected_columns_custom = ['ID', 'Custom_Predicted']\n>>> assert list(df_custom.columns) == expected_columns_custom, 'Custom Model submission file columns do not match the expected format.'\n",
         "hidden": false,
         "locked": false
        }
       ],
       "scored": true,
       "setup": "",
       "teardown": "",
       "type": "doctest"
      }
     ]
    },
    "dt": {
     "name": "dt",
     "points": 0,
     "suites": [
      {
       "cases": [
        {
         "code": ">>> dt_path = './submissions/submission_dt.csv'\n>>> assert os.path.exists(dt_path), 'Decision Tree submission file not found.'\n>>> df_dt = pd.read_csv(dt_path)\n>>> expected_columns_dt = ['ID', 'DT_Predicted']\n>>> assert list(df_dt.columns) == expected_columns_dt, 'Decision Tree submission file columns do not match the expected format.'\n",
         "hidden": false,
         "locked": false
        }
       ],
       "scored": true,
       "setup": "",
       "teardown": "",
       "type": "doctest"
      }
     ]
    },
    "logreg": {
     "name": "logreg",
     "points": 0,
     "suites": [
      {
       "cases": [
        {
         "code": ">>> logreg_path = './submissions/submission_logreg.csv'\n>>> assert os.path.exists(logreg_path), 'Logistic Regression submission file not found.'\n>>> df_logreg = pd.read_csv(logreg_path)\n>>> expected_columns_logreg = ['ID', 'LogReg_Predicted']\n>>> assert list(df_logreg.columns) == expected_columns_logreg, 'Logistic Regression submission file columns do not match the expected format.'\n",
         "hidden": false,
         "locked": false
        }
       ],
       "scored": true,
       "setup": "",
       "teardown": "",
       "type": "doctest"
      }
     ]
    },
    "wrapup": {
     "name": "wrapup",
     "points": 0,
     "suites": [
      {
       "cases": [
        {
         "code": ">>> assert float(hours_spent_on_hw), 'Please select a time in hours (int or float) to specify how long you spent on this assignment.'\n",
         "hidden": false,
         "locked": false
        }
       ],
       "scored": true,
       "setup": "",
       "teardown": "",
       "type": "doctest"
      }
     ]
    }
   }
  }
 },
 "nbformat": 4,
 "nbformat_minor": 5
}
