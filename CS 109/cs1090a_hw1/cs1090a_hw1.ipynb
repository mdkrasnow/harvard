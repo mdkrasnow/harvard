{
 "cells": [
  {
   "cell_type": "code",
   "execution_count": 53,
   "id": "911302d6",
   "metadata": {
    "deletable": false,
    "editable": false
   },
   "outputs": [],
   "source": [
    "# Initialize Otter\n",
    "import otter\n",
    "grader = otter.Notebook(\"cs1090a_hw1.ipynb\")"
   ]
  },
  {
   "cell_type": "markdown",
   "id": "7e3f31b6-e021-4842-b0ac-5fca2c0b4e92",
   "metadata": {},
   "source": [
    "# <img style=\"float: left; padding-right: 10px; width: 45px\" src=\"https://raw.githubusercontent.com/Harvard-IACS/2018-CS109A/master/content/styles/iacs.png\"> CS1090A Introduction to Data Science\n",
    "## Homework 1: Webscraping, Pandas, and EDA\n",
    "\n",
    "**Harvard University**<br/>\n",
    "**Fall 2024**<br/>\n",
    "**Instructors**: Pavlos Protopapas, Natesh Pillai, and Chris Gumb\n",
    "\n",
    "<hr style=\"height:2.4pt\">"
   ]
  },
  {
   "cell_type": "code",
   "execution_count": 54,
   "id": "0a6edac1-4b76-49be-8c7b-c67fc4dc959d",
   "metadata": {},
   "outputs": [],
   "source": [
    "import requests\n",
    "from bs4 import BeautifulSoup\n",
    "import numpy as np\n",
    "import pandas as pd\n",
    "import pyarrow as pa # optional\n",
    "import seaborn as sns\n",
    "import matplotlib.pyplot as plt\n",
    "import re\n",
    "import io\n",
    "import os.path\n",
    "import json\n",
    "import time\n",
    "import glob\n",
    "import asyncio # optional\n",
    "import aiohttp # optional\n",
    "from IPython.core.display import HTML\n",
    "from IPython import display"
   ]
  },
  {
   "cell_type": "code",
   "execution_count": 55,
   "id": "0bc3ec48-8dcd-4da4-b996-e2142edabd96",
   "metadata": {},
   "outputs": [],
   "source": [
    "# For calculating total notebook runtime\n",
    "notebook_start = time.time()"
   ]
  },
  {
   "cell_type": "code",
   "execution_count": 56,
   "id": "5cf897cf-d166-44a9-b2cb-f25dfaf0ed46",
   "metadata": {
    "jupyter": {
     "source_hidden": true
    }
   },
   "outputs": [
    {
     "data": {
      "text/html": [
       "<style>\n",
       "h3, h4 {\n",
       "    background-color: #7efcf5;\n",
       "    border-left: 5px solid #7ec4fc;\n",
       "    border-right: 5px solid #7ec4fc;\n",
       "    padding: 0em;\n",
       "}\n",
       "h3 {\n",
       "    background-color: #7efcf5;\n",
       "    border-top: 5px solid #7ec4fc;\n",
       "    border-left: 5px solid #7ec4fc;\n",
       "    border-right: 5px solid #7ec4fc;\n",
       "    padding: 0.5em;\n",
       "}\n",
       "p {\n",
       "    padding: 0.5em;\n",
       "    max-width: 34em;\n",
       "    font-weight:400;\n",
       "}\n",
       ".md {\n",
       "    max-width: 80ch;\n",
       "\n",
       "}\n",
       ".prompt {    \n",
       "    background-color: lightgreen;\n",
       "    border-color: #dFb5b4;\n",
       "    border-left: 5px solid #f57efc;\n",
       "    padding: 0.5em;\n",
       "    font-weight:500;\n",
       "    }\n",
       " </style>"
      ],
      "text/plain": [
       "<IPython.core.display.HTML object>"
      ]
     },
     "execution_count": 56,
     "metadata": {},
     "output_type": "execute_result"
    }
   ],
   "source": [
    "style = '''<style>\n",
    "h3, h4 {\n",
    "    background-color: #7efcf5;\n",
    "    border-left: 5px solid #7ec4fc;\n",
    "    border-right: 5px solid #7ec4fc;\n",
    "    padding: 0em;\n",
    "}\n",
    "h3 {\n",
    "    background-color: #7efcf5;\n",
    "    border-top: 5px solid #7ec4fc;\n",
    "    border-left: 5px solid #7ec4fc;\n",
    "    border-right: 5px solid #7ec4fc;\n",
    "    padding: 0.5em;\n",
    "}\n",
    "p {\n",
    "    padding: 0.5em;\n",
    "    max-width: 34em;\n",
    "    font-weight:400;\n",
    "}\n",
    ".md {\n",
    "    max-width: 80ch;\n",
    "\n",
    "}\n",
    ".prompt {    \n",
    "    background-color: lightgreen;\n",
    "    border-color: #dFb5b4;\n",
    "    border-left: 5px solid #f57efc;\n",
    "    padding: 0.5em;\n",
    "    font-weight:500;\n",
    "    }\n",
    " </style>'''\n",
    "HTML(style)"
   ]
  },
  {
   "cell_type": "markdown",
   "id": "e36ef44b-e503-42a2-8dee-44e1d8bbbbf3",
   "metadata": {},
   "source": [
    "## Assignment Overview\n",
    "\n",
    "You'll be working with data from screenboston.com, a website that aggregates movie screenings from various theaters in the Boston area. Your task is to collect this data, enrich it with information from Wikipedia, and then analyze and visualize the results.\n",
    "\n",
    "## Assignment Structure\n",
    "\n",
    "The assignment is divided into 8 main questions, each building upon the previous ones, followed by a wrap-up:\n",
    "\n",
    "1. Fetching HTML from screenboston.com (10 pts)\n",
    "2. Parsing HTML into structured data (15 pts)\n",
    "3. Augmenting data with historical snapshots (15 pts)\n",
    "4. Creating and manipulating a Pandas DataFrame (15 pts)\n",
    "5. Initial exploratory data analysis and visualization (15 pts)\n",
    "6. Finding Wikipedia pages for each screened film (7 pts)\n",
    "7. Storing Wikipedia HTML in the DataFrame (3 pts)\n",
    "8. Extracting and analyzing data from Wikipedia pages (15 pts)\n",
    "9. Wrap-up (5 pts)\n",
    "\n",
    "As you progress through these steps, you'll be transforming raw web data into a rich dataset ready for analysis. By the end, you'll have created a comprehensive overview of Boston's movie screening landscape, potentially uncovering interesting trends and patterns in the process. "
   ]
  },
  {
   "cell_type": "markdown",
   "id": "4d85b37d-d1b3-4575-971c-06c6006578eb",
   "metadata": {},
   "source": [
    "<div style = \"background: lightgreen; border: thin solid black; border-radius: 2px; padding: 5px\">\n",
    "\n",
    "### Instructions\n",
    "- To submit your notebook, follow the instructions given in on the Canvas assignment page.\n",
    "- Plots should be legible and interpretable *without having to refer to the code that generated them*. They should include labels for the $x$- and $y$-axes as well as a descriptive title and/or legend when appropriate.\n",
    "- When asked to interpret a visualization, do not simply describe it (e.g., \"the curve has a steep slope up\"), but instead explain what you believe the plot *means*.\n",
    "- Autograding tests are mostly to help you debug. The tests are not exhaustive so simply passing all tests may not be sufficient for full credit.\n",
    "- The use of *extremely* inefficient or error-prone code (e.g., copy-pasting nearly identical commands rather than looping) may result in only partial credit.\n",
    "- We have tried to include all the libraries you may need to do the assignment in the imports cell provided below. Please get course staff approval before importing any additional 3rd party libraries.\n",
    "- Enable scrolling output on cells with very long output. Or better yet, avoid overly long output altogether.\n",
    "- Feel free to add additional code or markdown cells as needed.\n",
    "- Don't forget to include a written response when one is requested by a question prompt.\n",
    "- Ensure your code runs top to bottom without error and passes all tests by restarting the kernel and running all cells (note that this can take a few minutes). \n",
    "- **You should do a \"Restart Kernel and Run All Cells\" before submitting to ensure (1) your notebook actually runs and (2) all output is visible**\n",
    "</div>"
   ]
  },
  {
   "cell_type": "markdown",
   "id": "4c06254d-bdbc-44e3-8c98-cdda42b0aab5",
   "metadata": {
    "deletable": false,
    "editable": false
   },
   "source": [
    "\n",
    "<div class=md>\n",
    "<h3>1. Getting HTML from screenboston.com</h3>\n",
    "\n",
    "<p>Our first step is to get the HTML content from the page at screenboston.com for analysis. To avoid having to make unnecessary future requests, you should write the content to disk.</p>\n",
    "\n",
    "\n",
    "\n",
    "<div class=prompt>\n",
    "    \n",
    "1. Use the `requests` library to get the html located at screenboston.com.\n",
    "1. Save it in the file `data/html/screenboston.html`.\n",
    "\n",
    "**Your code should only make an HTTP request if the file does not already exist.** \n",
    "\n",
    "**Hint:** the `os.path.isfile()` function can be used check if a file exists.\n",
    "</div>\n",
    "</div>\n"
   ]
  },
  {
   "cell_type": "code",
   "execution_count": 57,
   "id": "b0c2f172-b4f3-49c7-8544-cdf6ae0e33b9",
   "metadata": {
    "scrolled": true,
    "tags": []
   },
   "outputs": [],
   "source": [
    "file_path = 'data/html/screenboston.html'\n",
    "boston_url = 'https://screenboston.com'\n",
    "\n",
    "if not os.path.isfile(file_path):\n",
    "    response = requests.get(boston_url)\n",
    "    os.makedirs('data/html', exist_ok=True)\n",
    "\n",
    "    # open  / write the file\n",
    "    with open(file_path, 'w', encoding='utf-8') as file:\n",
    "        file.write(response.text)\n",
    "        file.close()\n",
    "    \n",
    "\n",
    "# no else statement -- there's nothing else to do\n"
   ]
  },
  {
   "cell_type": "code",
   "execution_count": 58,
   "id": "3a4994b5",
   "metadata": {},
   "outputs": [
    {
     "name": "stdout",
     "output_type": "stream",
     "text": [
      "<!DOCTYPE html>\n",
      "<html lang=\"en\">\n",
      "\t<head>\n",
      "\t\t<meta charset=\"utf-8\" />\n",
      "\t\t<meta name=\"viewport\" content=\"width=device-width, maximum-scale=1\" />\n",
      "\t\t\n",
      "\t\t<link href=\"./_app/immutable/assets/0.41087678.css\" rel=\"stylesheet\"><title>Screen Boston</title><!-- HEAD_svelte-i2fggh_START --><meta name=\"title\" content=\"Screen Boston\"><meta property=\"og:title\" content=\"Screen Boston\"><meta name=\"twitter:title\" content=\"Screen Boston\"><meta name=\"description\" content=\"Explore repertory and independent film screenings in the Boston area. Find movies playing in arthouse theaters near you: film festivals, special events, &amp; more.\"><meta property=\"og:description\" content=\"Explore repertory and independent film screenings in the Boston area. Find movies playing in arthouse theaters near you: film festivals, special events, &amp; more.\"><meta name=\"twitter:description\" content=\"Explore repertory and independent film screenings in the Boston area. Find movies playing in arthouse theaters near you: film festivals, special events, &amp; more.\"><meta property=\"og:image\" content=\"https://screenboston.com/social.png\"><meta name=\"twitter:image\" content=\"https://screenboston.com/social.png\"><meta name=\"twitter:image:alt\" content=\"Explore repertory and independent film screenings in the Boston area. Find movies playing in arthouse theaters near you: film festivals, special events, &amp; more.\"><meta name=\"twitter:card\" content=\"summary_large_image\"><link rel=\"apple-touch-icon\" sizes=\"180x180\" href=\"/favicon/apple-touch-icon.png\"><link rel=\"icon\" type=\"image/png\" sizes=\"32x32\" href=\"/favicon/favicon-32x32.png\"><link rel=\"icon\" type=\"image/png\" sizes=\"16x16\" href=\"/favicon/favicon-16x16.png\"><link rel=\"manifest\" href=\"/favicon/site.webmanifest\"><link rel=\"mask-icon\" href=\"/favicon/safari-pinned-tab.svg\" color=\"#5C6B95\"><link rel=\"shortcut icon\" href=\"/favicon/favicon.ico\"><meta name=\"msapplication-TileColor\" content=\"#5C6B95\"><meta name=\"msapplication-config\" content=\"/favicon/browserconfig.xml\"><meta name=\"theme-color\" content=\"#5C6B95\"><!-- HEAD_svelte-i2fggh_END -->\n",
      "\t</head>\n",
      "\t<script async src=\"https://www.googletagmanager.com/gtag/js?id=G-FY4ZL7VS35\"></script>\n",
      "\t<script>\n",
      "\t\twindow.dataLayer = window.dataLayer || [];\n",
      "\t\tfunction gtag() {\n",
      "\t\t\tdataLayer.push(arguments);\n",
      "\t\t}\n",
      "\t\tgtag('js', new Date());\n",
      "\n",
      "\t\tgtag('config', 'G-FY4ZL7VS35');\n",
      "\t</script>\n",
      "\t<body data-sveltekit-preload-data=\"hover\">\n",
      "\t\t<div style=\"display: contents\">  <div class=\"fixed w-screen p-1 uppercase text-white flex z-30 justify-between max-w-full nav\" data-svelte-h=\"svelte-tb1k3\"><a href=\"/\"><p class=\"small\">Screen Boston</p></a> <div class=\"flex gap-1 small\"><a href=\"/\">Schedule</a> <a href=\"/about\">About</a></div></div>  <div class=\"pt-[30px] z-0\"><div class=\"fixed z-30 w-full\"><div class=\"p-1 bg-primary text-white flex gap-1 pt-2 sm:pt-4 md:pb-[15px] w-full z-20 justify-between max-w-full\"><h1 class=\"hidden sm:block md:hidden lg:block header -ml-[2px]\" data-svelte-h=\"svelte-1smau1m\">Upcoming Screenings</h1> <p class=\"sm:hidden md:block lg:hidden header\" data-svelte-h=\"svelte-oheiqr\">Now Screening</p> <button class=\"uppercase big underline  underline-offset-2 hover:no-underline\"><svg class=\"h-[21px] md:h-[50px]\" viewBox=\"0 0 28 31\" fill=\"none\" xmlns=\"http://www.w3.org/2000/svg\"><path d=\"M9.3 13.95H6.2V17.05H9.3V13.95ZM15.5 13.95H12.4V17.05H15.5V13.95ZM21.7 13.95H18.6V17.05H21.7V13.95ZM27.9 3.1H23.25V0H20.15V3.1H7.75V0H4.65V3.1H0V31H27.9V3.1ZM24.8 27.9H3.1V10.85H24.8V27.9Z\" fill=\"white\"></path></svg></button> </div></div>  <div class=\"pt-[52.59px] sm:pt-[72.59px] md:pt-[108px] bg-[#e5e5e5]\"><div class=\"max-w-screen\" id=\"2024-09-15\"><div class=\"uppercase p-1 bg-white sticky top-[82.2px] sm:top-[102.2px] md:top-[137.2px] z-10\"><p class=\"small\">Sunday, September 15</p></div> <div class=\"max-w-screen grid lg:grid-cols-2 gap-0.5 p-0.5 px-1 pb-2 z-0 md:col-span-4 lg:col-span-2\"> <button class=\"w-full h-auto max-w-full text-left\"><div class=\"grid h-full md:grid-cols-5 gap-1 bg-white hover:bg-white/60 transition-colors p-1\"><div class=\"md:col-span-2\"><div class=\"aspect-w-16 aspect-h-9 \"><div class=\"bg-grey w-full h-full\"><img src=\"https://image.tmdb.org/t/p/original/m2SXRnAd0d5N6qH2cbgluRgMX4z.jpg\" srcset=\"https://image.tmdb.org/t/p/w300/m2SXRnAd0d5N6qH2cbgluRgMX4z.jpg 300w,\n",
      "\t\t\t\t\t\thttps://image.tmdb.org/t/p/w780/m2SXRnAd0d5N6qH2cbgluRgMX4z.jpg 780w,\n",
      "\t\t\t\t\t\thttps://image.tmdb.org/t/p/w1280/m2SXRnAd0d5N6qH2cbgluRgMX4z.jpg 1280w\n",
      "            https://image.tmdb.org/t/p/original/m2SXRnAd0d5N6qH2cbgluRgMX4z.jpg original\" class=\"w-full h-full object-cover opacity-0 duration-600 transition-opacity ease-in\" alt=\"Key Largo\"></div> </div></div> <div class=\"md:col-span-3 min-w-0 justify-between gap-4 md:gap-1 flex flex-col w-full sm:h-full\"><div class=\"w-full min-w-0\"><p class=\"big whitespace-normal w-full min-w-0 overflow-hidden\">Key Largo</p> <div class=\"\"> <p class=\"text-[14px] text-primary\">35mm</p></div></div> <div class=\"flex child:flex-1 gap-1 -mb-[3px] md:-mb-[.5px]\"><div><p class=\"\">John Huston</p> <p class=\"\">1948, Crime, 1h 40m</p></div> <div><p>The Brattle</p> <div class=\"flex gap-[6px]\"><p>12:00 PM </p></div></div></div></div></div></button> <button class=\"w-full h-auto max-w-full text-left\"><div class=\"grid h-full md:grid-cols-5 gap-1 bg-white hover:bg-white/60 transition-colors p-1\"><div class=\"md:col-span-2\"><div class=\"aspect-w-16 aspect-h-9  outline-primary outline-2 outline\"><div class=\"bg-grey w-full h-full\"><img src=\"https://image.tmdb.org/t/p/original/mx2jS5Kaa5rmaldEFzKeKpDN9Q2.jpg\" srcset=\"https://image.tmdb.org/t/p/w300/mx2jS5Kaa5rmaldEFzKeKpDN9Q2.jpg 300w,\n",
      "\t\t\t\t\t\thttps://image.tmdb.org/t/p/w780/mx2jS5Kaa5rmaldEFzKeKpDN9Q2.jpg 780w,\n",
      "\t\t\t\t\t\thttps://image.tmdb.org/t/p/w1280/mx2jS5Kaa5rmaldEFzKeKpDN9Q2.jpg 1280w\n",
      "            https://image.tmdb.org/t/p/original/mx2jS5Kaa5rmaldEFzKeKpDN9Q2.jpg original\" class=\"w-full h-full object-cover opacity-0 duration-600 transition-opacity ease-in\" alt=\"Lawrence of Arabia\"></div> <div class=\"body bg-primary text-white w-full mt-auto h-[17px]\" data-svelte-h=\"svelte-sr6h11\"><p class=\"px-[5px] text-[12px]\">SCREEN BOSTON CO-PRESENTS</p></div></div></div> <div class=\"md:col-span-3 min-w-0 justify-between gap-4 md:gap-1 flex flex-col w-full sm:h-full\"><div class=\"w-full min-w-0\"><p class=\"big whitespace-normal w-full min-w-0 overflow-hidden\">Lawrence of Arabia</p> <div class=\"\"> <p class=\"text-[14px] text-primary\">70mm</p></div></div> <div class=\"flex child:flex-1 gap-1 -mb-[3px] md:-mb-[.5px]\"><div><p class=\"\">David Lean</p> <p class=\"\">1962, Adventure, 3h 48m</p></div> <div><p>Coolidge Corner Theatre</p> <div class=\"flex gap-[6px]\"><p>2:00 PM </p></div></div></div></div></div></button> <button class=\"w-full h-auto max-w-full text-left\"><div class=\"grid h-full md:grid-cols-5 gap-1 bg-white hover:bg-white/60 transition-colors p-1\"><div class=\"md:col-span-2\"><div class=\"aspect-w-16 aspect-h-9 \"><div class=\"bg-grey w-full h-full\"><img src=\"https://image.tmdb.org/t/p/original/xoJiT00Koax8Zbj7pBzy6i6fOUh.jpg\" srcset=\"https://image.tmdb.org/t/p/w300/xoJiT00Koax8Zbj7pBzy6i6fOUh.jpg 300w,\n",
      "\t\t\t\t\t\thttps://image.tmdb.org/t/p/w780/xoJiT00Koax8Zbj7pBzy6i6fOUh.jpg 780w,\n",
      "\t\t\t\t\t\thttps://image.tmdb.org/t/p/w1280/xoJiT00Koax8Zbj7pBzy6i6fOUh.jpg 1280w\n",
      "            https://image.tmdb.org/t/p/original/xoJiT00Koax8Zbj7pBzy6i6fOUh.jpg original\" class=\"w-full h-full object-cover opacity-0 duration-600 transition-opacity ease-in\" alt=\"Written on the Wind\"></div> </div></div> <div class=\"md:col-span-3 min-w-0 justify-between gap-4 md:gap-1 flex flex-col w-full sm:h-full\"><div class=\"w-full min-w-0\"><p class=\"big whitespace-normal w-full min-w-0 overflow-hidden\">Written on the Wind</p> <div class=\"\"> <p class=\"text-[14px] text-primary\">35mm</p></div></div> <div class=\"flex child:flex-1 gap-1 -mb-[3px] md:-mb-[.5px]\"><div><p class=\"\">Douglas Sirk</p> <p class=\"\">1956, Drama, 1h 39m</p></div> <div><p>The Brattle</p> <div class=\"flex gap-[6px]\"><p>2:30 PM </p></div></div></div></div></div></button> <button class=\"w-full h-auto max-w-full text-left\"><div class=\"grid h-full md:grid-cols-5 gap-1 bg-white hover:bg-white/60 transition-colors p-1\"><div class=\"md:col-span-2\"><div class=\"aspect-w-16 aspect-h-9 \"><div class=\"bg-grey w-full h-full\"><img src=\"https://image.tmdb.org/t/p/original/b4yiLlIFuiULuuLTxT0Pt1QyT6J.jpg\" srcset=\"https://image.tmdb.org/t/p/w300/b4yiLlIFuiULuuLTxT0Pt1QyT6J.jpg 300w,\n",
      "\t\t\t\t\t\thttps://image.tmdb.org/t/p/w780/b4yiLlIFuiULuuLTxT0Pt1QyT6J.jpg 780w,\n",
      "\t\t\t\t\t\thttps://image.tmdb.org/t/p/w1280/b4yiLlIFuiULuuLTxT0Pt1QyT6J.jpg 1280w\n",
      "            https://image.tmdb.org/t/p/original/b4yiLlIFuiULuuLTxT0Pt1QyT6J.jpg original\" class=\"w-full h-full object-cover opacity-0 duration-600 transition-opacity ease-in\" alt=\"Alice in Wonderland\"></div> </div></div> <div class=\"md:col-span-3 min-w-0 justify-between gap-4 md:gap-1 flex flex-col w-full sm:h-full\"><div class=\"w-full min-w-0\"><p class=\"big whitespace-normal w-full min-w-0 overflow-hidden\">Alice in Wonderland</p> <div class=\"\"> <p class=\"text-[14px] text-primary\">35mm</p></div></div> <div class=\"flex child:flex-1 gap-1 -mb-[3px] md:-mb-[.5px]\"><div><p class=\"\">Clyde Geronimi, Wilfred Jackson, Hamilton Luske</p> <p class=\"\">1951, Animation, 1h 15m</p></div> <div><p>Harvard Film Archive</p> <div class=\"flex gap-[6px]\"><p>3:00 PM </p></div></div></div></div></div></button> <button class=\"w-full h-auto max-w-full text-left\"><div class=\"grid h-full md:grid-cols-5 gap-1 bg-white hover:bg-white/60 transition-colors p-1\"><div class=\"md:col-span-2\"><div class=\"aspect-w-16 aspect-h-9 \"><div class=\"bg-grey w-full h-full\"><img src=\"https://image.tmdb.org/t/p/original/pkOgOztKdFadcarmNZwrOcNHrdq.jpg\" srcset=\"https://image.tmdb.org/t/p/w300/pkOgOztKdFadcarmNZwrOcNHrdq.jpg 300w,\n",
      "\t\t\t\t\t\thttps://image.tmdb.org/t/p/w780/pkOgOztKdFadcarmNZwrOcNHrdq.jpg 780w,\n",
      "\t\t\t\t\t\thttps://image.tmdb.org/t/p/w1280/pkOgOztKdFadcarmNZwrOcNHrdq.jpg 1280w\n",
      "            https://image.tmdb.org/t/p/original/pkOgOztKdFadcarmNZwrOcNHrdq.jpg original\" class=\"w-full h-full object-cover opacity-0 duration-600 transition-opacity ease-in\" alt=\"How to Marry a Millionaire\"></div> </div></div> <div class=\"md:col-span-3 min-w-0 justify-between gap-4 md:gap-1 flex flex-col w-full sm:h-full\"><div class=\"w-full min-w-0\"><p class=\"big whitespace-normal w-full min-w-0 overflow-hidden\">How to Marry a Millionaire</p> <div class=\"\"> </div></div> <div class=\"flex child:flex-1 gap-1 -mb-[3px] md:-mb-[.5px]\"><div><p class=\"\">Jean Negulesco</p> <p class=\"\">1953, Comedy, 1h 35m</p></div> <div><p>The Brattle</p> <div class=\"flex gap-[6px]\"><p>4:45 PM </p></div></div></div></div></div></button> <button class=\"w-full h-auto max-w-full text-left\"><div class=\"grid h-full md:grid-cols-5 gap-1 bg-white hover:bg-white/60 transition-colors p-1\"><div class=\"md:col-span-2\"><div class=\"aspect-w-16 aspect-h-9 \"><div class=\"bg-grey w-full h-full\"><img src=\"https://image.tmdb.org/t/p/original/bqFO92d1idNAI4OOncUrduz2YoA.jpg\" srcset=\"https://image.tmdb.org/t/p/w300/bqFO92d1idNAI4OOncUrduz2YoA.jpg 300w,\n",
      "\t\t\t\t\t\thttps://image.tmdb.org/t/p/w780/bqFO92d1idNAI4OOncUrduz2YoA.jpg 780w,\n",
      "\t\t\t\t\t\thttps://image.tmdb.org/t/p/w1280/bqFO92d1idNAI4OOncUrduz2YoA.jpg 1280w\n",
      "            https://image.tmdb.org/t/p/original/bqFO92d1idNAI4OOncUrduz2YoA.jpg original\" class=\"w-full h-full object-cover opacity-0 duration-600 transition-opacity ease-in\" alt=\"Hackers\"></div> </div></div> <div class=\"md:col-span-3 min-w-0 justify-between gap-4 md:gap-1 flex flex-col w-full sm:h-full\"><div class=\"w-full min-w-0\"><p class=\"big whitespace-normal w-full min-w-0 overflow-hidden\">Hackers</p> <div class=\"\"> <p class=\"text-[14px] text-primary\">35mm</p></div></div> <div class=\"flex child:flex-1 gap-1 -mb-[3px] md:-mb-[.5px]\"><div><p class=\"\">Iain Softley</p> <p class=\"\">1995, Action, 1h 47m</p></div> <div><p>Somerville Theatre</p> <div class=\"flex gap-[6px]\"><p>6:00 PM </p></div></div></div></div></div></button> <button class=\"w-full h-auto max-w-full text-left\"><div class=\"grid h-full md:grid-cols-5 gap-1 bg-white hover:bg-white/60 transition-colors p-1\"><div class=\"md:col-span-2\"><div class=\"aspect-w-16 aspect-h-9 \"><div class=\"bg-grey w-full h-full\"><img src=\"https://image.tmdb.org/t/p/original/nfSaFuQkLqnCrwf300wM3xIY5sT.jpg\" srcset=\"https://image.tmdb.org/t/p/w300/nfSaFuQkLqnCrwf300wM3xIY5sT.jpg 300w,\n",
      "\t\t\t\t\t\thttps://image.tmdb.org/t/p/w780/nfSaFuQkLqnCrwf300wM3xIY5sT.jpg 780w,\n",
      "\t\t\t\t\t\thttps://image.tmdb.org/t/p/w1280/nfSaFuQkLqnCrwf300wM3xIY5sT.jpg 1280w\n",
      "            https://image.tmdb.org/t/p/original/nfSaFuQkLqnCrwf300wM3xIY5sT.jpg original\" class=\"w-full h-full object-cover opacity-0 duration-600 transition-opacity ease-in\" alt=\"Le Cercle Rouge\"></div> </div></div> <div class=\"md:col-span-3 min-w-0 justify-between gap-4 md:gap-1 flex flex-col w-full sm:h-full\"><div class=\"w-full min-w-0\"><p class=\"big whitespace-normal w-full min-w-0 overflow-hidden\">Le Cercle Rouge</p> <div class=\"\"> </div></div> <div class=\"flex child:flex-1 gap-1 -mb-[3px] md:-mb-[.5px]\"><div><p class=\"\">Jean-Pierre Melville</p> <p class=\"\">1970, Crime, 2h 20m</p></div> <div><p>Harvard Film Archive</p> <div class=\"flex gap-[6px]\"><p>7:00 PM </p></div></div></div></div></div></button> <button class=\"w-full h-auto max-w-full text-left\"><div class=\"grid h-full md:grid-cols-5 gap-1 bg-white hover:bg-white/60 transition-colors p-1\"><div class=\"md:col-span-2\"><div class=\"aspect-w-16 aspect-h-9 \"><div class=\"bg-grey w-full h-full\"><img src=\"https://image.tmdb.org/t/p/original/sNACthNvOoSTJxo240N5sqa67ip.jpg\" srcset=\"https://image.tmdb.org/t/p/w300/sNACthNvOoSTJxo240N5sqa67ip.jpg 300w,\n",
      "\t\t\t\t\t\thttps://image.tmdb.org/t/p/w780/sNACthNvOoSTJxo240N5sqa67ip.jpg 780w,\n",
      "\t\t\t\t\t\thttps://image.tmdb.org/t/p/w1280/sNACthNvOoSTJxo240N5sqa67ip.jpg 1280w\n",
      "            https://image.tmdb.org/t/p/original/sNACthNvOoSTJxo240N5sqa67ip.jpg original\" class=\"w-full h-full object-cover opacity-0 duration-600 transition-opacity ease-in\" alt=\"Dogville\"></div> </div></div> <div class=\"md:col-span-3 min-w-0 justify-between gap-4 md:gap-1 flex flex-col w-full sm:h-full\"><div class=\"w-full min-w-0\"><p class=\"big whitespace-normal w-full min-w-0 overflow-hidden\">Dogville</p> <div class=\"\"> </div></div> <div class=\"flex child:flex-1 gap-1 -mb-[3px] md:-mb-[.5px]\"><div><p class=\"\">Lars von Trier</p> <p class=\"\">2003, Crime, 2h 58m</p></div> <div><p>The Brattle</p> <div class=\"flex gap-[6px]\"><p>7:30 PM </p></div></div></div></div></div></button></div> </div><div class=\"max-w-screen\" id=\"2024-09-16\"><div class=\"uppercase p-1 bg-white sticky top-[82.2px] sm:top-[102.2px] md:top-[137.2px] z-10\"><p class=\"small\">Monday, September 16</p></div> <div class=\"max-w-screen grid lg:grid-cols-2 gap-0.5 p-0.5 px-1 pb-2 z-0 md:col-span-4 lg:col-span-2\"> <button class=\"w-full h-auto max-w-full text-left\"><div class=\"grid h-full md:grid-cols-5 gap-1 bg-white hover:bg-white/60 transition-colors p-1\"><div class=\"md:col-span-2\"><div class=\"aspect-w-16 aspect-h-9 \"><div class=\"bg-grey w-full h-full\"><img src=\"https://d8767d82p0jxq.cloudfront.net/eyJidWNrZXQiOiJzY3JlZW5ib3N0b25waG90b3MiLCJrZXkiOiJsYXJnZV90aGVfYmlnX3NsZWVwX1gwM19ibHUtcmF5Xy5qcGciLCJlZGl0cyI6eyJyZXNpemUiOnsid2lkdGgiOjEwNjAsImZpdCI6ImNvdmVyIn19fQ==\" srcset=\"https://d8767d82p0jxq.cloudfront.net/eyJidWNrZXQiOiJzY3JlZW5ib3N0b25waG90b3MiLCJrZXkiOiJsYXJnZV90aGVfYmlnX3NsZWVwX1gwM19ibHUtcmF5Xy5qcGciLCJlZGl0cyI6eyJyZXNpemUiOnsid2lkdGgiOjMwMCwiZml0IjoiY292ZXIifX19 300w, https://d8767d82p0jxq.cloudfront.net/eyJidWNrZXQiOiJzY3JlZW5ib3N0b25waG90b3MiLCJrZXkiOiJsYXJnZV90aGVfYmlnX3NsZWVwX1gwM19ibHUtcmF5Xy5qcGciLCJlZGl0cyI6eyJyZXNpemUiOnsid2lkdGgiOjYwMCwiZml0IjoiY292ZXIifX19 600w, https://d8767d82p0jxq.cloudfront.net/eyJidWNrZXQiOiJzY3JlZW5ib3N0b25waG90b3MiLCJrZXkiOiJsYXJnZV90aGVfYmlnX3NsZWVwX1gwM19ibHUtcmF5Xy5qcGciLCJlZGl0cyI6eyJyZXNpemUiOnsid2lkdGgiOjEwNjAsImZpdCI6ImNvdmVyIn19fQ== 1060w\" alt=\"The Big Sleep\" class=\"w-full h-full object-cover opacity-0 duration-600 transition-opacity ease-in\"></div> </div></div> <div class=\"md:col-span-3 min-w-0 justify-between gap-4 md:gap-1 flex flex-col w-full sm:h-full\"><div class=\"w-full min-w-0\"><p class=\"big whitespace-normal w-full min-w-0 overflow-hidden\">The Big Sleep</p> <div class=\"\"> <p class=\"text-[14px] text-primary\">35mm</p></div></div> <div class=\"flex child:flex-1 gap-1 -mb-[3px] md:-mb-[.5px]\"><div><p class=\"\">Howard Hawks</p> <p class=\"\">1946, Mystery, 1h 54m</p></div> <div><p>The Brattle</p> <div class=\"flex gap-[6px]\"><p>5:30 PM </p></div></div></div></div></div></button> <button class=\"w-full h-auto max-w-full text-left\"><div class=\"grid h-full md:grid-cols-5 gap-1 bg-white hover:bg-white/60 transition-colors p-1\"><div class=\"md:col-span-2\"><div class=\"aspect-w-16 aspect-h-9 \"><div class=\"bg-grey w-full h-full\"><img src=\"https://image.tmdb.org/t/p/original/veiWT3UYVvEOGCfGZLGDJtjJvdV.jpg\" srcset=\"https://image.tmdb.org/t/p/w300/veiWT3UYVvEOGCfGZLGDJtjJvdV.jpg 300w,\n",
      "\t\t\t\t\t\thttps://image.tmdb.org/t/p/w780/veiWT3UYVvEOGCfGZLGDJtjJvdV.jpg 780w,\n",
      "\t\t\t\t\t\thttps://image.tmdb.org/t/p/w1280/veiWT3UYVvEOGCfGZLGDJtjJvdV.jpg 1280w\n",
      "            https://image.tmdb.org/t/p/original/veiWT3UYVvEOGCfGZLGDJtjJvdV.jpg original\" class=\"w-full h-full object-cover opacity-0 duration-600 transition-opacity ease-in\" alt=\"The Straight Story\"></div> </div></div> <div class=\"md:col-span-3 min-w-0 justify-between gap-4 md:gap-1 flex flex-col w-full sm:h-full\"><div class=\"w-full min-w-0\"><p class=\"big whitespace-normal w-full min-w-0 overflow-hidden\">The Straight Story</p> <div class=\"\"> <p class=\"text-[14px] text-primary\">35mm</p></div></div> <div class=\"flex child:flex-1 gap-1 -mb-[3px] md:-mb-[.5px]\"><div><p class=\"\">David Lynch</p> <p class=\"\">1999, Drama, 1h 52m</p></div> <div><p>Coolidge Corner Theatre</p> <div class=\"flex gap-[6px]\"><p>7:00 PM </p></div></div></div></div></div></button> <button class=\"w-full h-auto max-w-full text-left\"><div class=\"grid h-full md:grid-cols-5 gap-1 bg-white hover:bg-white/60 transition-colors p-1\"><div class=\"md:col-span-2\"><div class=\"aspect-w-16 aspect-h-9 \"><div class=\"bg-grey w-full h-full\"><img src=\"https://image.tmdb.org/t/p/original/uvoOoMvI5n4K5PXi44yPMfu2Ibt.jpg\" srcset=\"https://image.tmdb.org/t/p/w300/uvoOoMvI5n4K5PXi44yPMfu2Ibt.jpg 300w,\n",
      "\t\t\t\t\t\thttps://image.tmdb.org/t/p/w780/uvoOoMvI5n4K5PXi44yPMfu2Ibt.jpg 780w,\n",
      "\t\t\t\t\t\thttps://image.tmdb.org/t/p/w1280/uvoOoMvI5n4K5PXi44yPMfu2Ibt.jpg 1280w\n",
      "            https://image.tmdb.org/t/p/original/uvoOoMvI5n4K5PXi44yPMfu2Ibt.jpg original\" class=\"w-full h-full object-cover opacity-0 duration-600 transition-opacity ease-in\" alt=\"Wheel of Fortune and Fantasy\"></div> </div></div> <div class=\"md:col-span-3 min-w-0 justify-between gap-4 md:gap-1 flex flex-col w-full sm:h-full\"><div class=\"w-full min-w-0\"><p class=\"big whitespace-normal w-full min-w-0 overflow-hidden\">Wheel of Fortune and Fantasy</p> <div class=\"\"><p class=\"text-[14px] text-primary\">RyÅ«suke Hamaguchi in Person</p> </div></div> <div class=\"flex child:flex-1 gap-1 -mb-[3px] md:-mb-[.5px]\"><div><p class=\"\">RyÅ«suke Hamaguchi</p> <p class=\"\">2021, Drama, 2h 1m</p></div> <div><p>Harvard Film Archive</p> <div class=\"flex gap-[6px]\"><p>7:00 PM </p></div></div></div></div></div></button> <button class=\"w-full h-auto max-w-full text-left\"><div class=\"grid h-full md:grid-cols-5 gap-1 bg-white hover:bg-white/60 transition-colors p-1\"><div class=\"md:col-span-2\"><div class=\"aspect-w-16 aspect-h-9 \"><div class=\"bg-grey w-full h-full\"><img src=\"https://image.tmdb.org/t/p/original/w5IDXtifKntw0ajv2co7jFlTQDM.jpg\" srcset=\"https://image.tmdb.org/t/p/w300/w5IDXtifKntw0ajv2co7jFlTQDM.jpg 300w,\n",
      "\t\t\t\t\t\thttps://image.tmdb.org/t/p/w780/w5IDXtifKntw0ajv2co7jFlTQDM.jpg 780w,\n",
      "\t\t\t\t\t\thttps://image.tmdb.org/t/p/w1280/w5IDXtifKntw0ajv2co7jFlTQDM.jpg 1280w\n",
      "            https://image.tmdb.org/t/p/original/w5IDXtifKntw0ajv2co7jFlTQDM.jpg original\" class=\"w-full h-full object-cover opacity-0 duration-600 transition-opacity ease-in\" alt=\"2001: A Space Odyssey\"></div> </div></div> <div class=\"md:col-span-3 min-w-0 justify-between gap-4 md:gap-1 flex flex-col w-full sm:h-full\"><div class=\"w-full min-w-0\"><p class=\"big whitespace-normal w-full min-w-0 overflow-hidden\">2001: A Space Odyssey</p> <div class=\"\"> <p class=\"text-[14px] text-primary\">70mm</p></div></div> <div class=\"flex child:flex-1 gap-1 -mb-[3px] md:-mb-[.5px]\"><div><p class=\"\">Stanley Kubrick</p> <p class=\"\">1968, SciFi, 2h 29m</p></div> <div><p>Coolidge Corner Theatre</p> <div class=\"flex gap-[6px]\"><p>7:30 PM </p></div></div></div></div></div></button> <button class=\"w-full h-auto max-w-full text-left\"><div class=\"grid h-full md:grid-cols-5 gap-1 bg-white hover:bg-white/60 transition-colors p-1\"><div class=\"md:col-span-2\"><div class=\"aspect-w-16 aspect-h-9 \"><div class=\"bg-grey w-full h-full\"><img src=\"https://image.tmdb.org/t/p/original/lSjWDLe8KwU731Bhs1TAwA7agGH.jpg\" srcset=\"https://image.tmdb.org/t/p/w300/lSjWDLe8KwU731Bhs1TAwA7agGH.jpg 300w,\n",
      "\t\t\t\t\t\thttps://image.tmdb.org/t/p/w780/lSjWDLe8KwU731Bhs1TAwA7agGH.jpg 780w,\n",
      "\t\t\t\t\t\thttps://image.tmdb.org/t/p/w1280/lSjWDLe8KwU731Bhs1TAwA7agGH.jpg 1280w\n",
      "            https://image.tmdb.org/t/p/original/lSjWDLe8KwU731Bhs1TAwA7agGH.jpg original\" class=\"w-full h-full object-cover opacity-0 duration-600 transition-opacity ease-in\" alt=\"Harper\"></div> </div></div> <div class=\"md:col-span-3 min-w-0 justify-between gap-4 md:gap-1 flex flex-col w-full sm:h-full\"><div class=\"w-full min-w-0\"><p class=\"big whitespace-normal w-full min-w-0 overflow-hidden\">Harper</p> <div class=\"\"> <p class=\"text-[14px] text-primary\">35mm</p></div></div> <div class=\"flex child:flex-1 gap-1 -mb-[3px] md:-mb-[.5px]\"><div><p class=\"\">Jack Smight</p> <p class=\"\">1966, Mystery, 2h 1m</p></div> <div><p>The Brattle</p> <div class=\"flex gap-[6px]\"><p>8:00 PM </p></div></div></div></div></div></button></div> </div><div class=\"max-w-screen\" id=\"2024-09-17\"><div class=\"uppercase p-1 bg-white sticky top-[82.2px] sm:top-[102.2px] md:top-[137.2px] z-10\"><p class=\"small\">Tuesday, September 17</p></div> <div class=\"max-w-screen grid lg:grid-cols-2 gap-0.5 p-0.5 px-1 pb-2 z-0 md:col-span-4 lg:col-span-2\"> <button class=\"w-full h-auto max-w-full text-left\"><div class=\"grid h-full md:grid-cols-5 gap-1 bg-white hover:bg-white/60 transition-colors p-1\"><div class=\"md:col-span-2\"><div class=\"aspect-w-16 aspect-h-9 \"><div class=\"bg-grey w-full h-full\"><img src=\"https://image.tmdb.org/t/p/original/aCUka2PmLUIUINsiTNzOIqjS3sW.jpg\" srcset=\"https://image.tmdb.org/t/p/w300/aCUka2PmLUIUINsiTNzOIqjS3sW.jpg 300w,\n",
      "\t\t\t\t\t\thttps://image.tmdb.org/t/p/w780/aCUka2PmLUIUINsiTNzOIqjS3sW.jpg 780w,\n",
      "\t\t\t\t\t\thttps://image.tmdb.org/t/p/w1280/aCUka2PmLUIUINsiTNzOIqjS3sW.jpg 1280w\n",
      "            https://image.tmdb.org/t/p/original/aCUka2PmLUIUINsiTNzOIqjS3sW.jpg original\" class=\"w-full h-full object-cover opacity-0 duration-600 transition-opacity ease-in\" alt=\"The 39 Steps\"></div> </div></div> <div class=\"md:col-span-3 min-w-0 justify-between gap-4 md:gap-1 flex flex-col w-full sm:h-full\"><div class=\"w-full min-w-0\"><p class=\"big whitespace-normal w-full min-w-0 overflow-hidden\">The 39 Steps</p> <div class=\"\"> </div></div> <div class=\"flex child:flex-1 gap-1 -mb-[3px] md:-mb-[.5px]\"><div><p class=\"\">Alfred Hitchcock</p> <p class=\"\">1935, Mystery, 1h 26m</p></div> <div><p>Somerville Theatre</p> <div class=\"flex gap-[6px]\"><p>7:00 PM </p></div></div></div></div></div></button> <button class=\"w-full h-auto max-w-full text-left\"><div class=\"grid h-full md:grid-cols-5 gap-1 bg-white hover:bg-white/60 transition-colors p-1\"><div class=\"md:col-span-2\"><div class=\"aspect-w-16 aspect-h-9 \"><div class=\"bg-grey w-full h-full\"><img src=\"https://image.tmdb.org/t/p/original/77aHwg1SCy89rfvQtiruPU58qEV.jpg\" srcset=\"https://image.tmdb.org/t/p/w300/77aHwg1SCy89rfvQtiruPU58qEV.jpg 300w,\n",
      "\t\t\t\t\t\thttps://image.tmdb.org/t/p/w780/77aHwg1SCy89rfvQtiruPU58qEV.jpg 780w,\n",
      "\t\t\t\t\t\thttps://image.tmdb.org/t/p/w1280/77aHwg1SCy89rfvQtiruPU58qEV.jpg 1280w\n",
      "            https://image.tmdb.org/t/p/original/77aHwg1SCy89rfvQtiruPU58qEV.jpg original\" class=\"w-full h-full object-cover opacity-0 duration-600 transition-opacity ease-in\" alt=\"Vertigo\"></div> </div></div> <div class=\"md:col-span-3 min-w-0 justify-between gap-4 md:gap-1 flex flex-col w-full sm:h-full\"><div class=\"w-full min-w-0\"><p class=\"big whitespace-normal w-full min-w-0 overflow-hidden\">Vertigo</p> <div class=\"\"> <p class=\"text-[14px] text-primary\">70mm</p></div></div> <div class=\"flex child:flex-1 gap-1 -mb-[3px] md:-mb-[.5px]\"><div><p class=\"\">Alfred Hitchcock</p> <p class=\"\">1958, Mystery, 2h 9m</p></div> <div><p>Coolidge Corner Theatre</p> <div class=\"flex gap-[6px]\"><p>7:30 PM </p></div></div></div></div></div></button> <button class=\"w-full h-auto max-w-full text-left\"><div class=\"grid h-full md:grid-cols-5 gap-1 bg-white hover:bg-white/60 transition-colors p-1\"><div class=\"md:col-span-2\"><div class=\"aspect-w-16 aspect-h-9 \"><div class=\"bg-grey w-full h-full\"><img src=\"https://image.tmdb.org/t/p/original/tAXK5R0ytrN2l2qgGfyxums5J0w.jpg\" srcset=\"https://image.tmdb.org/t/p/w300/tAXK5R0ytrN2l2qgGfyxums5J0w.jpg 300w,\n",
      "\t\t\t\t\t\thttps://image.tmdb.org/t/p/w780/tAXK5R0ytrN2l2qgGfyxums5J0w.jpg 780w,\n",
      "\t\t\t\t\t\thttps://image.tmdb.org/t/p/w1280/tAXK5R0ytrN2l2qgGfyxums5J0w.jpg 1280w\n",
      "            https://image.tmdb.org/t/p/original/tAXK5R0ytrN2l2qgGfyxums5J0w.jpg original\" class=\"w-full h-full object-cover opacity-0 duration-600 transition-opacity ease-in\" alt=\"Murder on the Orient Express\"></div> </div></div> <div class=\"md:col-span-3 min-w-0 justify-between gap-4 md:gap-1 flex flex-col w-full sm:h-full\"><div class=\"w-full min-w-0\"><p class=\"big whitespace-normal w-full min-w-0 overflow-hidden\">Murder on the Orient Express</p> <div class=\"\"> </div></div> <div class=\"flex child:flex-1 gap-1 -mb-[3px] md:-mb-[.5px]\"><div><p class=\"\">Sidney Lumet</p> <p class=\"\">1974, Drama, 2h 8m</p></div> <div><p>The Brattle</p> <div class=\"flex gap-[6px]\"><p>8:00 PM </p></div></div></div></div></div></button> <button class=\"w-full h-auto max-w-full text-left\"><div class=\"grid h-full md:grid-cols-5 gap-1 bg-white hover:bg-white/60 transition-colors p-1\"><div class=\"md:col-span-2\"><div class=\"aspect-w-16 aspect-h-9 \"><div class=\"bg-grey w-full h-full\"><img src=\"https://image.tmdb.org/t/p/original/15HEZcSKtLcl69avXfmjoIJBuay.jpg\" srcset=\"https://image.tmdb.org/t/p/w300/15HEZcSKtLcl69avXfmjoIJBuay.jpg 300w,\n",
      "\t\t\t\t\t\thttps://image.tmdb.org/t/p/w780/15HEZcSKtLcl69avXfmjoIJBuay.jpg 780w,\n",
      "\t\t\t\t\t\thttps://image.tmdb.org/t/p/w1280/15HEZcSKtLcl69avXfmjoIJBuay.jpg 1280w\n",
      "            https://image.tmdb.org/t/p/original/15HEZcSKtLcl69avXfmjoIJBuay.jpg original\" class=\"w-full h-full object-cover opacity-0 duration-600 transition-opacity ease-in\" alt=\"The Lady Vanishes\"></div> </div></div> <div class=\"md:col-span-3 min-w-0 justify-between gap-4 md:gap-1 flex flex-col w-full sm:h-full\"><div class=\"w-full min-w-0\"><p class=\"big whitespace-normal w-full min-w-0 overflow-hidden\">The Lady Vanishes</p> <div class=\"\"> </div></div> <div class=\"flex child:flex-1 gap-1 -mb-[3px] md:-mb-[.5px]\"><div><p class=\"\">Alfred Hitchcock</p> <p class=\"\">1938, Mystery, 1h 36m</p></div> <div><p>Somerville Theatre</p> <div class=\"flex gap-[6px]\"><p>8:40 PM </p></div></div></div></div></div></button></div> </div><div class=\"max-w-screen\" id=\"2024-09-18\"><div class=\"uppercase p-1 bg-white sticky top-[82.2px] sm:top-[102.2px] md:top-[137.2px] z-10\"><p class=\"small\">Wednesday, September 18</p></div> <div class=\"max-w-screen grid lg:grid-cols-2 gap-0.5 p-0.5 px-1 pb-2 z-0 md:col-span-4 lg:col-span-2\"> <button class=\"w-full h-auto max-w-full text-left\"><div class=\"grid h-full md:grid-cols-5 gap-1 bg-white hover:bg-white/60 transition-colors p-1\"><div class=\"md:col-span-2\"><div class=\"aspect-w-16 aspect-h-9 \"><div class=\"bg-grey w-full h-full\"><img src=\"https://image.tmdb.org/t/p/original/lSjWDLe8KwU731Bhs1TAwA7agGH.jpg\" srcset=\"https://image.tmdb.org/t/p/w300/lSjWDLe8KwU731Bhs1TAwA7agGH.jpg 300w,\n",
      "\t\t\t\t\t\thttps://image.tmdb.org/t/p/w780/lSjWDLe8KwU731Bhs1TAwA7agGH.jpg 780w,\n",
      "\t\t\t\t\t\thttps://image.tmdb.org/t/p/w1280/lSjWDLe8KwU731Bhs1TAwA7agGH.jpg 1280w\n",
      "            https://image.tmdb.org/t/p/original/lSjWDLe8KwU731Bhs1TAwA7agGH.jpg original\" class=\"w-full h-full object-cover opacity-0 duration-600 transition-opacity ease-in\" alt=\"Harper\"></div> </div></div> <div class=\"md:col-span-3 min-w-0 justify-between gap-4 md:gap-1 flex flex-col w-full sm:h-full\"><div class=\"w-full min-w-0\"><p class=\"big whitespace-normal w-full min-w-0 overflow-hidden\">Harper</p> <div class=\"\"> <p class=\"text-[14px] text-primary\">35mm</p></div></div> <div class=\"flex child:flex-1 gap-1 -mb-[3px] md:-mb-[.5px]\"><div><p class=\"\">Jack Smight</p> <p class=\"\">1966, Mystery, 2h 1m</p></div> <div><p>The Brattle</p> <div class=\"flex gap-[6px]\"><p>4:00 PM </p></div></div></div></div></div></button> <button class=\"w-full h-auto max-w-full text-left\"><div class=\"grid h-full md:grid-cols-5 gap-1 bg-white hover:bg-white/60 transition-colors p-1\"><div class=\"md:col-span-2\"><div class=\"aspect-w-16 aspect-h-9 \"><div class=\"bg-grey w-full h-full\"><img src=\"https://d8767d82p0jxq.cloudfront.net/eyJidWNrZXQiOiJzY3JlZW5ib3N0b25waG90b3MiLCJrZXkiOiI1YmUwYTNjYjE0Mjk1LmpwZyIsImVkaXRzIjp7InJlc2l6ZSI6eyJ3aWR0aCI6MTA2MCwiZml0IjoiY292ZXIifX19\" srcset=\"https://d8767d82p0jxq.cloudfront.net/eyJidWNrZXQiOiJzY3JlZW5ib3N0b25waG90b3MiLCJrZXkiOiI1YmUwYTNjYjE0Mjk1LmpwZyIsImVkaXRzIjp7InJlc2l6ZSI6eyJ3aWR0aCI6MzAwLCJmaXQiOiJjb3ZlciJ9fX0= 300w, https://d8767d82p0jxq.cloudfront.net/eyJidWNrZXQiOiJzY3JlZW5ib3N0b25waG90b3MiLCJrZXkiOiI1YmUwYTNjYjE0Mjk1LmpwZyIsImVkaXRzIjp7InJlc2l6ZSI6eyJ3aWR0aCI6NjAwLCJmaXQiOiJjb3ZlciJ9fX0= 600w, https://d8767d82p0jxq.cloudfront.net/eyJidWNrZXQiOiJzY3JlZW5ib3N0b25waG90b3MiLCJrZXkiOiI1YmUwYTNjYjE0Mjk1LmpwZyIsImVkaXRzIjp7InJlc2l6ZSI6eyJ3aWR0aCI6MTA2MCwiZml0IjoiY292ZXIifX19 1060w\" alt=\"A Faith Hubley Centennial (part 1)\" class=\"w-full h-full object-cover opacity-0 duration-600 transition-opacity ease-in\"></div> </div></div> <div class=\"md:col-span-3 min-w-0 justify-between gap-4 md:gap-1 flex flex-col w-full sm:h-full\"><div class=\"w-full min-w-0\"><p class=\"big whitespace-normal w-full min-w-0 overflow-hidden\">A Faith Hubley Centennial (part 1)</p> <div class=\"\"><p class=\"text-[14px] text-primary\">Filmmaker's Daughter in Person </p> <p class=\"text-[14px] text-primary -mt-[2px]\">35mm</p></div></div> <div class=\"flex child:flex-1 gap-1 -mb-[3px] md:-mb-[.5px]\"><div><p class=\"\">Faith Hubley</p> <p class=\"\">1974, Animation, 1h 15m</p></div> <div><p>The Brattle</p> <div class=\"flex gap-[6px]\"><p>7:00 PM </p></div></div></div></div></div></button> <button class=\"w-full h-auto max-w-full text-left\"><div class=\"grid h-full md:grid-cols-5 gap-1 bg-white hover:bg-white/60 transition-colors p-1\"><div class=\"md:col-span-2\"><div class=\"aspect-w-16 aspect-h-9  outline-primary outline-2 outline\"><div class=\"bg-grey w-full h-full\"><img src=\"https://image.tmdb.org/t/p/original/oRiUKwDpcqDdoLwPoA4FIRh3hqY.jpg\" srcset=\"https://image.tmdb.org/t/p/w300/oRiUKwDpcqDdoLwPoA4FIRh3hqY.jpg 300w,\n",
      "\t\t\t\t\t\thttps://image.tmdb.org/t/p/w780/oRiUKwDpcqDdoLwPoA4FIRh3hqY.jpg 780w,\n",
      "\t\t\t\t\t\thttps://image.tmdb.org/t/p/w1280/oRiUKwDpcqDdoLwPoA4FIRh3hqY.jpg 1280w\n",
      "            https://image.tmdb.org/t/p/original/oRiUKwDpcqDdoLwPoA4FIRh3hqY.jpg original\" class=\"w-full h-full object-cover opacity-0 duration-600 transition-opacity ease-in\" alt=\"Once Upon a Time... in Hollywood\"></div> <div class=\"body bg-primary text-white w-full mt-auto h-[17px]\" data-svelte-h=\"svelte-sr6h11\"><p class=\"px-[5px] text-[12px]\">SCREEN BOSTON CO-PRESENTS</p></div></div></div> <div class=\"md:col-span-3 min-w-0 justify-between gap-4 md:gap-1 flex flex-col w-full sm:h-full\"><div class=\"w-full min-w-0\"><p class=\"big whitespace-normal w-full min-w-0 overflow-hidden\">Once Upon a Time... in Hollywood</p> <div class=\"\"> <p class=\"text-[14px] text-primary\">70mm</p></div></div> <div class=\"flex child:flex-1 gap-1 -mb-[3px] md:-mb-[.5px]\"><div><p class=\"\">Quentin Tarantino</p> <p class=\"\">2019, Comedy, 2h 42m</p></div> <div><p>Coolidge Corner Theatre</p> <div class=\"flex gap-[6px]\"><p>7:30 PM </p></div></div></div></div></div></button></div> </div><div class=\"max-w-screen\" id=\"2024-09-19\"><div class=\"uppercase p-1 bg-white sticky top-[82.2px] sm:top-[102.2px] md:top-[137.2px] z-10\"><p class=\"small\">Thursday, September 19</p></div> <div class=\"max-w-screen grid lg:grid-cols-2 gap-0.5 p-0.5 px-1 pb-2 z-0 md:col-span-4 lg:col-span-2\"> <button class=\"w-full h-auto max-w-full text-left\"><div class=\"grid h-full md:grid-cols-5 gap-1 bg-white hover:bg-white/60 transition-colors p-1\"><div class=\"md:col-span-2\"><div class=\"aspect-w-16 aspect-h-9 \"><div class=\"bg-grey w-full h-full\"><img src=\"https://image.tmdb.org/t/p/original/xoJiT00Koax8Zbj7pBzy6i6fOUh.jpg\" srcset=\"https://image.tmdb.org/t/p/w300/xoJiT00Koax8Zbj7pBzy6i6fOUh.jpg 300w,\n",
      "\t\t\t\t\t\thttps://image.tmdb.org/t/p/w780/xoJiT00Koax8Zbj7pBzy6i6fOUh.jpg 780w,\n",
      "\t\t\t\t\t\thttps://image.tmdb.org/t/p/w1280/xoJiT00Koax8Zbj7pBzy6i6fOUh.jpg 1280w\n",
      "            https://image.tmdb.org/t/p/original/xoJiT00Koax8Zbj7pBzy6i6fOUh.jpg original\" class=\"w-full h-full object-cover opacity-0 duration-600 transition-opacity ease-in\" alt=\"Written on the Wind\"></div> </div></div> <div class=\"md:col-span-3 min-w-0 justify-between gap-4 md:gap-1 flex flex-col w-full sm:h-full\"><div class=\"w-full min-w-0\"><p class=\"big whitespace-normal w-full min-w-0 overflow-hidden\">Written on the Wind</p> <div class=\"\"> <p class=\"text-[14px] text-primary\">35mm</p></div></div> <div class=\"flex child:flex-1 gap-1 -mb-[3px] md:-mb-[.5px]\"><div><p class=\"\">Douglas Sirk</p> <p class=\"\">1956, Drama, 1h 39m</p></div> <div><p>The Brattle</p> <div class=\"flex gap-[6px]\"><p>4:00 PM </p></div></div></div></div></div></button> <button class=\"w-full h-auto max-w-full text-left\"><div class=\"grid h-full md:grid-cols-5 gap-1 bg-white hover:bg-white/60 transition-colors p-1\"><div class=\"md:col-span-2\"><div class=\"aspect-w-16 aspect-h-9 \"><div class=\"bg-grey w-full h-full\"><img src=\"https://image.tmdb.org/t/p/original/pdhDFmVQSA0f5i5IL0gpWROjgZ5.jpg\" srcset=\"https://image.tmdb.org/t/p/w300/pdhDFmVQSA0f5i5IL0gpWROjgZ5.jpg 300w,\n",
      "\t\t\t\t\t\thttps://image.tmdb.org/t/p/w780/pdhDFmVQSA0f5i5IL0gpWROjgZ5.jpg 780w,\n",
      "\t\t\t\t\t\thttps://image.tmdb.org/t/p/w1280/pdhDFmVQSA0f5i5IL0gpWROjgZ5.jpg 1280w\n",
      "            https://image.tmdb.org/t/p/original/pdhDFmVQSA0f5i5IL0gpWROjgZ5.jpg original\" class=\"w-full h-full object-cover opacity-0 duration-600 transition-opacity ease-in\" alt=\"Grease\"></div> </div></div> <div class=\"md:col-span-3 min-w-0 justify-between gap-4 md:gap-1 flex flex-col w-full sm:h-full\"><div class=\"w-full min-w-0\"><p class=\"big whitespace-normal w-full min-w-0 overflow-hidden\">Grease</p> <div class=\"\"><p class=\"text-[14px] text-primary\">Sing-Along</p> </div></div> <div class=\"flex child:flex-1 gap-1 -mb-[3px] md:-mb-[.5px]\"><div><p class=\"\">Randal Kleiser</p> <p class=\"\">1978, Romance, 1h 50m</p></div> <div><p>Coolidge Corner Theatre</p> <div class=\"flex gap-[6px]\"><p>7:00 PM </p></div></div></div></div></div></button> <button class=\"w-full h-auto max-w-full text-left\"><div class=\"grid h-full md:grid-cols-5 gap-1 bg-white hover:bg-white/60 transition-colors p-1\"><div class=\"md:col-span-2\"><div class=\"aspect-w-16 aspect-h-9 \"><div class=\"bg-grey w-full h-full\"><img src=\"https://image.tmdb.org/t/p/original/msCHK5Kh1YbdZ0zPJ2nzPUhhSN9.jpg\" srcset=\"https://image.tmdb.org/t/p/w300/msCHK5Kh1YbdZ0zPJ2nzPUhhSN9.jpg 300w,\n",
      "\t\t\t\t\t\thttps://image.tmdb.org/t/p/w780/msCHK5Kh1YbdZ0zPJ2nzPUhhSN9.jpg 780w,\n",
      "\t\t\t\t\t\thttps://image.tmdb.org/t/p/w1280/msCHK5Kh1YbdZ0zPJ2nzPUhhSN9.jpg 1280w\n",
      "            https://image.tmdb.org/t/p/original/msCHK5Kh1YbdZ0zPJ2nzPUhhSN9.jpg original\" class=\"w-full h-full object-cover opacity-0 duration-600 transition-opacity ease-in\" alt=\"Donnie Darko\"></div> </div></div> <div class=\"md:col-span-3 min-w-0 justify-between gap-4 md:gap-1 flex flex-col w-full sm:h-full\"><div class=\"w-full min-w-0\"><p class=\"big whitespace-normal w-full min-w-0 overflow-hidden\">Donnie Darko</p> <div class=\"\"> </div></div> <div class=\"flex child:flex-1 gap-1 -mb-[3px] md:-mb-[.5px]\"><div><p class=\"\">Richard Kelly</p> <p class=\"\">2001, Fantasy, 1h 54m</p></div> <div><p>Museum of Fine Arts</p> <div class=\"flex gap-[6px]\"><p>7:00 PM </p></div></div></div></div></div></button> <button class=\"w-full h-auto max-w-full text-left\"><div class=\"grid h-full md:grid-cols-5 gap-1 bg-white hover:bg-white/60 transition-colors p-1\"><div class=\"md:col-span-2\"><div class=\"aspect-w-16 aspect-h-9 \"><div class=\"bg-grey w-full h-full\"><img src=\"https://d8767d82p0jxq.cloudfront.net/eyJidWNrZXQiOiJzY3JlZW5ib3N0b25waG90b3MiLCJrZXkiOiJ3aW5keSBkYXkuanBnIiwiZWRpdHMiOnsicmVzaXplIjp7IndpZHRoIjoxMDYwLCJmaXQiOiJjb3ZlciJ9fX0=\" srcset=\"https://d8767d82p0jxq.cloudfront.net/eyJidWNrZXQiOiJzY3JlZW5ib3N0b25waG90b3MiLCJrZXkiOiJ3aW5keSBkYXkuanBnIiwiZWRpdHMiOnsicmVzaXplIjp7IndpZHRoIjozMDAsImZpdCI6ImNvdmVyIn19fQ== 300w, https://d8767d82p0jxq.cloudfront.net/eyJidWNrZXQiOiJzY3JlZW5ib3N0b25waG90b3MiLCJrZXkiOiJ3aW5keSBkYXkuanBnIiwiZWRpdHMiOnsicmVzaXplIjp7IndpZHRoIjo2MDAsImZpdCI6ImNvdmVyIn19fQ== 600w, https://d8767d82p0jxq.cloudfront.net/eyJidWNrZXQiOiJzY3JlZW5ib3N0b25waG90b3MiLCJrZXkiOiJ3aW5keSBkYXkuanBnIiwiZWRpdHMiOnsicmVzaXplIjp7IndpZHRoIjoxMDYwLCJmaXQiOiJjb3ZlciJ9fX0= 1060w\" alt=\"A Faith Hubley Centennial (Part 2)\" class=\"w-full h-full object-cover opacity-0 duration-600 transition-opacity ease-in\"></div> </div></div> <div class=\"md:col-span-3 min-w-0 justify-between gap-4 md:gap-1 flex flex-col w-full sm:h-full\"><div class=\"w-full min-w-0\"><p class=\"big whitespace-normal w-full min-w-0 overflow-hidden\">A Faith Hubley Centennial (Part 2)</p> <div class=\"\"><p class=\"text-[14px] text-primary\">Filmmaker's Daughter in Person </p> <p class=\"text-[14px] text-primary -mt-[2px]\">35mm</p></div></div> <div class=\"flex child:flex-1 gap-1 -mb-[3px] md:-mb-[.5px]\"><div><p class=\"\">Faith Hubley</p> <p class=\"\">1958, Animation, 1h 15m</p></div> <div><p>The Brattle</p> <div class=\"flex gap-[6px]\"><p>7:00 PM </p></div></div></div></div></div></button> <button class=\"w-full h-auto max-w-full text-left\"><div class=\"grid h-full md:grid-cols-5 gap-1 bg-white hover:bg-white/60 transition-colors p-1\"><div class=\"md:col-span-2\"><div class=\"aspect-w-16 aspect-h-9 \"><div class=\"bg-grey w-full h-full\"><img src=\"https://image.tmdb.org/t/p/original/grJi7ukBcPOH6hpGOw0v7tIZrds.jpg\" srcset=\"https://image.tmdb.org/t/p/w300/grJi7ukBcPOH6hpGOw0v7tIZrds.jpg 300w,\n",
      "\t\t\t\t\t\thttps://image.tmdb.org/t/p/w780/grJi7ukBcPOH6hpGOw0v7tIZrds.jpg 780w,\n",
      "\t\t\t\t\t\thttps://image.tmdb.org/t/p/w1280/grJi7ukBcPOH6hpGOw0v7tIZrds.jpg 1280w\n",
      "            https://image.tmdb.org/t/p/original/grJi7ukBcPOH6hpGOw0v7tIZrds.jpg original\" class=\"w-full h-full object-cover opacity-0 duration-600 transition-opacity ease-in\" alt=\"The Searchers\"></div> </div></div> <div class=\"md:col-span-3 min-w-0 justify-between gap-4 md:gap-1 flex flex-col w-full sm:h-full\"><div class=\"w-full min-w-0\"><p class=\"big whitespace-normal w-full min-w-0 overflow-hidden\">The Searchers</p> <div class=\"\"> <p class=\"text-[14px] text-primary\">70mm</p></div></div> <div class=\"flex child:flex-1 gap-1 -mb-[3px] md:-mb-[.5px]\"><div><p class=\"\">John Ford</p> <p class=\"\">1956, Western, 1h 59m</p></div> <div><p>Somerville Theatre</p> <div class=\"flex gap-[6px]\"><p>7:30 PM </p></div></div></div></div></div></button> <button class=\"w-full h-auto max-w-full text-left\"><div class=\"grid h-full md:grid-cols-5 gap-1 bg-white hover:bg-white/60 transition-colors p-1\"><div class=\"md:col-span-2\"><div class=\"aspect-w-16 aspect-h-9 \"><div class=\"bg-grey w-full h-full\"><img src=\"https://d8767d82p0jxq.cloudfront.net/eyJidWNrZXQiOiJzY3JlZW5ib3N0b25waG90b3MiLCJrZXkiOiJCdXRfSW1fYV9DaGVlcmxlYWRlci1NQUlOLmpwZyIsImVkaXRzIjp7InJlc2l6ZSI6eyJ3aWR0aCI6MTA2MCwiZml0IjoiY292ZXIifX19\" srcset=\"https://d8767d82p0jxq.cloudfront.net/eyJidWNrZXQiOiJzY3JlZW5ib3N0b25waG90b3MiLCJrZXkiOiJCdXRfSW1fYV9DaGVlcmxlYWRlci1NQUlOLmpwZyIsImVkaXRzIjp7InJlc2l6ZSI6eyJ3aWR0aCI6MzAwLCJmaXQiOiJjb3ZlciJ9fX0= 300w, https://d8767d82p0jxq.cloudfront.net/eyJidWNrZXQiOiJzY3JlZW5ib3N0b25waG90b3MiLCJrZXkiOiJCdXRfSW1fYV9DaGVlcmxlYWRlci1NQUlOLmpwZyIsImVkaXRzIjp7InJlc2l6ZSI6eyJ3aWR0aCI6NjAwLCJmaXQiOiJjb3ZlciJ9fX0= 600w, https://d8767d82p0jxq.cloudfront.net/eyJidWNrZXQiOiJzY3JlZW5ib3N0b25waG90b3MiLCJrZXkiOiJCdXRfSW1fYV9DaGVlcmxlYWRlci1NQUlOLmpwZyIsImVkaXRzIjp7InJlc2l6ZSI6eyJ3aWR0aCI6MTA2MCwiZml0IjoiY292ZXIifX19 1060w\" alt=\"But I'm a Cheerleader\" class=\"w-full h-full object-cover opacity-0 duration-600 transition-opacity ease-in\"></div> </div></div> <div class=\"md:col-span-3 min-w-0 justify-between gap-4 md:gap-1 flex flex-col w-full sm:h-full\"><div class=\"w-full min-w-0\"><p class=\"big whitespace-normal w-full min-w-0 overflow-hidden\">But I'm a Cheerleader</p> <div class=\"\"> </div></div> <div class=\"flex child:flex-1 gap-1 -mb-[3px] md:-mb-[.5px]\"><div><p class=\"\">Jamie Babbit</p> <p class=\"\">2000, Comedy, 1h 25m</p></div> <div><p>Coolidge Corner Theatre</p> <div class=\"flex gap-[6px]\"><p>9:55 PM </p></div></div></div></div></div></button></div> </div><div class=\"max-w-screen\" id=\"2024-09-20\"><div class=\"uppercase p-1 bg-white sticky top-[82.2px] sm:top-[102.2px] md:top-[137.2px] z-10\"><p class=\"small\">Friday, September 20</p></div> <div class=\"max-w-screen grid lg:grid-cols-2 gap-0.5 p-0.5 px-1 pb-2 z-0 md:col-span-4 lg:col-span-2\"> <button class=\"w-full h-auto max-w-full text-left\"><div class=\"grid h-full md:grid-cols-5 gap-1 bg-white hover:bg-white/60 transition-colors p-1\"><div class=\"md:col-span-2\"><div class=\"aspect-w-16 aspect-h-9  outline-primary outline-2 outline\"><div class=\"bg-grey w-full h-full\"><img src=\"https://image.tmdb.org/t/p/original/grJi7ukBcPOH6hpGOw0v7tIZrds.jpg\" srcset=\"https://image.tmdb.org/t/p/w300/grJi7ukBcPOH6hpGOw0v7tIZrds.jpg 300w,\n",
      "\t\t\t\t\t\thttps://image.tmdb.org/t/p/w780/grJi7ukBcPOH6hpGOw0v7tIZrds.jpg 780w,\n",
      "\t\t\t\t\t\thttps://image.tmdb.org/t/p/w1280/grJi7ukBcPOH6hpGOw0v7tIZrds.jpg 1280w\n",
      "            https://image.tmdb.org/t/p/original/grJi7ukBcPOH6hpGOw0v7tIZrds.jpg original\" class=\"w-full h-full object-cover opacity-0 duration-600 transition-opacity ease-in\" alt=\"The Searchers\"></div> <div class=\"body bg-primary text-white w-full mt-auto h-[17px]\" data-svelte-h=\"svelte-sr6h11\"><p class=\"px-[5px] text-[12px]\">SCREEN BOSTON CO-PRESENTS</p></div></div></div> <div class=\"md:col-span-3 min-w-0 justify-between gap-4 md:gap-1 flex flex-col w-full sm:h-full\"><div class=\"w-full min-w-0\"><p class=\"big whitespace-normal w-full min-w-0 overflow-hidden\">The Searchers</p> <div class=\"\"> <p class=\"text-[14px] text-primary\">70mm</p></div></div> <div class=\"flex child:flex-1 gap-1 -mb-[3px] md:-mb-[.5px]\"><div><p class=\"\">John Ford</p> <p class=\"\">1956, Western, 1h 59m</p></div> <div><p>Somerville Theatre</p> <div class=\"flex gap-[6px]\"><p>4:00 PM </p><p>7:30 PM </p></div></div></div></div></div></button> <button class=\"w-full h-auto max-w-full text-left\"><div class=\"grid h-full md:grid-cols-5 gap-1 bg-white hover:bg-white/60 transition-colors p-1\"><div class=\"md:col-span-2\"><div class=\"aspect-w-16 aspect-h-9 \"><div class=\"bg-grey w-full h-full\"><img src=\"https://image.tmdb.org/t/p/original/vNXGrknx4GjWLgmuNTftWZluIUl.jpg\" srcset=\"https://image.tmdb.org/t/p/w300/vNXGrknx4GjWLgmuNTftWZluIUl.jpg 300w,\n",
      "\t\t\t\t\t\thttps://image.tmdb.org/t/p/w780/vNXGrknx4GjWLgmuNTftWZluIUl.jpg 780w,\n",
      "\t\t\t\t\t\thttps://image.tmdb.org/t/p/w1280/vNXGrknx4GjWLgmuNTftWZluIUl.jpg 1280w\n",
      "            https://image.tmdb.org/t/p/original/vNXGrknx4GjWLgmuNTftWZluIUl.jpg original\" class=\"w-full h-full object-cover opacity-0 duration-600 transition-opacity ease-in\" alt=\"Whiplash\"></div> </div></div> <div class=\"md:col-span-3 min-w-0 justify-between gap-4 md:gap-1 flex flex-col w-full sm:h-full\"><div class=\"w-full min-w-0\"><p class=\"big whitespace-normal w-full min-w-0 overflow-hidden\">Whiplash</p> <div class=\"\"><p class=\"text-[14px] text-primary\">Start of 3-day run</p> </div></div> <div class=\"flex child:flex-1 gap-1 -mb-[3px] md:-mb-[.5px]\"><div><p class=\"\">Damien Chazelle</p> <p class=\"\">2014, Drama, 1h 47m</p></div> <div><p>Somerville Theatre</p> <div class=\"flex gap-[6px]\"><p>4:30 PM </p></div></div></div></div></div></button> <button class=\"w-full h-auto max-w-full text-left\"><div class=\"grid h-full md:grid-cols-5 gap-1 bg-white hover:bg-white/60 transition-colors p-1\"><div class=\"md:col-span-2\"><div class=\"aspect-w-16 aspect-h-9 \"><div class=\"bg-grey w-full h-full\"><img src=\"https://image.tmdb.org/t/p/original/5tEJWRXGEWQGZrCtJb5krxYvg6r.jpg\" srcset=\"https://image.tmdb.org/t/p/w300/5tEJWRXGEWQGZrCtJb5krxYvg6r.jpg 300w,\n",
      "\t\t\t\t\t\thttps://image.tmdb.org/t/p/w780/5tEJWRXGEWQGZrCtJb5krxYvg6r.jpg 780w,\n",
      "\t\t\t\t\t\thttps://image.tmdb.org/t/p/w1280/5tEJWRXGEWQGZrCtJb5krxYvg6r.jpg 1280w\n",
      "            https://image.tmdb.org/t/p/original/5tEJWRXGEWQGZrCtJb5krxYvg6r.jpg original\" class=\"w-full h-full object-cover opacity-0 duration-600 transition-opacity ease-in\" alt=\"The Silence of the Sea\"></div> </div></div> <div class=\"md:col-span-3 min-w-0 justify-between gap-4 md:gap-1 flex flex-col w-full sm:h-full\"><div class=\"w-full min-w-0\"><p class=\"big whitespace-normal w-full min-w-0 overflow-hidden\">The Silence of the Sea</p> <div class=\"\"> <p class=\"text-[14px] text-primary\">35mm</p></div></div> <div class=\"flex child:flex-1 gap-1 -mb-[3px] md:-mb-[.5px]\"><div><p class=\"\">Jean-Pierre Melville</p> <p class=\"\">1949, Drama, 1h 27m</p></div> <div><p>Harvard Film Archive</p> <div class=\"flex gap-[6px]\"><p>7:00 PM </p></div></div></div></div></div></button> <button class=\"w-full h-auto max-w-full text-left\"><div class=\"grid h-full md:grid-cols-5 gap-1 bg-white hover:bg-white/60 transition-colors p-1\"><div class=\"md:col-span-2\"><div class=\"aspect-w-16 aspect-h-9  outline-primary outline-2 outline\"><div class=\"bg-grey w-full h-full\"><img src=\"https://image.tmdb.org/t/p/original/aheSIG4h3JNxWeDvdb1NxKzgjaM.jpg\" srcset=\"https://image.tmdb.org/t/p/w300/aheSIG4h3JNxWeDvdb1NxKzgjaM.jpg 300w,\n",
      "\t\t\t\t\t\thttps://image.tmdb.org/t/p/w780/aheSIG4h3JNxWeDvdb1NxKzgjaM.jpg 780w,\n",
      "\t\t\t\t\t\thttps://image.tmdb.org/t/p/w1280/aheSIG4h3JNxWeDvdb1NxKzgjaM.jpg 1280w\n",
      "            https://image.tmdb.org/t/p/original/aheSIG4h3JNxWeDvdb1NxKzgjaM.jpg original\" class=\"w-full h-full object-cover opacity-0 duration-600 transition-opacity ease-in\" alt=\"Spartacus\"></div> <div class=\"body bg-primary text-white w-full mt-auto h-[17px]\" data-svelte-h=\"svelte-sr6h11\"><p class=\"px-[5px] text-[12px]\">SCREEN BOSTON CO-PRESENTS</p></div></div></div> <div class=\"md:col-span-3 min-w-0 justify-between gap-4 md:gap-1 flex flex-col w-full sm:h-full\"><div class=\"w-full min-w-0\"><p class=\"big whitespace-normal w-full min-w-0 overflow-hidden\">Spartacus</p> <div class=\"\"> <p class=\"text-[14px] text-primary\">70mm</p></div></div> <div class=\"flex child:flex-1 gap-1 -mb-[3px] md:-mb-[.5px]\"><div><p class=\"\">Stanley Kubrick</p> <p class=\"\">1960, History, 3h 17m</p></div> <div><p>Coolidge Corner Theatre</p> <div class=\"flex gap-[6px]\"><p>7:30 PM </p></div></div></div></div></div></button> <button class=\"w-full h-auto max-w-full text-left\"><div class=\"grid h-full md:grid-cols-5 gap-1 bg-white hover:bg-white/60 transition-colors p-1\"><div class=\"md:col-span-2\"><div class=\"aspect-w-16 aspect-h-9 \"><div class=\"bg-grey w-full h-full\"><img src=\"https://image.tmdb.org/t/p/original/b6njtlDwFR7ijJM5XPr9QmjjIVD.jpg\" srcset=\"https://image.tmdb.org/t/p/w300/b6njtlDwFR7ijJM5XPr9QmjjIVD.jpg 300w,\n",
      "\t\t\t\t\t\thttps://image.tmdb.org/t/p/w780/b6njtlDwFR7ijJM5XPr9QmjjIVD.jpg 780w,\n",
      "\t\t\t\t\t\thttps://image.tmdb.org/t/p/w1280/b6njtlDwFR7ijJM5XPr9QmjjIVD.jpg 1280w\n",
      "            https://image.tmdb.org/t/p/original/b6njtlDwFR7ijJM5XPr9QmjjIVD.jpg original\" class=\"w-full h-full object-cover opacity-0 duration-600 transition-opacity ease-in\" alt=\"Naked Acts\"></div> </div></div> <div class=\"md:col-span-3 min-w-0 justify-between gap-4 md:gap-1 flex flex-col w-full sm:h-full\"><div class=\"w-full min-w-0\"><p class=\"big whitespace-normal w-full min-w-0 overflow-hidden\">Naked Acts</p> <div class=\"\"> </div></div> <div class=\"flex child:flex-1 gap-1 -mb-[3px] md:-mb-[.5px]\"><div><p class=\"\">Bridgett M. Davis</p> <p class=\"\">1996, Comedy, 1h 27m</p></div> <div><p>The Brattle</p> <div class=\"flex gap-[6px]\"><p>8:00 PM </p></div></div></div></div></div></button> <button class=\"w-full h-auto max-w-full text-left\"><div class=\"grid h-full md:grid-cols-5 gap-1 bg-white hover:bg-white/60 transition-colors p-1\"><div class=\"md:col-span-2\"><div class=\"aspect-w-16 aspect-h-9 \"><div class=\"bg-grey w-full h-full\"><img src=\"https://image.tmdb.org/t/p/original/hw3VxoXg2YgJgMQbFr0VQu19EQu.jpg\" srcset=\"https://image.tmdb.org/t/p/w300/hw3VxoXg2YgJgMQbFr0VQu19EQu.jpg 300w,\n",
      "\t\t\t\t\t\thttps://image.tmdb.org/t/p/w780/hw3VxoXg2YgJgMQbFr0VQu19EQu.jpg 780w,\n",
      "\t\t\t\t\t\thttps://image.tmdb.org/t/p/w1280/hw3VxoXg2YgJgMQbFr0VQu19EQu.jpg 1280w\n",
      "            https://image.tmdb.org/t/p/original/hw3VxoXg2YgJgMQbFr0VQu19EQu.jpg original\" class=\"w-full h-full object-cover opacity-0 duration-600 transition-opacity ease-in\" alt=\"Moving\"></div> </div></div> <div class=\"md:col-span-3 min-w-0 justify-between gap-4 md:gap-1 flex flex-col w-full sm:h-full\"><div class=\"w-full min-w-0\"><p class=\"big whitespace-normal w-full min-w-0 overflow-hidden\">Moving</p> <div class=\"\"><p class=\"text-[14px] text-primary\">RyÅ«suke Hamaguchi in person</p> </div></div> <div class=\"flex child:flex-1 gap-1 -mb-[3px] md:-mb-[.5px]\"><div><p class=\"\">Shinji SÅmai</p> <p class=\"\">1993, Drama, 2h 4m</p></div> <div><p>Harvard Film Archive</p> <div class=\"flex gap-[6px]\"><p>9:00 PM </p></div></div></div></div></div></button> <button class=\"w-full h-auto max-w-full text-left\"><div class=\"grid h-full md:grid-cols-5 gap-1 bg-white hover:bg-white/60 transition-colors p-1\"><div class=\"md:col-span-2\"><div class=\"aspect-w-16 aspect-h-9 \"><div class=\"bg-grey w-full h-full\"><img src=\"https://image.tmdb.org/t/p/original/AsjEwOxebU1AF040QjfMkE8lskK.jpg\" srcset=\"https://image.tmdb.org/t/p/w300/AsjEwOxebU1AF040QjfMkE8lskK.jpg 300w,\n",
      "\t\t\t\t\t\thttps://image.tmdb.org/t/p/w780/AsjEwOxebU1AF040QjfMkE8lskK.jpg 780w,\n",
      "\t\t\t\t\t\thttps://image.tmdb.org/t/p/w1280/AsjEwOxebU1AF040QjfMkE8lskK.jpg 1280w\n",
      "            https://image.tmdb.org/t/p/original/AsjEwOxebU1AF040QjfMkE8lskK.jpg original\" class=\"w-full h-full object-cover opacity-0 duration-600 transition-opacity ease-in\" alt=\"Troll 2\"></div> </div></div> <div class=\"md:col-span-3 min-w-0 justify-between gap-4 md:gap-1 flex flex-col w-full sm:h-full\"><div class=\"w-full min-w-0\"><p class=\"big whitespace-normal w-full min-w-0 overflow-hidden\">Troll 2</p> <div class=\"\"> <p class=\"text-[14px] text-primary\">35mm</p></div></div> <div class=\"flex child:flex-1 gap-1 -mb-[3px] md:-mb-[.5px]\"><div><p class=\"\">Claudio Fragasso</p> <p class=\"\">1990, Horror, 1h 35m</p></div> <div><p>Coolidge Corner Theatre</p> <div class=\"flex gap-[6px]\"><p>11:59 PM </p></div></div></div></div></div></button></div> </div><div class=\"max-w-screen\" id=\"2024-09-21\"><div class=\"uppercase p-1 bg-white sticky top-[82.2px] sm:top-[102.2px] md:top-[137.2px] z-10\"><p class=\"small\">Saturday, September 21</p></div> <div class=\"max-w-screen grid lg:grid-cols-2 gap-0.5 p-0.5 px-1 pb-2 z-0 md:col-span-4 lg:col-span-2\"> <button class=\"w-full h-auto max-w-full text-left\"><div class=\"grid h-full md:grid-cols-5 gap-1 bg-white hover:bg-white/60 transition-colors p-1\"><div class=\"md:col-span-2\"><div class=\"aspect-w-16 aspect-h-9 \"><div class=\"bg-grey w-full h-full\"><img src=\"https://image.tmdb.org/t/p/original/r6aqhlmJmu8Dv5E7QYEruaEXKYm.jpg\" srcset=\"https://image.tmdb.org/t/p/w300/r6aqhlmJmu8Dv5E7QYEruaEXKYm.jpg 300w,\n",
      "\t\t\t\t\t\thttps://image.tmdb.org/t/p/w780/r6aqhlmJmu8Dv5E7QYEruaEXKYm.jpg 780w,\n",
      "\t\t\t\t\t\thttps://image.tmdb.org/t/p/w1280/r6aqhlmJmu8Dv5E7QYEruaEXKYm.jpg 1280w\n",
      "            https://image.tmdb.org/t/p/original/r6aqhlmJmu8Dv5E7QYEruaEXKYm.jpg original\" class=\"w-full h-full object-cover opacity-0 duration-600 transition-opacity ease-in\" alt=\"Drive My Car\"></div> </div></div> <div class=\"md:col-span-3 min-w-0 justify-between gap-4 md:gap-1 flex flex-col w-full sm:h-full\"><div class=\"w-full min-w-0\"><p class=\"big whitespace-normal w-full min-w-0 overflow-hidden\">Drive My Car</p> <div class=\"\"><p class=\"text-[14px] text-primary\">RyÅ«suke Hamaguchi in Person</p> </div></div> <div class=\"flex child:flex-1 gap-1 -mb-[3px] md:-mb-[.5px]\"><div><p class=\"\">RyÅ«suke Hamaguchi</p> <p class=\"\">2021, Drama, 2h 59m</p></div> <div><p>Harvard Film Archive</p> <div class=\"flex gap-[6px]\"><p>6:00 PM </p></div></div></div></div></div></button> <button class=\"w-full h-auto max-w-full text-left\"><div class=\"grid h-full md:grid-cols-5 gap-1 bg-white hover:bg-white/60 transition-colors p-1\"><div class=\"md:col-span-2\"><div class=\"aspect-w-16 aspect-h-9 \"><div class=\"bg-grey w-full h-full\"><img src=\"https://image.tmdb.org/t/p/original/b6njtlDwFR7ijJM5XPr9QmjjIVD.jpg\" srcset=\"https://image.tmdb.org/t/p/w300/b6njtlDwFR7ijJM5XPr9QmjjIVD.jpg 300w,\n",
      "\t\t\t\t\t\thttps://image.tmdb.org/t/p/w780/b6njtlDwFR7ijJM5XPr9QmjjIVD.jpg 780w,\n",
      "\t\t\t\t\t\thttps://image.tmdb.org/t/p/w1280/b6njtlDwFR7ijJM5XPr9QmjjIVD.jpg 1280w\n",
      "            https://image.tmdb.org/t/p/original/b6njtlDwFR7ijJM5XPr9QmjjIVD.jpg original\" class=\"w-full h-full object-cover opacity-0 duration-600 transition-opacity ease-in\" alt=\"Naked Acts\"></div> </div></div> <div class=\"md:col-span-3 min-w-0 justify-between gap-4 md:gap-1 flex flex-col w-full sm:h-full\"><div class=\"w-full min-w-0\"><p class=\"big whitespace-normal w-full min-w-0 overflow-hidden\">Naked Acts</p> <div class=\"\"> </div></div> <div class=\"flex child:flex-1 gap-1 -mb-[3px] md:-mb-[.5px]\"><div><p class=\"\">Bridgett M. Davis</p> <p class=\"\">1996, Comedy, 1h 27m</p></div> <div><p>The Brattle</p> <div class=\"flex gap-[6px]\"><p>7:00 PM </p></div></div></div></div></div></button> <button class=\"w-full h-auto max-w-full text-left\"><div class=\"grid h-full md:grid-cols-5 gap-1 bg-white hover:bg-white/60 transition-colors p-1\"><div class=\"md:col-span-2\"><div class=\"aspect-w-16 aspect-h-9  outline-primary outline-2 outline\"><div class=\"bg-grey w-full h-full\"><img src=\"https://d8767d82p0jxq.cloudfront.net/eyJidWNrZXQiOiJzY3JlZW5ib3N0b25waG90b3MiLCJrZXkiOiJlOHVBc0Q5c2JIQnkyYmtXMUVta0ppQjNIa2UuanBnIiwiZWRpdHMiOnsicmVzaXplIjp7IndpZHRoIjoxMDYwLCJmaXQiOiJjb3ZlciJ9fX0=\" srcset=\"https://d8767d82p0jxq.cloudfront.net/eyJidWNrZXQiOiJzY3JlZW5ib3N0b25waG90b3MiLCJrZXkiOiJlOHVBc0Q5c2JIQnkyYmtXMUVta0ppQjNIa2UuanBnIiwiZWRpdHMiOnsicmVzaXplIjp7IndpZHRoIjozMDAsImZpdCI6ImNvdmVyIn19fQ== 300w, https://d8767d82p0jxq.cloudfront.net/eyJidWNrZXQiOiJzY3JlZW5ib3N0b25waG90b3MiLCJrZXkiOiJlOHVBc0Q5c2JIQnkyYmtXMUVta0ppQjNIa2UuanBnIiwiZWRpdHMiOnsicmVzaXplIjp7IndpZHRoIjo2MDAsImZpdCI6ImNvdmVyIn19fQ== 600w, https://d8767d82p0jxq.cloudfront.net/eyJidWNrZXQiOiJzY3JlZW5ib3N0b25waG90b3MiLCJrZXkiOiJlOHVBc0Q5c2JIQnkyYmtXMUVta0ppQjNIa2UuanBnIiwiZWRpdHMiOnsicmVzaXplIjp7IndpZHRoIjoxMDYwLCJmaXQiOiJjb3ZlciJ9fX0= 1060w\" alt=\"Inception\" class=\"w-full h-full object-cover opacity-0 duration-600 transition-opacity ease-in\"></div> <div class=\"body bg-primary text-white w-full mt-auto h-[17px]\" data-svelte-h=\"svelte-sr6h11\"><p class=\"px-[5px] text-[12px]\">SCREEN BOSTON CO-PRESENTS</p></div></div></div> <div class=\"md:col-span-3 min-w-0 justify-between gap-4 md:gap-1 flex flex-col w-full sm:h-full\"><div class=\"w-full min-w-0\"><p class=\"big whitespace-normal w-full min-w-0 overflow-hidden\">Inception</p> <div class=\"\"> <p class=\"text-[14px] text-primary\">70mm</p></div></div> <div class=\"flex child:flex-1 gap-1 -mb-[3px] md:-mb-[.5px]\"><div><p class=\"\">Christopher Nolan</p> <p class=\"\">2010, Action, 2h 28m</p></div> <div><p>Coolidge Corner Theatre</p> <div class=\"flex gap-[6px]\"><p>7:30 PM </p></div></div></div></div></div></button> <button class=\"w-full h-auto max-w-full text-left\"><div class=\"grid h-full md:grid-cols-5 gap-1 bg-white hover:bg-white/60 transition-colors p-1\"><div class=\"md:col-span-2\"><div class=\"aspect-w-16 aspect-h-9 \"><div class=\"bg-grey w-full h-full\"><img src=\"https://image.tmdb.org/t/p/original/bng2PBTeyJPty1Q5jryigxvfVst.jpg\" srcset=\"https://image.tmdb.org/t/p/w300/bng2PBTeyJPty1Q5jryigxvfVst.jpg 300w,\n",
      "\t\t\t\t\t\thttps://image.tmdb.org/t/p/w780/bng2PBTeyJPty1Q5jryigxvfVst.jpg 780w,\n",
      "\t\t\t\t\t\thttps://image.tmdb.org/t/p/w1280/bng2PBTeyJPty1Q5jryigxvfVst.jpg 1280w\n",
      "            https://image.tmdb.org/t/p/original/bng2PBTeyJPty1Q5jryigxvfVst.jpg original\" class=\"w-full h-full object-cover opacity-0 duration-600 transition-opacity ease-in\" alt=\"Wigstock: The Movie\"></div> </div></div> <div class=\"md:col-span-3 min-w-0 justify-between gap-4 md:gap-1 flex flex-col w-full sm:h-full\"><div class=\"w-full min-w-0\"><p class=\"big whitespace-normal w-full min-w-0 overflow-hidden\">Wigstock: The Movie</p> <div class=\"\"> </div></div> <div class=\"flex child:flex-1 gap-1 -mb-[3px] md:-mb-[.5px]\"><div><p class=\"\">Barry Shils</p> <p class=\"\">1995, Documentary, 1h 25m</p></div> <div><p>Somerville Theatre</p> <div class=\"flex gap-[6px]\"><p>11:59 PM </p></div></div></div></div></div></button> <button class=\"w-full h-auto max-w-full text-left\"><div class=\"grid h-full md:grid-cols-5 gap-1 bg-white hover:bg-white/60 transition-colors p-1\"><div class=\"md:col-span-2\"><div class=\"aspect-w-16 aspect-h-9 \"><div class=\"bg-grey w-full h-full\"><img src=\"https://image.tmdb.org/t/p/original/fsyLxF8eIfZ2Z7DXmjD6n9vHmb8.jpg\" srcset=\"https://image.tmdb.org/t/p/w300/fsyLxF8eIfZ2Z7DXmjD6n9vHmb8.jpg 300w,\n",
      "\t\t\t\t\t\thttps://image.tmdb.org/t/p/w780/fsyLxF8eIfZ2Z7DXmjD6n9vHmb8.jpg 780w,\n",
      "\t\t\t\t\t\thttps://image.tmdb.org/t/p/w1280/fsyLxF8eIfZ2Z7DXmjD6n9vHmb8.jpg 1280w\n",
      "            https://image.tmdb.org/t/p/original/fsyLxF8eIfZ2Z7DXmjD6n9vHmb8.jpg original\" class=\"w-full h-full object-cover opacity-0 duration-600 transition-opacity ease-in\" alt=\"The Room\"></div> </div></div> <div class=\"md:col-span-3 min-w-0 justify-between gap-4 md:gap-1 flex flex-col w-full sm:h-full\"><div class=\"w-full min-w-0\"><p class=\"big whitespace-normal w-full min-w-0 overflow-hidden\">The Room</p> <div class=\"\"><p class=\"text-[14px] text-primary\">Greg Sestero in Person</p> </div></div> <div class=\"flex child:flex-1 gap-1 -mb-[3px] md:-mb-[.5px]\"><div><p class=\"\">Tommy Wiseau</p> <p class=\"\">2003, Drama, 1h 39m</p></div> <div><p>Coolidge Corner Theatre</p> <div class=\"flex gap-[6px]\"><p>11:59 PM </p></div></div></div></div></div></button></div> </div><div class=\"max-w-screen\" id=\"2024-09-22\"><div class=\"uppercase p-1 bg-white sticky top-[82.2px] sm:top-[102.2px] md:top-[137.2px] z-10\"><p class=\"small\">Sunday, September 22</p></div> <div class=\"max-w-screen grid lg:grid-cols-2 gap-0.5 p-0.5 px-1 pb-2 z-0 md:col-span-4 lg:col-span-2\"> <button class=\"w-full h-auto max-w-full text-left\"><div class=\"grid h-full md:grid-cols-5 gap-1 bg-white hover:bg-white/60 transition-colors p-1\"><div class=\"md:col-span-2\"><div class=\"aspect-w-16 aspect-h-9 \"><div class=\"bg-grey w-full h-full\"><img src=\"https://image.tmdb.org/t/p/original/AtjFp3vATGr21Ao55Vsg4IXM13E.jpg\" srcset=\"https://image.tmdb.org/t/p/w300/AtjFp3vATGr21Ao55Vsg4IXM13E.jpg 300w,\n",
      "\t\t\t\t\t\thttps://image.tmdb.org/t/p/w780/AtjFp3vATGr21Ao55Vsg4IXM13E.jpg 780w,\n",
      "\t\t\t\t\t\thttps://image.tmdb.org/t/p/w1280/AtjFp3vATGr21Ao55Vsg4IXM13E.jpg 1280w\n",
      "            https://image.tmdb.org/t/p/original/AtjFp3vATGr21Ao55Vsg4IXM13E.jpg original\" class=\"w-full h-full object-cover opacity-0 duration-600 transition-opacity ease-in\" alt=\"Beyond the Blue Border\"></div> </div></div> <div class=\"md:col-span-3 min-w-0 justify-between gap-4 md:gap-1 flex flex-col w-full sm:h-full\"><div class=\"w-full min-w-0\"><p class=\"big whitespace-normal w-full min-w-0 overflow-hidden\">Beyond the Blue Border</p> <div class=\"\"> </div></div> <div class=\"flex child:flex-1 gap-1 -mb-[3px] md:-mb-[.5px]\"><div><p class=\"\">Sarah Neumann</p> <p class=\"\">2024, Drama, 1h 42m</p></div> <div><p>Coolidge Corner Theatre</p> <div class=\"flex gap-[6px]\"><p>11:00 AM </p></div></div></div></div></div></button> <button class=\"w-full h-auto max-w-full text-left\"><div class=\"grid h-full md:grid-cols-5 gap-1 bg-white hover:bg-white/60 transition-colors p-1\"><div class=\"md:col-span-2\"><div class=\"aspect-w-16 aspect-h-9 \"><div class=\"bg-grey w-full h-full\"><img src=\"https://image.tmdb.org/t/p/original/b6njtlDwFR7ijJM5XPr9QmjjIVD.jpg\" srcset=\"https://image.tmdb.org/t/p/w300/b6njtlDwFR7ijJM5XPr9QmjjIVD.jpg 300w,\n",
      "\t\t\t\t\t\thttps://image.tmdb.org/t/p/w780/b6njtlDwFR7ijJM5XPr9QmjjIVD.jpg 780w,\n",
      "\t\t\t\t\t\thttps://image.tmdb.org/t/p/w1280/b6njtlDwFR7ijJM5XPr9QmjjIVD.jpg 1280w\n",
      "            https://image.tmdb.org/t/p/original/b6njtlDwFR7ijJM5XPr9QmjjIVD.jpg original\" class=\"w-full h-full object-cover opacity-0 duration-600 transition-opacity ease-in\" alt=\"Naked Acts\"></div> </div></div> <div class=\"md:col-span-3 min-w-0 justify-between gap-4 md:gap-1 flex flex-col w-full sm:h-full\"><div class=\"w-full min-w-0\"><p class=\"big whitespace-normal w-full min-w-0 overflow-hidden\">Naked Acts</p> <div class=\"\"> </div></div> <div class=\"flex child:flex-1 gap-1 -mb-[3px] md:-mb-[.5px]\"><div><p class=\"\">Bridgett M. Davis</p> <p class=\"\">1996, Comedy, 1h 27m</p></div> <div><p>The Brattle</p> <div class=\"flex gap-[6px]\"><p>12:30 PM </p><p>5:00 PM </p><p>7:00 PM </p></div></div></div></div></div></button> <button class=\"w-full h-auto max-w-full text-left\"><div class=\"grid h-full md:grid-cols-5 gap-1 bg-white hover:bg-white/60 transition-colors p-1\"><div class=\"md:col-span-2\"><div class=\"aspect-w-16 aspect-h-9  outline-primary outline-2 outline\"><div class=\"bg-grey w-full h-full\"><img src=\"https://image.tmdb.org/t/p/original/m5n1nguLC3pTJLPKhN5Ek0aNT6E.jpg\" srcset=\"https://image.tmdb.org/t/p/w300/m5n1nguLC3pTJLPKhN5Ek0aNT6E.jpg 300w,\n",
      "\t\t\t\t\t\thttps://image.tmdb.org/t/p/w780/m5n1nguLC3pTJLPKhN5Ek0aNT6E.jpg 780w,\n",
      "\t\t\t\t\t\thttps://image.tmdb.org/t/p/w1280/m5n1nguLC3pTJLPKhN5Ek0aNT6E.jpg 1280w\n",
      "            https://image.tmdb.org/t/p/original/m5n1nguLC3pTJLPKhN5Ek0aNT6E.jpg original\" class=\"w-full h-full object-cover opacity-0 duration-600 transition-opacity ease-in\" alt=\"The Sound of Music\"></div> <div class=\"body bg-primary text-white w-full mt-auto h-[17px]\" data-svelte-h=\"svelte-sr6h11\"><p class=\"px-[5px] text-[12px]\">SCREEN BOSTON CO-PRESENTS</p></div></div></div> <div class=\"md:col-span-3 min-w-0 justify-between gap-4 md:gap-1 flex flex-col w-full sm:h-full\"><div class=\"w-full min-w-0\"><p class=\"big whitespace-normal w-full min-w-0 overflow-hidden\">The Sound of Music</p> <div class=\"\"> <p class=\"text-[14px] text-primary\">70mm</p></div></div> <div class=\"flex child:flex-1 gap-1 -mb-[3px] md:-mb-[.5px]\"><div><p class=\"\">Robert Wise</p> <p class=\"\">1965, Drama, 2h 54m</p></div> <div><p>Coolidge Corner Theatre</p> <div class=\"flex gap-[6px]\"><p>2:00 PM </p></div></div></div></div></div></button> <button class=\"w-full h-auto max-w-full text-left\"><div class=\"grid h-full md:grid-cols-5 gap-1 bg-white hover:bg-white/60 transition-colors p-1\"><div class=\"md:col-span-2\"><div class=\"aspect-w-16 aspect-h-9 \"><div class=\"bg-grey w-full h-full\"><img src=\"https://image.tmdb.org/t/p/original/74M37zW3cAeNhyBgex5QaSn1hsM.jpg\" srcset=\"https://image.tmdb.org/t/p/w300/74M37zW3cAeNhyBgex5QaSn1hsM.jpg 300w,\n",
      "\t\t\t\t\t\thttps://image.tmdb.org/t/p/w780/74M37zW3cAeNhyBgex5QaSn1hsM.jpg 780w,\n",
      "\t\t\t\t\t\thttps://image.tmdb.org/t/p/w1280/74M37zW3cAeNhyBgex5QaSn1hsM.jpg 1280w\n",
      "            https://image.tmdb.org/t/p/original/74M37zW3cAeNhyBgex5QaSn1hsM.jpg original\" class=\"w-full h-full object-cover opacity-0 duration-600 transition-opacity ease-in\" alt=\"LÃ©on Morin, Priest\"></div> </div></div> <div class=\"md:col-span-3 min-w-0 justify-between gap-4 md:gap-1 flex flex-col w-full sm:h-full\"><div class=\"w-full min-w-0\"><p class=\"big whitespace-normal w-full min-w-0 overflow-hidden\">LÃ©on Morin, Priest</p> <div class=\"\"> </div></div> <div class=\"flex child:flex-1 gap-1 -mb-[3px] md:-mb-[.5px]\"><div><p class=\"\">Jean-Pierre Melville</p> <p class=\"\">1961, Drama, 1h 57m</p></div> <div><p>Harvard Film Archive</p> <div class=\"flex gap-[6px]\"><p>3:00 PM </p></div></div></div></div></div></button> <button class=\"w-full h-auto max-w-full text-left\"><div class=\"grid h-full md:grid-cols-5 gap-1 bg-white hover:bg-white/60 transition-colors p-1\"><div class=\"md:col-span-2\"><div class=\"aspect-w-16 aspect-h-9 \"><div class=\"bg-grey w-full h-full\"><img src=\"https://d8767d82p0jxq.cloudfront.net/eyJidWNrZXQiOiJzY3JlZW5ib3N0b25waG90b3MiLCJrZXkiOiJBcm15IG9mIFNoYWRvd3MuanBnIiwiZWRpdHMiOnsicmVzaXplIjp7IndpZHRoIjoxMDYwLCJmaXQiOiJjb3ZlciJ9fX0=\" srcset=\"https://d8767d82p0jxq.cloudfront.net/eyJidWNrZXQiOiJzY3JlZW5ib3N0b25waG90b3MiLCJrZXkiOiJBcm15IG9mIFNoYWRvd3MuanBnIiwiZWRpdHMiOnsicmVzaXplIjp7IndpZHRoIjozMDAsImZpdCI6ImNvdmVyIn19fQ== 300w, https://d8767d82p0jxq.cloudfront.net/eyJidWNrZXQiOiJzY3JlZW5ib3N0b25waG90b3MiLCJrZXkiOiJBcm15IG9mIFNoYWRvd3MuanBnIiwiZWRpdHMiOnsicmVzaXplIjp7IndpZHRoIjo2MDAsImZpdCI6ImNvdmVyIn19fQ== 600w, https://d8767d82p0jxq.cloudfront.net/eyJidWNrZXQiOiJzY3JlZW5ib3N0b25waG90b3MiLCJrZXkiOiJBcm15IG9mIFNoYWRvd3MuanBnIiwiZWRpdHMiOnsicmVzaXplIjp7IndpZHRoIjoxMDYwLCJmaXQiOiJjb3ZlciJ9fX0= 1060w\" alt=\"Army of Shadows\" class=\"w-full h-full object-cover opacity-0 duration-600 transition-opacity ease-in\"></div> </div></div> <div class=\"md:col-span-3 min-w-0 justify-between gap-4 md:gap-1 flex flex-col w-full sm:h-full\"><div class=\"w-full min-w-0\"><p class=\"big whitespace-normal w-full min-w-0 overflow-hidden\">Army of Shadows</p> <div class=\"\"> <p class=\"text-[14px] text-primary\">35mm</p></div></div> <div class=\"flex child:flex-1 gap-1 -mb-[3px] md:-mb-[.5px]\"><div><p class=\"\">Jean-Pierre Melville</p> <p class=\"\">1969, War, 2h 25m</p></div> <div><p>Harvard Film Archive</p> <div class=\"flex gap-[6px]\"><p>7:00 PM </p></div></div></div></div></div></button></div> </div><div class=\"max-w-screen\" id=\"2024-09-23\"><div class=\"uppercase p-1 bg-white sticky top-[82.2px] sm:top-[102.2px] md:top-[137.2px] z-10\"><p class=\"small\">Monday, September 23</p></div> <div class=\"max-w-screen grid lg:grid-cols-2 gap-0.5 p-0.5 px-1 pb-2 z-0 md:col-span-4 lg:col-span-2\"> <button class=\"w-full h-auto max-w-full text-left\"><div class=\"grid h-full md:grid-cols-5 gap-1 bg-white hover:bg-white/60 transition-colors p-1\"><div class=\"md:col-span-2\"><div class=\"aspect-w-16 aspect-h-9 \"><div class=\"bg-grey w-full h-full\"><img src=\"https://image.tmdb.org/t/p/original/uaEfEkb2tjl4hN1oaSyzcxt4cEg.jpg\" srcset=\"https://image.tmdb.org/t/p/w300/uaEfEkb2tjl4hN1oaSyzcxt4cEg.jpg 300w,\n",
      "\t\t\t\t\t\thttps://image.tmdb.org/t/p/w780/uaEfEkb2tjl4hN1oaSyzcxt4cEg.jpg 780w,\n",
      "\t\t\t\t\t\thttps://image.tmdb.org/t/p/w1280/uaEfEkb2tjl4hN1oaSyzcxt4cEg.jpg 1280w\n",
      "            https://image.tmdb.org/t/p/original/uaEfEkb2tjl4hN1oaSyzcxt4cEg.jpg original\" class=\"w-full h-full object-cover opacity-0 duration-600 transition-opacity ease-in\" alt=\"La Dolce Vita\"></div> </div></div> <div class=\"md:col-span-3 min-w-0 justify-between gap-4 md:gap-1 flex flex-col w-full sm:h-full\"><div class=\"w-full min-w-0\"><p class=\"big whitespace-normal w-full min-w-0 overflow-hidden\">La Dolce Vita</p> <div class=\"\"> </div></div> <div class=\"flex child:flex-1 gap-1 -mb-[3px] md:-mb-[.5px]\"><div><p class=\"\">Federico Fellini</p> <p class=\"\">1960, Comedy, 2h 56m</p></div> <div><p>The Brattle</p> <div class=\"flex gap-[6px]\"><p>4:00 PM </p><p>7:30 PM </p></div></div></div></div></div></button> <button class=\"w-full h-auto max-w-full text-left\"><div class=\"grid h-full md:grid-cols-5 gap-1 bg-white hover:bg-white/60 transition-colors p-1\"><div class=\"md:col-span-2\"><div class=\"aspect-w-16 aspect-h-9 \"><div class=\"bg-grey w-full h-full\"><img src=\"https://image.tmdb.org/t/p/original/1x6RiKBcraJY0wLSi60imLXacNe.jpg\" srcset=\"https://image.tmdb.org/t/p/w300/1x6RiKBcraJY0wLSi60imLXacNe.jpg 300w,\n",
      "\t\t\t\t\t\thttps://image.tmdb.org/t/p/w780/1x6RiKBcraJY0wLSi60imLXacNe.jpg 780w,\n",
      "\t\t\t\t\t\thttps://image.tmdb.org/t/p/w1280/1x6RiKBcraJY0wLSi60imLXacNe.jpg 1280w\n",
      "            https://image.tmdb.org/t/p/original/1x6RiKBcraJY0wLSi60imLXacNe.jpg original\" class=\"w-full h-full object-cover opacity-0 duration-600 transition-opacity ease-in\" alt=\"Gift\"></div> </div></div> <div class=\"md:col-span-3 min-w-0 justify-between gap-4 md:gap-1 flex flex-col w-full sm:h-full\"><div class=\"w-full min-w-0\"><p class=\"big whitespace-normal w-full min-w-0 overflow-hidden\">Gift</p> <div class=\"\"><p class=\"text-[14px] text-primary\">Live Score; RyÅ«suke Hamaguchi in Person</p> </div></div> <div class=\"flex child:flex-1 gap-1 -mb-[3px] md:-mb-[.5px]\"><div><p class=\"\">RyÅ«suke Hamaguchi</p> <p class=\"\">2023, Music, 1h 14m</p></div> <div><p>Harvard Film Archive</p> <div class=\"flex gap-[6px]\"><p>6:00 PM </p><p>8:30 PM </p></div></div></div></div></div></button> <button class=\"w-full h-auto max-w-full text-left\"><div class=\"grid h-full md:grid-cols-5 gap-1 bg-white hover:bg-white/60 transition-colors p-1\"><div class=\"md:col-span-2\"><div class=\"aspect-w-16 aspect-h-9  outline-primary outline-2 outline\"><div class=\"bg-grey w-full h-full\"><img src=\"https://image.tmdb.org/t/p/original/aheSIG4h3JNxWeDvdb1NxKzgjaM.jpg\" srcset=\"https://image.tmdb.org/t/p/w300/aheSIG4h3JNxWeDvdb1NxKzgjaM.jpg 300w,\n",
      "\t\t\t\t\t\thttps://image.tmdb.org/t/p/w780/aheSIG4h3JNxWeDvdb1NxKzgjaM.jpg 780w,\n",
      "\t\t\t\t\t\thttps://image.tmdb.org/t/p/w1280/aheSIG4h3JNxWeDvdb1NxKzgjaM.jpg 1280w\n",
      "            https://image.tmdb.org/t/p/original/aheSIG4h3JNxWeDvdb1NxKzgjaM.jpg original\" class=\"w-full h-full object-cover opacity-0 duration-600 transition-opacity ease-in\" alt=\"Spartacus\"></div> <div class=\"body bg-primary text-white w-full mt-auto h-[17px]\" data-svelte-h=\"svelte-sr6h11\"><p class=\"px-[5px] text-[12px]\">SCREEN BOSTON CO-PRESENTS</p></div></div></div> <div class=\"md:col-span-3 min-w-0 justify-between gap-4 md:gap-1 flex flex-col w-full sm:h-full\"><div class=\"w-full min-w-0\"><p class=\"big whitespace-normal w-full min-w-0 overflow-hidden\">Spartacus</p> <div class=\"\"> <p class=\"text-[14px] text-primary\">70mm</p></div></div> <div class=\"flex child:flex-1 gap-1 -mb-[3px] md:-mb-[.5px]\"><div><p class=\"\">Stanley Kubrick</p> <p class=\"\">1960, History, 3h 17m</p></div> <div><p>Coolidge Corner Theatre</p> <div class=\"flex gap-[6px]\"><p>7:30 PM </p></div></div></div></div></div></button></div> </div><div class=\"max-w-screen\" id=\"2024-09-24\"><div class=\"uppercase p-1 bg-white sticky top-[82.2px] sm:top-[102.2px] md:top-[137.2px] z-10\"><p class=\"small\">Tuesday, September 24</p></div> <div class=\"max-w-screen grid lg:grid-cols-2 gap-0.5 p-0.5 px-1 pb-2 z-0 md:col-span-4 lg:col-span-2\"> <button class=\"w-full h-auto max-w-full text-left\"><div class=\"grid h-full md:grid-cols-5 gap-1 bg-white hover:bg-white/60 transition-colors p-1\"><div class=\"md:col-span-2\"><div class=\"aspect-w-16 aspect-h-9 \"><div class=\"bg-grey w-full h-full\"><img src=\"https://image.tmdb.org/t/p/original/ng5JFJ7TlixGXFIdbLXRimYTCCH.jpg\" srcset=\"https://image.tmdb.org/t/p/w300/ng5JFJ7TlixGXFIdbLXRimYTCCH.jpg 300w,\n",
      "\t\t\t\t\t\thttps://image.tmdb.org/t/p/w780/ng5JFJ7TlixGXFIdbLXRimYTCCH.jpg 780w,\n",
      "\t\t\t\t\t\thttps://image.tmdb.org/t/p/w1280/ng5JFJ7TlixGXFIdbLXRimYTCCH.jpg 1280w\n",
      "            https://image.tmdb.org/t/p/original/ng5JFJ7TlixGXFIdbLXRimYTCCH.jpg original\" class=\"w-full h-full object-cover opacity-0 duration-600 transition-opacity ease-in\" alt=\"8Â½\"></div> </div></div> <div class=\"md:col-span-3 min-w-0 justify-between gap-4 md:gap-1 flex flex-col w-full sm:h-full\"><div class=\"w-full min-w-0\"><p class=\"big whitespace-normal w-full min-w-0 overflow-hidden\">8Â½</p> <div class=\"\"> <p class=\"text-[14px] text-primary\">35mm</p></div></div> <div class=\"flex child:flex-1 gap-1 -mb-[3px] md:-mb-[.5px]\"><div><p class=\"\">Federico Fellini</p> <p class=\"\">1963, Drama, 2h 19m</p></div> <div><p>The Brattle</p> <div class=\"flex gap-[6px]\"><p>4:00 PM </p><p>7:00 PM </p></div></div></div></div></div></button> <button class=\"w-full h-auto max-w-full text-left\"><div class=\"grid h-full md:grid-cols-5 gap-1 bg-white hover:bg-white/60 transition-colors p-1\"><div class=\"md:col-span-2\"><div class=\"aspect-w-16 aspect-h-9 \"><div class=\"bg-grey w-full h-full\"><img src=\"https://image.tmdb.org/t/p/original/gX2GxGsSVIPbRnrb1Tmc4HQ3HWy.jpg\" srcset=\"https://image.tmdb.org/t/p/w300/gX2GxGsSVIPbRnrb1Tmc4HQ3HWy.jpg 300w,\n",
      "\t\t\t\t\t\thttps://image.tmdb.org/t/p/w780/gX2GxGsSVIPbRnrb1Tmc4HQ3HWy.jpg 780w,\n",
      "\t\t\t\t\t\thttps://image.tmdb.org/t/p/w1280/gX2GxGsSVIPbRnrb1Tmc4HQ3HWy.jpg 1280w\n",
      "            https://image.tmdb.org/t/p/original/gX2GxGsSVIPbRnrb1Tmc4HQ3HWy.jpg original\" class=\"w-full h-full object-cover opacity-0 duration-600 transition-opacity ease-in\" alt=\"Strangers on a Train\"></div> </div></div> <div class=\"md:col-span-3 min-w-0 justify-between gap-4 md:gap-1 flex flex-col w-full sm:h-full\"><div class=\"w-full min-w-0\"><p class=\"big whitespace-normal w-full min-w-0 overflow-hidden\">Strangers on a Train</p> <div class=\"\"> <p class=\"text-[14px] text-primary\">35mm</p></div></div> <div class=\"flex child:flex-1 gap-1 -mb-[3px] md:-mb-[.5px]\"><div><p class=\"\">Alfred Hitchcock</p> <p class=\"\">1951, Crime, 1h 41m</p></div> <div><p>Somerville Theatre</p> <div class=\"flex gap-[6px]\"><p>7:00 PM </p></div></div></div></div></div></button> <button class=\"w-full h-auto max-w-full text-left\"><div class=\"grid h-full md:grid-cols-5 gap-1 bg-white hover:bg-white/60 transition-colors p-1\"><div class=\"md:col-span-2\"><div class=\"aspect-w-16 aspect-h-9 \"><div class=\"bg-grey w-full h-full\"><img src=\"https://image.tmdb.org/t/p/original/1sRbPnTQeNydN1DASOH4rulFraA.jpg\" srcset=\"https://image.tmdb.org/t/p/w300/1sRbPnTQeNydN1DASOH4rulFraA.jpg 300w,\n",
      "\t\t\t\t\t\thttps://image.tmdb.org/t/p/w780/1sRbPnTQeNydN1DASOH4rulFraA.jpg 780w,\n",
      "\t\t\t\t\t\thttps://image.tmdb.org/t/p/w1280/1sRbPnTQeNydN1DASOH4rulFraA.jpg 1280w\n",
      "            https://image.tmdb.org/t/p/original/1sRbPnTQeNydN1DASOH4rulFraA.jpg original\" class=\"w-full h-full object-cover opacity-0 duration-600 transition-opacity ease-in\" alt=\"Join or Die\"></div> </div></div> <div class=\"md:col-span-3 min-w-0 justify-between gap-4 md:gap-1 flex flex-col w-full sm:h-full\"><div class=\"w-full min-w-0\"><p class=\"big whitespace-normal w-full min-w-0 overflow-hidden\">Join or Die</p> <div class=\"\"><p class=\"text-[14px] text-primary\">Robert Putnam in Person</p> </div></div> <div class=\"flex child:flex-1 gap-1 -mb-[3px] md:-mb-[.5px]\"><div><p class=\"\">Pete Davis, Rebecca Davis</p> <p class=\"\">2024, Documentary, 1h 39m</p></div> <div><p>Coolidge Corner Theatre</p> <div class=\"flex gap-[6px]\"><p>7:00 PM </p></div></div></div></div></div></button> <button class=\"w-full h-auto max-w-full text-left\"><div class=\"grid h-full md:grid-cols-5 gap-1 bg-white hover:bg-white/60 transition-colors p-1\"><div class=\"md:col-span-2\"><div class=\"aspect-w-16 aspect-h-9 \"><div class=\"bg-grey w-full h-full\"><img src=\"https://image.tmdb.org/t/p/original/7tBfYcZH4P4AA1oFzjflUTSDZgx.jpg\" srcset=\"https://image.tmdb.org/t/p/w300/7tBfYcZH4P4AA1oFzjflUTSDZgx.jpg 300w,\n",
      "\t\t\t\t\t\thttps://image.tmdb.org/t/p/w780/7tBfYcZH4P4AA1oFzjflUTSDZgx.jpg 780w,\n",
      "\t\t\t\t\t\thttps://image.tmdb.org/t/p/w1280/7tBfYcZH4P4AA1oFzjflUTSDZgx.jpg 1280w\n",
      "            https://image.tmdb.org/t/p/original/7tBfYcZH4P4AA1oFzjflUTSDZgx.jpg original\" class=\"w-full h-full object-cover opacity-0 duration-600 transition-opacity ease-in\" alt=\"The Seventh Seal\"></div> </div></div> <div class=\"md:col-span-3 min-w-0 justify-between gap-4 md:gap-1 flex flex-col w-full sm:h-full\"><div class=\"w-full min-w-0\"><p class=\"big whitespace-normal w-full min-w-0 overflow-hidden\">The Seventh Seal</p> <div class=\"\"><p class=\"text-[14px] text-primary\">Double Feature with Bill &amp; Ted's Bogus Journey</p> </div></div> <div class=\"flex child:flex-1 gap-1 -mb-[3px] md:-mb-[.5px]\"><div><p class=\"\">Ingmar Bergman</p> <p class=\"\">1957, Fantasy, 1h 36m</p></div> <div><p>Mount Auburn Cemetery</p> <div class=\"flex gap-[6px]\"><p>7:00 PM </p></div></div></div></div></div></button> <button class=\"w-full h-auto max-w-full text-left\"><div class=\"grid h-full md:grid-cols-5 gap-1 bg-white hover:bg-white/60 transition-colors p-1\"><div class=\"md:col-span-2\"><div class=\"aspect-w-16 aspect-h-9 \"><div class=\"bg-grey w-full h-full\"><img src=\"https://image.tmdb.org/t/p/original/y5lidfqb4KCrPEwrq8fVmfaB5ul.jpg\" srcset=\"https://image.tmdb.org/t/p/w300/y5lidfqb4KCrPEwrq8fVmfaB5ul.jpg 300w,\n",
      "\t\t\t\t\t\thttps://image.tmdb.org/t/p/w780/y5lidfqb4KCrPEwrq8fVmfaB5ul.jpg 780w,\n",
      "\t\t\t\t\t\thttps://image.tmdb.org/t/p/w1280/y5lidfqb4KCrPEwrq8fVmfaB5ul.jpg 1280w\n",
      "            https://image.tmdb.org/t/p/original/y5lidfqb4KCrPEwrq8fVmfaB5ul.jpg original\" class=\"w-full h-full object-cover opacity-0 duration-600 transition-opacity ease-in\" alt=\"Bill &amp; Ted's Bogus Journey\"></div> </div></div> <div class=\"md:col-span-3 min-w-0 justify-between gap-4 md:gap-1 flex flex-col w-full sm:h-full\"><div class=\"w-full min-w-0\"><p class=\"big whitespace-normal w-full min-w-0 overflow-hidden\">Bill &amp; Ted's Bogus Journey</p> <div class=\"\"><p class=\"text-[14px] text-primary\">Double Feature with the Seventh Seal</p> </div></div> <div class=\"flex child:flex-1 gap-1 -mb-[3px] md:-mb-[.5px]\"><div><p class=\"\">Peter Hewitt</p> <p class=\"\">1991, Adventure, 1h 33m</p></div> <div><p>Mount Auburn Cemetery</p> <div class=\"flex gap-[6px]\"><p>8:30 PM </p></div></div></div></div></div></button> <button class=\"w-full h-auto max-w-full text-left\"><div class=\"grid h-full md:grid-cols-5 gap-1 bg-white hover:bg-white/60 transition-colors p-1\"><div class=\"md:col-span-2\"><div class=\"aspect-w-16 aspect-h-9 \"><div class=\"bg-grey w-full h-full\"><img src=\"https://image.tmdb.org/t/p/original/uvd1KXopHKelymR2JbSumRupRJo.jpg\" srcset=\"https://image.tmdb.org/t/p/w300/uvd1KXopHKelymR2JbSumRupRJo.jpg 300w,\n",
      "\t\t\t\t\t\thttps://image.tmdb.org/t/p/w780/uvd1KXopHKelymR2JbSumRupRJo.jpg 780w,\n",
      "\t\t\t\t\t\thttps://image.tmdb.org/t/p/w1280/uvd1KXopHKelymR2JbSumRupRJo.jpg 1280w\n",
      "            https://image.tmdb.org/t/p/original/uvd1KXopHKelymR2JbSumRupRJo.jpg original\" class=\"w-full h-full object-cover opacity-0 duration-600 transition-opacity ease-in\" alt=\"Dial M for Murder\"></div> </div></div> <div class=\"md:col-span-3 min-w-0 justify-between gap-4 md:gap-1 flex flex-col w-full sm:h-full\"><div class=\"w-full min-w-0\"><p class=\"big whitespace-normal w-full min-w-0 overflow-hidden\">Dial M for Murder</p> <div class=\"\"> <p class=\"text-[14px] text-primary\">35mm</p></div></div> <div class=\"flex child:flex-1 gap-1 -mb-[3px] md:-mb-[.5px]\"><div><p class=\"\">Alfred Hitchcock</p> <p class=\"\">1954, Thriller, 1h 45m</p></div> <div><p>Somerville Theatre</p> <div class=\"flex gap-[6px]\"><p>8:55 PM </p></div></div></div></div></div></button></div> </div><div class=\"max-w-screen\" id=\"2024-09-25\"><div class=\"uppercase p-1 bg-white sticky top-[82.2px] sm:top-[102.2px] md:top-[137.2px] z-10\"><p class=\"small\">Wednesday, September 25</p></div> <div class=\"max-w-screen grid lg:grid-cols-2 gap-0.5 p-0.5 px-1 pb-2 z-0 md:col-span-4 lg:col-span-2\"> <button class=\"w-full h-auto max-w-full text-left\"><div class=\"grid h-full md:grid-cols-5 gap-1 bg-white hover:bg-white/60 transition-colors p-1\"><div class=\"md:col-span-2\"><div class=\"aspect-w-16 aspect-h-9  outline-primary outline-2 outline\"><div class=\"bg-grey w-full h-full\"><img src=\"https://d8767d82p0jxq.cloudfront.net/eyJidWNrZXQiOiJzY3JlZW5ib3N0b25waG90b3MiLCJrZXkiOiJlOHVBc0Q5c2JIQnkyYmtXMUVta0ppQjNIa2UuanBnIiwiZWRpdHMiOnsicmVzaXplIjp7IndpZHRoIjoxMDYwLCJmaXQiOiJjb3ZlciJ9fX0=\" srcset=\"https://d8767d82p0jxq.cloudfront.net/eyJidWNrZXQiOiJzY3JlZW5ib3N0b25waG90b3MiLCJrZXkiOiJlOHVBc0Q5c2JIQnkyYmtXMUVta0ppQjNIa2UuanBnIiwiZWRpdHMiOnsicmVzaXplIjp7IndpZHRoIjozMDAsImZpdCI6ImNvdmVyIn19fQ== 300w, https://d8767d82p0jxq.cloudfront.net/eyJidWNrZXQiOiJzY3JlZW5ib3N0b25waG90b3MiLCJrZXkiOiJlOHVBc0Q5c2JIQnkyYmtXMUVta0ppQjNIa2UuanBnIiwiZWRpdHMiOnsicmVzaXplIjp7IndpZHRoIjo2MDAsImZpdCI6ImNvdmVyIn19fQ== 600w, https://d8767d82p0jxq.cloudfront.net/eyJidWNrZXQiOiJzY3JlZW5ib3N0b25waG90b3MiLCJrZXkiOiJlOHVBc0Q5c2JIQnkyYmtXMUVta0ppQjNIa2UuanBnIiwiZWRpdHMiOnsicmVzaXplIjp7IndpZHRoIjoxMDYwLCJmaXQiOiJjb3ZlciJ9fX0= 1060w\" alt=\"Inception\" class=\"w-full h-full object-cover opacity-0 duration-600 transition-opacity ease-in\"></div> <div class=\"body bg-primary text-white w-full mt-auto h-[17px]\" data-svelte-h=\"svelte-sr6h11\"><p class=\"px-[5px] text-[12px]\">SCREEN BOSTON CO-PRESENTS</p></div></div></div> <div class=\"md:col-span-3 min-w-0 justify-between gap-4 md:gap-1 flex flex-col w-full sm:h-full\"><div class=\"w-full min-w-0\"><p class=\"big whitespace-normal w-full min-w-0 overflow-hidden\">Inception</p> <div class=\"\"> <p class=\"text-[14px] text-primary\">70mm</p></div></div> <div class=\"flex child:flex-1 gap-1 -mb-[3px] md:-mb-[.5px]\"><div><p class=\"\">Christopher Nolan</p> <p class=\"\">2010, Action, 2h 28m</p></div> <div><p>Coolidge Corner Theatre</p> <div class=\"flex gap-[6px]\"><p>7:30 PM </p></div></div></div></div></div></button></div> </div><div class=\"max-w-screen\" id=\"2024-09-26\"><div class=\"uppercase p-1 bg-white sticky top-[82.2px] sm:top-[102.2px] md:top-[137.2px] z-10\"><p class=\"small\">Thursday, September 26</p></div> <div class=\"max-w-screen grid lg:grid-cols-2 gap-0.5 p-0.5 px-1 pb-2 z-0 md:col-span-4 lg:col-span-2\"> <button class=\"w-full h-auto max-w-full text-left\"><div class=\"grid h-full md:grid-cols-5 gap-1 bg-white hover:bg-white/60 transition-colors p-1\"><div class=\"md:col-span-2\"><div class=\"aspect-w-16 aspect-h-9 \"><div class=\"bg-grey w-full h-full\"><img src=\"https://image.tmdb.org/t/p/original/30rvmoEBqovm723agDJ3QddWXcY.jpg\" srcset=\"https://image.tmdb.org/t/p/w300/30rvmoEBqovm723agDJ3QddWXcY.jpg 300w,\n",
      "\t\t\t\t\t\thttps://image.tmdb.org/t/p/w780/30rvmoEBqovm723agDJ3QddWXcY.jpg 780w,\n",
      "\t\t\t\t\t\thttps://image.tmdb.org/t/p/w1280/30rvmoEBqovm723agDJ3QddWXcY.jpg 1280w\n",
      "            https://image.tmdb.org/t/p/original/30rvmoEBqovm723agDJ3QddWXcY.jpg original\" class=\"w-full h-full object-cover opacity-0 duration-600 transition-opacity ease-in\" alt=\"Easy A\"></div> </div></div> <div class=\"md:col-span-3 min-w-0 justify-between gap-4 md:gap-1 flex flex-col w-full sm:h-full\"><div class=\"w-full min-w-0\"><p class=\"big whitespace-normal w-full min-w-0 overflow-hidden\">Easy A</p> <div class=\"\"> <p class=\"text-[14px] text-primary\">35mm</p></div></div> <div class=\"flex child:flex-1 gap-1 -mb-[3px] md:-mb-[.5px]\"><div><p class=\"\">Will Gluck</p> <p class=\"\">2010, Comedy, 1h 33m</p></div> <div><p>Coolidge Corner Theatre</p> <div class=\"flex gap-[6px]\"><p>7:00 PM </p></div></div></div></div></div></button></div> </div><div class=\"max-w-screen\" id=\"2024-09-27\"><div class=\"uppercase p-1 bg-white sticky top-[82.2px] sm:top-[102.2px] md:top-[137.2px] z-10\"><p class=\"small\">Friday, September 27</p></div> <div class=\"max-w-screen grid lg:grid-cols-2 gap-0.5 p-0.5 px-1 pb-2 z-0 md:col-span-4 lg:col-span-2\"> <button class=\"w-full h-auto max-w-full text-left\"><div class=\"grid h-full md:grid-cols-5 gap-1 bg-white hover:bg-white/60 transition-colors p-1\"><div class=\"md:col-span-2\"><div class=\"aspect-w-16 aspect-h-9 \"><div class=\"bg-grey w-full h-full\"><img src=\"https://image.tmdb.org/t/p/original/y3WwIEEDcbT88MxjCjM8mlBEF04.jpg\" srcset=\"https://image.tmdb.org/t/p/w300/y3WwIEEDcbT88MxjCjM8mlBEF04.jpg 300w,\n",
      "\t\t\t\t\t\thttps://image.tmdb.org/t/p/w780/y3WwIEEDcbT88MxjCjM8mlBEF04.jpg 780w,\n",
      "\t\t\t\t\t\thttps://image.tmdb.org/t/p/w1280/y3WwIEEDcbT88MxjCjM8mlBEF04.jpg 1280w\n",
      "            https://image.tmdb.org/t/p/original/y3WwIEEDcbT88MxjCjM8mlBEF04.jpg original\" class=\"w-full h-full object-cover opacity-0 duration-600 transition-opacity ease-in\" alt=\"Pandora's Box\"></div> </div></div> <div class=\"md:col-span-3 min-w-0 justify-between gap-4 md:gap-1 flex flex-col w-full sm:h-full\"><div class=\"w-full min-w-0\"><p class=\"big whitespace-normal w-full min-w-0 overflow-hidden\">Pandora's Box</p> <div class=\"\"> </div></div> <div class=\"flex child:flex-1 gap-1 -mb-[3px] md:-mb-[.5px]\"><div><p class=\"\">G.W. Pabst</p> <p class=\"\">1929, Drama, 2h 13m</p></div> <div><p>The Brattle</p> <div class=\"flex gap-[6px]\"><p>6:00 PM </p></div></div></div></div></div></button> <button class=\"w-full h-auto max-w-full text-left\"><div class=\"grid h-full md:grid-cols-5 gap-1 bg-white hover:bg-white/60 transition-colors p-1\"><div class=\"md:col-span-2\"><div class=\"aspect-w-16 aspect-h-9 \"><div class=\"bg-grey w-full h-full\"><img src=\"https://image.tmdb.org/t/p/original/znLq5iyuMVvHwDdgZf6HyVUNjWB.jpg\" srcset=\"https://image.tmdb.org/t/p/w300/znLq5iyuMVvHwDdgZf6HyVUNjWB.jpg 300w,\n",
      "\t\t\t\t\t\thttps://image.tmdb.org/t/p/w780/znLq5iyuMVvHwDdgZf6HyVUNjWB.jpg 780w,\n",
      "\t\t\t\t\t\thttps://image.tmdb.org/t/p/w1280/znLq5iyuMVvHwDdgZf6HyVUNjWB.jpg 1280w\n",
      "            https://image.tmdb.org/t/p/original/znLq5iyuMVvHwDdgZf6HyVUNjWB.jpg original\" class=\"w-full h-full object-cover opacity-0 duration-600 transition-opacity ease-in\" alt=\"Le SamouraÃ¯\"></div> </div></div> <div class=\"md:col-span-3 min-w-0 justify-between gap-4 md:gap-1 flex flex-col w-full sm:h-full\"><div class=\"w-full min-w-0\"><p class=\"big whitespace-normal w-full min-w-0 overflow-hidden\">Le SamouraÃ¯</p> <div class=\"\"> <p class=\"text-[14px] text-primary\">35mm</p></div></div> <div class=\"flex child:flex-1 gap-1 -mb-[3px] md:-mb-[.5px]\"><div><p class=\"\">Jean-Pierre Melville</p> <p class=\"\">1967, Crime, 1h 45m</p></div> <div><p>Harvard Film Archive</p> <div class=\"flex gap-[6px]\"><p>7:00 PM </p></div></div></div></div></div></button> <button class=\"w-full h-auto max-w-full text-left\"><div class=\"grid h-full md:grid-cols-5 gap-1 bg-white hover:bg-white/60 transition-colors p-1\"><div class=\"md:col-span-2\"><div class=\"aspect-w-16 aspect-h-9 \"><div class=\"bg-grey w-full h-full\"><img src=\"https://image.tmdb.org/t/p/original/j5DSgn34GGfvnnAMS3qFFXOzFuO.jpg\" srcset=\"https://image.tmdb.org/t/p/w300/j5DSgn34GGfvnnAMS3qFFXOzFuO.jpg 300w,\n",
      "\t\t\t\t\t\thttps://image.tmdb.org/t/p/w780/j5DSgn34GGfvnnAMS3qFFXOzFuO.jpg 780w,\n",
      "\t\t\t\t\t\thttps://image.tmdb.org/t/p/w1280/j5DSgn34GGfvnnAMS3qFFXOzFuO.jpg 1280w\n",
      "            https://image.tmdb.org/t/p/original/j5DSgn34GGfvnnAMS3qFFXOzFuO.jpg original\" class=\"w-full h-full object-cover opacity-0 duration-600 transition-opacity ease-in\" alt=\"The Sicilian Clan\"></div> </div></div> <div class=\"md:col-span-3 min-w-0 justify-between gap-4 md:gap-1 flex flex-col w-full sm:h-full\"><div class=\"w-full min-w-0\"><p class=\"big whitespace-normal w-full min-w-0 overflow-hidden\">The Sicilian Clan</p> <div class=\"\"> </div></div> <div class=\"flex child:flex-1 gap-1 -mb-[3px] md:-mb-[.5px]\"><div><p class=\"\">Henri Verneuil</p> <p class=\"\">1969, Crime, 1h 57m</p></div> <div><p>Harvard Film Archive</p> <div class=\"flex gap-[6px]\"><p>9:15 PM </p></div></div></div></div></div></button> <button class=\"w-full h-auto max-w-full text-left\"><div class=\"grid h-full md:grid-cols-5 gap-1 bg-white hover:bg-white/60 transition-colors p-1\"><div class=\"md:col-span-2\"><div class=\"aspect-w-16 aspect-h-9 \"><div class=\"bg-grey w-full h-full\"><img src=\"https://image.tmdb.org/t/p/original/9tMxMZA4L5YOSAeYa7wdq1Hg93c.jpg\" srcset=\"https://image.tmdb.org/t/p/w300/9tMxMZA4L5YOSAeYa7wdq1Hg93c.jpg 300w,\n",
      "\t\t\t\t\t\thttps://image.tmdb.org/t/p/w780/9tMxMZA4L5YOSAeYa7wdq1Hg93c.jpg 780w,\n",
      "\t\t\t\t\t\thttps://image.tmdb.org/t/p/w1280/9tMxMZA4L5YOSAeYa7wdq1Hg93c.jpg 1280w\n",
      "            https://image.tmdb.org/t/p/original/9tMxMZA4L5YOSAeYa7wdq1Hg93c.jpg original\" class=\"w-full h-full object-cover opacity-0 duration-600 transition-opacity ease-in\" alt=\"Samurai Cop\"></div> </div></div> <div class=\"md:col-span-3 min-w-0 justify-between gap-4 md:gap-1 flex flex-col w-full sm:h-full\"><div class=\"w-full min-w-0\"><p class=\"big whitespace-normal w-full min-w-0 overflow-hidden\">Samurai Cop</p> <div class=\"\"> </div></div> <div class=\"flex child:flex-1 gap-1 -mb-[3px] md:-mb-[.5px]\"><div><p class=\"\">Amir Shervan</p> <p class=\"\">1991, Action, 1h 36m</p></div> <div><p>Coolidge Corner Theatre</p> <div class=\"flex gap-[6px]\"><p>11:59 PM </p></div></div></div></div></div></button></div> </div><div class=\"max-w-screen\" id=\"2024-09-28\"><div class=\"uppercase p-1 bg-white sticky top-[82.2px] sm:top-[102.2px] md:top-[137.2px] z-10\"><p class=\"small\">Saturday, September 28</p></div> <div class=\"max-w-screen grid lg:grid-cols-2 gap-0.5 p-0.5 px-1 pb-2 z-0 md:col-span-4 lg:col-span-2\"> <button class=\"w-full h-auto max-w-full text-left\"><div class=\"grid h-full md:grid-cols-5 gap-1 bg-white hover:bg-white/60 transition-colors p-1\"><div class=\"md:col-span-2\"><div class=\"aspect-w-16 aspect-h-9 \"><div class=\"bg-grey w-full h-full\"><img src=\"https://image.tmdb.org/t/p/original/vztsAbG3PdWkhPy6whJzeg5mb8k.jpg\" srcset=\"https://image.tmdb.org/t/p/w300/vztsAbG3PdWkhPy6whJzeg5mb8k.jpg 300w,\n",
      "\t\t\t\t\t\thttps://image.tmdb.org/t/p/w780/vztsAbG3PdWkhPy6whJzeg5mb8k.jpg 780w,\n",
      "\t\t\t\t\t\thttps://image.tmdb.org/t/p/w1280/vztsAbG3PdWkhPy6whJzeg5mb8k.jpg 1280w\n",
      "            https://image.tmdb.org/t/p/original/vztsAbG3PdWkhPy6whJzeg5mb8k.jpg original\" class=\"w-full h-full object-cover opacity-0 duration-600 transition-opacity ease-in\" alt=\"La Roue\"></div> </div></div> <div class=\"md:col-span-3 min-w-0 justify-between gap-4 md:gap-1 flex flex-col w-full sm:h-full\"><div class=\"w-full min-w-0\"><p class=\"big whitespace-normal w-full min-w-0 overflow-hidden\">La Roue</p> <div class=\"\"> </div></div> <div class=\"flex child:flex-1 gap-1 -mb-[3px] md:-mb-[.5px]\"><div><p class=\"\">Abel Gance</p> <p class=\"\">1923, Drama, 6h 58m</p></div> <div><p>The Brattle</p> <div class=\"flex gap-[6px]\"><p>12:00 PM </p></div></div></div></div></div></button> <button class=\"w-full h-auto max-w-full text-left\"><div class=\"grid h-full md:grid-cols-5 gap-1 bg-white hover:bg-white/60 transition-colors p-1\"><div class=\"md:col-span-2\"><div class=\"aspect-w-16 aspect-h-9 \"><div class=\"bg-grey w-full h-full\"><img src=\"https://d8767d82p0jxq.cloudfront.net/eyJidWNrZXQiOiJzY3JlZW5ib3N0b25waG90b3MiLCJrZXkiOiJCcmVhdGhsZXNzLmpwZyIsImVkaXRzIjp7InJlc2l6ZSI6eyJ3aWR0aCI6MTA2MCwiZml0IjoiY292ZXIifX19\" srcset=\"https://d8767d82p0jxq.cloudfront.net/eyJidWNrZXQiOiJzY3JlZW5ib3N0b25waG90b3MiLCJrZXkiOiJCcmVhdGhsZXNzLmpwZyIsImVkaXRzIjp7InJlc2l6ZSI6eyJ3aWR0aCI6MzAwLCJmaXQiOiJjb3ZlciJ9fX0= 300w, https://d8767d82p0jxq.cloudfront.net/eyJidWNrZXQiOiJzY3JlZW5ib3N0b25waG90b3MiLCJrZXkiOiJCcmVhdGhsZXNzLmpwZyIsImVkaXRzIjp7InJlc2l6ZSI6eyJ3aWR0aCI6NjAwLCJmaXQiOiJjb3ZlciJ9fX0= 600w, https://d8767d82p0jxq.cloudfront.net/eyJidWNrZXQiOiJzY3JlZW5ib3N0b25waG90b3MiLCJrZXkiOiJCcmVhdGhsZXNzLmpwZyIsImVkaXRzIjp7InJlc2l6ZSI6eyJ3aWR0aCI6MTA2MCwiZml0IjoiY292ZXIifX19 1060w\" alt=\"Breathless\" class=\"w-full h-full object-cover opacity-0 duration-600 transition-opacity ease-in\"></div> </div></div> <div class=\"md:col-span-3 min-w-0 justify-between gap-4 md:gap-1 flex flex-col w-full sm:h-full\"><div class=\"w-full min-w-0\"><p class=\"big whitespace-normal w-full min-w-0 overflow-hidden\">Breathless</p> <div class=\"\"> <p class=\"text-[14px] text-primary\">35mm</p></div></div> <div class=\"flex child:flex-1 gap-1 -mb-[3px] md:-mb-[.5px]\"><div><p class=\"\">Jean-Luc Godard</p> <p class=\"\">1960, Drama, 1h 30m</p></div> <div><p>Harvard Film Archive</p> <div class=\"flex gap-[6px]\"><p>7:00 PM </p></div></div></div></div></div></button> <button class=\"w-full h-auto max-w-full text-left\"><div class=\"grid h-full md:grid-cols-5 gap-1 bg-white hover:bg-white/60 transition-colors p-1\"><div class=\"md:col-span-2\"><div class=\"aspect-w-16 aspect-h-9 \"><div class=\"bg-grey w-full h-full\"><img src=\"https://image.tmdb.org/t/p/original/6tzyYR5a88KhHqebXKs0GRyXdwG.jpg\" srcset=\"https://image.tmdb.org/t/p/w300/6tzyYR5a88KhHqebXKs0GRyXdwG.jpg 300w,\n",
      "\t\t\t\t\t\thttps://image.tmdb.org/t/p/w780/6tzyYR5a88KhHqebXKs0GRyXdwG.jpg 780w,\n",
      "\t\t\t\t\t\thttps://image.tmdb.org/t/p/w1280/6tzyYR5a88KhHqebXKs0GRyXdwG.jpg 1280w\n",
      "            https://image.tmdb.org/t/p/original/6tzyYR5a88KhHqebXKs0GRyXdwG.jpg original\" class=\"w-full h-full object-cover opacity-0 duration-600 transition-opacity ease-in\" alt=\"Two Men in Manhattan\"></div> </div></div> <div class=\"md:col-span-3 min-w-0 justify-between gap-4 md:gap-1 flex flex-col w-full sm:h-full\"><div class=\"w-full min-w-0\"><p class=\"big whitespace-normal w-full min-w-0 overflow-hidden\">Two Men in Manhattan</p> <div class=\"\"> </div></div> <div class=\"flex child:flex-1 gap-1 -mb-[3px] md:-mb-[.5px]\"><div><p class=\"\">Jean-Pierre Melville</p> <p class=\"\">1959, Crime, 1h 24m</p></div> <div><p>Harvard Film Archive</p> <div class=\"flex gap-[6px]\"><p>9:00 PM </p></div></div></div></div></div></button> <button class=\"w-full h-auto max-w-full text-left\"><div class=\"grid h-full md:grid-cols-5 gap-1 bg-white hover:bg-white/60 transition-colors p-1\"><div class=\"md:col-span-2\"><div class=\"aspect-w-16 aspect-h-9 \"><div class=\"bg-grey w-full h-full\"><img src=\"https://image.tmdb.org/t/p/original/wDrs28ZYYnXVIeb87H0dCYlWiFA.jpg\" srcset=\"https://image.tmdb.org/t/p/w300/wDrs28ZYYnXVIeb87H0dCYlWiFA.jpg 300w,\n",
      "\t\t\t\t\t\thttps://image.tmdb.org/t/p/w780/wDrs28ZYYnXVIeb87H0dCYlWiFA.jpg 780w,\n",
      "\t\t\t\t\t\thttps://image.tmdb.org/t/p/w1280/wDrs28ZYYnXVIeb87H0dCYlWiFA.jpg 1280w\n",
      "            https://image.tmdb.org/t/p/original/wDrs28ZYYnXVIeb87H0dCYlWiFA.jpg original\" class=\"w-full h-full object-cover opacity-0 duration-600 transition-opacity ease-in\" alt=\"Birdemic: Shock and Terror\"></div> </div></div> <div class=\"md:col-span-3 min-w-0 justify-between gap-4 md:gap-1 flex flex-col w-full sm:h-full\"><div class=\"w-full min-w-0\"><p class=\"big whitespace-normal w-full min-w-0 overflow-hidden\">Birdemic: Shock and Terror</p> <div class=\"\"> </div></div> <div class=\"flex child:flex-1 gap-1 -mb-[3px] md:-mb-[.5px]\"><div><p class=\"\">James Nguyen</p> <p class=\"\">2010, Romance, 1h 34m</p></div> <div><p>Coolidge Corner Theatre</p> <div class=\"flex gap-[6px]\"><p>11:59 PM </p></div></div></div></div></div></button> <button class=\"w-full h-auto max-w-full text-left\"><div class=\"grid h-full md:grid-cols-5 gap-1 bg-white hover:bg-white/60 transition-colors p-1\"><div class=\"md:col-span-2\"><div class=\"aspect-w-16 aspect-h-9 \"><div class=\"bg-grey w-full h-full\"><img src=\"https://image.tmdb.org/t/p/original/h5xS2MIXoG7qIrDp84YgDl3DEvh.jpg\" srcset=\"https://image.tmdb.org/t/p/w300/h5xS2MIXoG7qIrDp84YgDl3DEvh.jpg 300w,\n",
      "\t\t\t\t\t\thttps://image.tmdb.org/t/p/w780/h5xS2MIXoG7qIrDp84YgDl3DEvh.jpg 780w,\n",
      "\t\t\t\t\t\thttps://image.tmdb.org/t/p/w1280/h5xS2MIXoG7qIrDp84YgDl3DEvh.jpg 1280w\n",
      "            https://image.tmdb.org/t/p/original/h5xS2MIXoG7qIrDp84YgDl3DEvh.jpg original\" class=\"w-full h-full object-cover opacity-0 duration-600 transition-opacity ease-in\" alt=\"Miami Connection\"></div> </div></div> <div class=\"md:col-span-3 min-w-0 justify-between gap-4 md:gap-1 flex flex-col w-full sm:h-full\"><div class=\"w-full min-w-0\"><p class=\"big whitespace-normal w-full min-w-0 overflow-hidden\">Miami Connection</p> <div class=\"\"> </div></div> <div class=\"flex child:flex-1 gap-1 -mb-[3px] md:-mb-[.5px]\"><div><p class=\"\">Y.K. Kim, Richard Park Wu-sang</p> <p class=\"\">1987, Action, 1h 26m</p></div> <div><p>Somerville Theatre</p> <div class=\"flex gap-[6px]\"><p>11:59 PM </p></div></div></div></div></div></button></div> </div><div class=\"max-w-screen\" id=\"2024-09-29\"><div class=\"uppercase p-1 bg-white sticky top-[82.2px] sm:top-[102.2px] md:top-[137.2px] z-10\"><p class=\"small\">Sunday, September 29</p></div> <div class=\"max-w-screen grid lg:grid-cols-2 gap-0.5 p-0.5 px-1 pb-2 z-0 md:col-span-4 lg:col-span-2\"> <button class=\"w-full h-auto max-w-full text-left\"><div class=\"grid h-full md:grid-cols-5 gap-1 bg-white hover:bg-white/60 transition-colors p-1\"><div class=\"md:col-span-2\"><div class=\"aspect-w-16 aspect-h-9 \"><div class=\"bg-grey w-full h-full\"><img src=\"https://image.tmdb.org/t/p/original/t8yqhwUuoM7e4plO0ZUtLsEtTky.jpg\" srcset=\"https://image.tmdb.org/t/p/w300/t8yqhwUuoM7e4plO0ZUtLsEtTky.jpg 300w,\n",
      "\t\t\t\t\t\thttps://image.tmdb.org/t/p/w780/t8yqhwUuoM7e4plO0ZUtLsEtTky.jpg 780w,\n",
      "\t\t\t\t\t\thttps://image.tmdb.org/t/p/w1280/t8yqhwUuoM7e4plO0ZUtLsEtTky.jpg 1280w\n",
      "            https://image.tmdb.org/t/p/original/t8yqhwUuoM7e4plO0ZUtLsEtTky.jpg original\" class=\"w-full h-full object-cover opacity-0 duration-600 transition-opacity ease-in\" alt=\"They Came from Beyond Space\"></div> </div></div> <div class=\"md:col-span-3 min-w-0 justify-between gap-4 md:gap-1 flex flex-col w-full sm:h-full\"><div class=\"w-full min-w-0\"><p class=\"big whitespace-normal w-full min-w-0 overflow-hidden\">They Came from Beyond Space</p> <div class=\"\"> </div></div> <div class=\"flex child:flex-1 gap-1 -mb-[3px] md:-mb-[.5px]\"><div><p class=\"\">Freddie Francis</p> <p class=\"\">1967, SciFi, 1h 25m</p></div> <div><p>Somerville Theatre</p> <div class=\"flex gap-[6px]\"><p>12:30 PM </p></div></div></div></div></div></button> <button class=\"w-full h-auto max-w-full text-left\"><div class=\"grid h-full md:grid-cols-5 gap-1 bg-white hover:bg-white/60 transition-colors p-1\"><div class=\"md:col-span-2\"><div class=\"aspect-w-16 aspect-h-9 \"><div class=\"bg-grey w-full h-full\"><img src=\"https://image.tmdb.org/t/p/original/9OOFIRotd2s7L7hUhOI1q2gTlu3.jpg\" srcset=\"https://image.tmdb.org/t/p/w300/9OOFIRotd2s7L7hUhOI1q2gTlu3.jpg 300w,\n",
      "\t\t\t\t\t\thttps://image.tmdb.org/t/p/w780/9OOFIRotd2s7L7hUhOI1q2gTlu3.jpg 780w,\n",
      "\t\t\t\t\t\thttps://image.tmdb.org/t/p/w1280/9OOFIRotd2s7L7hUhOI1q2gTlu3.jpg 1280w\n",
      "            https://image.tmdb.org/t/p/original/9OOFIRotd2s7L7hUhOI1q2gTlu3.jpg original\" class=\"w-full h-full object-cover opacity-0 duration-600 transition-opacity ease-in\" alt=\"Zontar: The Thing from Venus\"></div> </div></div> <div class=\"md:col-span-3 min-w-0 justify-between gap-4 md:gap-1 flex flex-col w-full sm:h-full\"><div class=\"w-full min-w-0\"><p class=\"big whitespace-normal w-full min-w-0 overflow-hidden\">Zontar: The Thing from Venus</p> <div class=\"\"> </div></div> <div class=\"flex child:flex-1 gap-1 -mb-[3px] md:-mb-[.5px]\"><div><p class=\"\">Larry Buchanan</p> <p class=\"\">1967, Horror, 1h 20m</p></div> <div><p>Somerville Theatre</p> <div class=\"flex gap-[6px]\"><p>2:10 PM </p></div></div></div></div></div></button> <button class=\"w-full h-auto max-w-full text-left\"><div class=\"grid h-full md:grid-cols-5 gap-1 bg-white hover:bg-white/60 transition-colors p-1\"><div class=\"md:col-span-2\"><div class=\"aspect-w-16 aspect-h-9 \"><div class=\"bg-grey w-full h-full\"><img src=\"https://d8767d82p0jxq.cloudfront.net/eyJidWNrZXQiOiJzY3JlZW5ib3N0b25waG90b3MiLCJrZXkiOiJIYXJyeSBTbWl0aC5qcGciLCJlZGl0cyI6eyJyZXNpemUiOnsid2lkdGgiOjEwNjAsImZpdCI6ImNvdmVyIn19fQ==\" srcset=\"https://d8767d82p0jxq.cloudfront.net/eyJidWNrZXQiOiJzY3JlZW5ib3N0b25waG90b3MiLCJrZXkiOiJIYXJyeSBTbWl0aC5qcGciLCJlZGl0cyI6eyJyZXNpemUiOnsid2lkdGgiOjMwMCwiZml0IjoiY292ZXIifX19 300w, https://d8767d82p0jxq.cloudfront.net/eyJidWNrZXQiOiJzY3JlZW5ib3N0b25waG90b3MiLCJrZXkiOiJIYXJyeSBTbWl0aC5qcGciLCJlZGl0cyI6eyJyZXNpemUiOnsid2lkdGgiOjYwMCwiZml0IjoiY292ZXIifX19 600w, https://d8767d82p0jxq.cloudfront.net/eyJidWNrZXQiOiJzY3JlZW5ib3N0b25waG90b3MiLCJrZXkiOiJIYXJyeSBTbWl0aC5qcGciLCJlZGl0cyI6eyJyZXNpemUiOnsid2lkdGgiOjEwNjAsImZpdCI6ImNvdmVyIn19fQ== 1060w\" alt=\"Harry Smith Films Nos. 1 â 5, 7 &amp; 10, 11 &amp; 16\" class=\"w-full h-full object-cover opacity-0 duration-600 transition-opacity ease-in\"></div> </div></div> <div class=\"md:col-span-3 min-w-0 justify-between gap-4 md:gap-1 flex flex-col w-full sm:h-full\"><div class=\"w-full min-w-0\"><p class=\"big whitespace-normal w-full min-w-0 overflow-hidden\">Harry Smith Films Nos. 1 â 5, 7 &amp; 10, 11 &amp; 16</p> <div class=\"\"> <p class=\"text-[14px] text-primary\">16mm</p></div></div> <div class=\"flex child:flex-1 gap-1 -mb-[3px] md:-mb-[.5px]\"><div><p class=\"\">Harry Smith</p> <p class=\"\">1946, Documentary, 0h 42m</p></div> <div><p>Harvard Film Archive</p> <div class=\"flex gap-[6px]\"><p>3:00 PM </p></div></div></div></div></div></button> <button class=\"w-full h-auto max-w-full text-left\"><div class=\"grid h-full md:grid-cols-5 gap-1 bg-white hover:bg-white/60 transition-colors p-1\"><div class=\"md:col-span-2\"><div class=\"aspect-w-16 aspect-h-9 \"><div class=\"bg-grey w-full h-full\"><img src=\"https://image.tmdb.org/t/p/original/dRKCNvOjXkRTIA3D3KAve7GRu4k.jpg\" srcset=\"https://image.tmdb.org/t/p/w300/dRKCNvOjXkRTIA3D3KAve7GRu4k.jpg 300w,\n",
      "\t\t\t\t\t\thttps://image.tmdb.org/t/p/w780/dRKCNvOjXkRTIA3D3KAve7GRu4k.jpg 780w,\n",
      "\t\t\t\t\t\thttps://image.tmdb.org/t/p/w1280/dRKCNvOjXkRTIA3D3KAve7GRu4k.jpg 1280w\n",
      "            https://image.tmdb.org/t/p/original/dRKCNvOjXkRTIA3D3KAve7GRu4k.jpg original\" class=\"w-full h-full object-cover opacity-0 duration-600 transition-opacity ease-in\" alt=\"Sherlock Jr.\"></div> </div></div> <div class=\"md:col-span-3 min-w-0 justify-between gap-4 md:gap-1 flex flex-col w-full sm:h-full\"><div class=\"w-full min-w-0\"><p class=\"big whitespace-normal w-full min-w-0 overflow-hidden\">Sherlock Jr.</p> <div class=\"\"><p class=\"text-[14px] text-primary\">Double Feature with The Navigator</p> </div></div> <div class=\"flex child:flex-1 gap-1 -mb-[3px] md:-mb-[.5px]\"><div><p class=\"\">Buster Keaton</p> <p class=\"\">1924, Action, 0h 45m</p></div> <div><p>The Brattle</p> <div class=\"flex gap-[6px]\"><p>3:15 PM </p></div></div></div></div></div></button> <button class=\"w-full h-auto max-w-full text-left\"><div class=\"grid h-full md:grid-cols-5 gap-1 bg-white hover:bg-white/60 transition-colors p-1\"><div class=\"md:col-span-2\"><div class=\"aspect-w-16 aspect-h-9 \"><div class=\"bg-grey w-full h-full\"><img src=\"https://image.tmdb.org/t/p/original/y3WwIEEDcbT88MxjCjM8mlBEF04.jpg\" srcset=\"https://image.tmdb.org/t/p/w300/y3WwIEEDcbT88MxjCjM8mlBEF04.jpg 300w,\n",
      "\t\t\t\t\t\thttps://image.tmdb.org/t/p/w780/y3WwIEEDcbT88MxjCjM8mlBEF04.jpg 780w,\n",
      "\t\t\t\t\t\thttps://image.tmdb.org/t/p/w1280/y3WwIEEDcbT88MxjCjM8mlBEF04.jpg 1280w\n",
      "            https://image.tmdb.org/t/p/original/y3WwIEEDcbT88MxjCjM8mlBEF04.jpg original\" class=\"w-full h-full object-cover opacity-0 duration-600 transition-opacity ease-in\" alt=\"Pandora's Box\"></div> </div></div> <div class=\"md:col-span-3 min-w-0 justify-between gap-4 md:gap-1 flex flex-col w-full sm:h-full\"><div class=\"w-full min-w-0\"><p class=\"big whitespace-normal w-full min-w-0 overflow-hidden\">Pandora's Box</p> <div class=\"\"> </div></div> <div class=\"flex child:flex-1 gap-1 -mb-[3px] md:-mb-[.5px]\"><div><p class=\"\">G.W. Pabst</p> <p class=\"\">1929, Drama, 2h 13m</p></div> <div><p>The Brattle</p> <div class=\"flex gap-[6px]\"><p>5:30 PM </p></div></div></div></div></div></button> <button class=\"w-full h-auto max-w-full text-left\"><div class=\"grid h-full md:grid-cols-5 gap-1 bg-white hover:bg-white/60 transition-colors p-1\"><div class=\"md:col-span-2\"><div class=\"aspect-w-16 aspect-h-9 \"><div class=\"bg-grey w-full h-full\"><img src=\"https://image.tmdb.org/t/p/original/nfSaFuQkLqnCrwf300wM3xIY5sT.jpg\" srcset=\"https://image.tmdb.org/t/p/w300/nfSaFuQkLqnCrwf300wM3xIY5sT.jpg 300w,\n",
      "\t\t\t\t\t\thttps://image.tmdb.org/t/p/w780/nfSaFuQkLqnCrwf300wM3xIY5sT.jpg 780w,\n",
      "\t\t\t\t\t\thttps://image.tmdb.org/t/p/w1280/nfSaFuQkLqnCrwf300wM3xIY5sT.jpg 1280w\n",
      "            https://image.tmdb.org/t/p/original/nfSaFuQkLqnCrwf300wM3xIY5sT.jpg original\" class=\"w-full h-full object-cover opacity-0 duration-600 transition-opacity ease-in\" alt=\"Le Cercle Rouge\"></div> </div></div> <div class=\"md:col-span-3 min-w-0 justify-between gap-4 md:gap-1 flex flex-col w-full sm:h-full\"><div class=\"w-full min-w-0\"><p class=\"big whitespace-normal w-full min-w-0 overflow-hidden\">Le Cercle Rouge</p> <div class=\"\"> <p class=\"text-[14px] text-primary\">35mm</p></div></div> <div class=\"flex child:flex-1 gap-1 -mb-[3px] md:-mb-[.5px]\"><div><p class=\"\">Jean-Pierre Melville</p> <p class=\"\">1970, Crime, 2h 20m</p></div> <div><p>Harvard Film Archive</p> <div class=\"flex gap-[6px]\"><p>7:00 PM </p></div></div></div></div></div></button> <button class=\"w-full h-auto max-w-full text-left\"><div class=\"grid h-full md:grid-cols-5 gap-1 bg-white hover:bg-white/60 transition-colors p-1\"><div class=\"md:col-span-2\"><div class=\"aspect-w-16 aspect-h-9 \"><div class=\"bg-grey w-full h-full\"><img src=\"https://image.tmdb.org/t/p/original/7eK8FJr4fqq3J5W2xvlr2GVaep2.jpg\" srcset=\"https://image.tmdb.org/t/p/w300/7eK8FJr4fqq3J5W2xvlr2GVaep2.jpg 300w,\n",
      "\t\t\t\t\t\thttps://image.tmdb.org/t/p/w780/7eK8FJr4fqq3J5W2xvlr2GVaep2.jpg 780w,\n",
      "\t\t\t\t\t\thttps://image.tmdb.org/t/p/w1280/7eK8FJr4fqq3J5W2xvlr2GVaep2.jpg 1280w\n",
      "            https://image.tmdb.org/t/p/original/7eK8FJr4fqq3J5W2xvlr2GVaep2.jpg original\" class=\"w-full h-full object-cover opacity-0 duration-600 transition-opacity ease-in\" alt=\"Twilight\"></div> </div></div> <div class=\"md:col-span-3 min-w-0 justify-between gap-4 md:gap-1 flex flex-col w-full sm:h-full\"><div class=\"w-full min-w-0\"><p class=\"big whitespace-normal w-full min-w-0 overflow-hidden\">Twilight</p> <div class=\"\"><p class=\"text-[14px] text-primary\">Twilight Saga Marathon - All 5 Films</p> </div></div> <div class=\"flex child:flex-1 gap-1 -mb-[3px] md:-mb-[.5px]\"><div><p class=\"\">Catherine Hardwicke</p> <p class=\"\">2008, Fantasy, 2h 2m</p></div> <div><p>Coolidge Corner Theatre</p> <div class=\"flex gap-[6px]\"><p>11:00 PM </p></div></div></div></div></div></button></div> </div><div class=\"max-w-screen\" id=\"2024-09-30\"><div class=\"uppercase p-1 bg-white sticky top-[82.2px] sm:top-[102.2px] md:top-[137.2px] z-10\"><p class=\"small\">Monday, September 30</p></div> <div class=\"max-w-screen grid lg:grid-cols-2 gap-0.5 p-0.5 px-1 pb-2 z-0 md:col-span-4 lg:col-span-2\"> <button class=\"w-full h-auto max-w-full text-left\"><div class=\"grid h-full md:grid-cols-5 gap-1 bg-white hover:bg-white/60 transition-colors p-1\"><div class=\"md:col-span-2\"><div class=\"aspect-w-16 aspect-h-9 \"><div class=\"bg-grey w-full h-full\"><img src=\"https://d8767d82p0jxq.cloudfront.net/eyJidWNrZXQiOiJzY3JlZW5ib3N0b25waG90b3MiLCJrZXkiOiJuRVE2SDJpaDJjYURIbmttSnFpT0MwbTBmS2suanBnIiwiZWRpdHMiOnsicmVzaXplIjp7IndpZHRoIjoxMDYwLCJmaXQiOiJjb3ZlciJ9fX0=\" srcset=\"https://d8767d82p0jxq.cloudfront.net/eyJidWNrZXQiOiJzY3JlZW5ib3N0b25waG90b3MiLCJrZXkiOiJuRVE2SDJpaDJjYURIbmttSnFpT0MwbTBmS2suanBnIiwiZWRpdHMiOnsicmVzaXplIjp7IndpZHRoIjozMDAsImZpdCI6ImNvdmVyIn19fQ== 300w, https://d8767d82p0jxq.cloudfront.net/eyJidWNrZXQiOiJzY3JlZW5ib3N0b25waG90b3MiLCJrZXkiOiJuRVE2SDJpaDJjYURIbmttSnFpT0MwbTBmS2suanBnIiwiZWRpdHMiOnsicmVzaXplIjp7IndpZHRoIjo2MDAsImZpdCI6ImNvdmVyIn19fQ== 600w, https://d8767d82p0jxq.cloudfront.net/eyJidWNrZXQiOiJzY3JlZW5ib3N0b25waG90b3MiLCJrZXkiOiJuRVE2SDJpaDJjYURIbmttSnFpT0MwbTBmS2suanBnIiwiZWRpdHMiOnsicmVzaXplIjp7IndpZHRoIjoxMDYwLCJmaXQiOiJjb3ZlciJ9fX0= 1060w\" alt=\"Training Day\" class=\"w-full h-full object-cover opacity-0 duration-600 transition-opacity ease-in\"></div> </div></div> <div class=\"md:col-span-3 min-w-0 justify-between gap-4 md:gap-1 flex flex-col w-full sm:h-full\"><div class=\"w-full min-w-0\"><p class=\"big whitespace-normal w-full min-w-0 overflow-hidden\">Training Day</p> <div class=\"\"> </div></div> <div class=\"flex child:flex-1 gap-1 -mb-[3px] md:-mb-[.5px]\"><div><p class=\"\">Antoine Fuqua</p> <p class=\"\">2001, Action, 2h 2m</p></div> <div><p>Coolidge Corner Theatre</p> <div class=\"flex gap-[6px]\"><p>7:00 PM </p></div></div></div></div></div></button> <button class=\"w-full h-auto max-w-full text-left\"><div class=\"grid h-full md:grid-cols-5 gap-1 bg-white hover:bg-white/60 transition-colors p-1\"><div class=\"md:col-span-2\"><div class=\"aspect-w-16 aspect-h-9 \"><div class=\"bg-grey w-full h-full\"><img src=\"https://image.tmdb.org/t/p/original/n5ekLLoLLoxDzXCvwEHmkSSeUtz.jpg\" srcset=\"https://image.tmdb.org/t/p/w300/n5ekLLoLLoxDzXCvwEHmkSSeUtz.jpg 300w,\n",
      "\t\t\t\t\t\thttps://image.tmdb.org/t/p/w780/n5ekLLoLLoxDzXCvwEHmkSSeUtz.jpg 780w,\n",
      "\t\t\t\t\t\thttps://image.tmdb.org/t/p/w1280/n5ekLLoLLoxDzXCvwEHmkSSeUtz.jpg 1280w\n",
      "            https://image.tmdb.org/t/p/original/n5ekLLoLLoxDzXCvwEHmkSSeUtz.jpg original\" class=\"w-full h-full object-cover opacity-0 duration-600 transition-opacity ease-in\" alt=\"The Big Risk\"></div> </div></div> <div class=\"md:col-span-3 min-w-0 justify-between gap-4 md:gap-1 flex flex-col w-full sm:h-full\"><div class=\"w-full min-w-0\"><p class=\"big whitespace-normal w-full min-w-0 overflow-hidden\">The Big Risk</p> <div class=\"\"> </div></div> <div class=\"flex child:flex-1 gap-1 -mb-[3px] md:-mb-[.5px]\"><div><p class=\"\">Claude Sautet</p> <p class=\"\">1960, Crime, 1h 50m</p></div> <div><p>Harvard Film Archive</p> <div class=\"flex gap-[6px]\"><p>7:00 PM </p></div></div></div></div></div></button> <button class=\"w-full h-auto max-w-full text-left\"><div class=\"grid h-full md:grid-cols-5 gap-1 bg-white hover:bg-white/60 transition-colors p-1\"><div class=\"md:col-span-2\"><div class=\"aspect-w-16 aspect-h-9 \"><div class=\"bg-grey w-full h-full\"><img src=\"https://image.tmdb.org/t/p/original/dRKCNvOjXkRTIA3D3KAve7GRu4k.jpg\" srcset=\"https://image.tmdb.org/t/p/w300/dRKCNvOjXkRTIA3D3KAve7GRu4k.jpg 300w,\n",
      "\t\t\t\t\t\thttps://image.tmdb.org/t/p/w780/dRKCNvOjXkRTIA3D3KAve7GRu4k.jpg 780w,\n",
      "\t\t\t\t\t\thttps://image.tmdb.org/t/p/w1280/dRKCNvOjXkRTIA3D3KAve7GRu4k.jpg 1280w\n",
      "            https://image.tmdb.org/t/p/original/dRKCNvOjXkRTIA3D3KAve7GRu4k.jpg original\" class=\"w-full h-full object-cover opacity-0 duration-600 transition-opacity ease-in\" alt=\"Sherlock Jr.\"></div> </div></div> <div class=\"md:col-span-3 min-w-0 justify-between gap-4 md:gap-1 flex flex-col w-full sm:h-full\"><div class=\"w-full min-w-0\"><p class=\"big whitespace-normal w-full min-w-0 overflow-hidden\">Sherlock Jr.</p> <div class=\"\"><p class=\"text-[14px] text-primary\">Double Feature with The Navigator</p> </div></div> <div class=\"flex child:flex-1 gap-1 -mb-[3px] md:-mb-[.5px]\"><div><p class=\"\">Buster Keaton</p> <p class=\"\">1924, Action, 0h 45m</p></div> <div><p>The Brattle</p> <div class=\"flex gap-[6px]\"><p>8:30 PM </p></div></div></div></div></div></button></div> </div></div></div> \n",
      "\t\t\t\n",
      "\t\t\t<script>\n",
      "\t\t\t\t{\n",
      "\t\t\t\t\t__sveltekit_zs6bau = {\n",
      "\t\t\t\t\t\tbase: new URL(\".\", location).pathname.slice(0, -1),\n",
      "\t\t\t\t\t\tenv: {}\n",
      "\t\t\t\t\t};\n",
      "\n",
      "\t\t\t\t\tconst element = document.currentScript.parentElement;\n",
      "\n",
      "\t\t\t\t\tconst data = [{\"type\":\"data\",\"data\":{data:[{image:\"https://cdn.sanity.io/images/zey523mz/production/d0232e53adce963da46dce6fb4707533bee5bdaf-275x183.jpg\",title:\"Bright Lights\",address:\"559 Washington St, Boston, MA 02111\"},{image:\"https://cdn.sanity.io/images/zey523mz/production/893b9955345df35afac0cb238c91325bf2b43978-5100x3480.jpg\",title:\"Capitol Theatre\",address:\"204 Massachusetts Ave, Arlington, MA 02474\"},{image:\"https://cdn.sanity.io/images/zey523mz/production/7e07767222875d393cda8cd63276d0c133b50164-2800x1795.webp\",title:\"Coolidge Corner Theatre\",address:\"290 Harvard St, Brookline, MA 02446\"},{image:\"https://cdn.sanity.io/images/zey523mz/production/4b8ef0369e77f24236ecbfed2dcf229322ef1400-2000x1125.jpg\",title:\"Embassy Theater\",address:\"16 Pine St, Waltham, MA 02453\"},{image:\"https://cdn.sanity.io/images/zey523mz/production/164ec7e324059922ba796bf0c6aaca237486c06b-840x563.jpg\",title:\"Goethe-Institut\",address:\"170 Beacon St, Boston, MA 02116\"},{image:\"https://cdn.sanity.io/images/zey523mz/production/87f7761737cc7c20d5986fa3c438e31417702919-3940x2954.jpg\",title:\"Harvard Film Archive\",address:\"24 Quincy St, Cambridge, MA 02138\"},{image:\"https://cdn.sanity.io/images/zey523mz/production/efd4255a6138d1a6e28b80100ba0daa6df8f6741-1500x1125.jpg\",title:\"MassArt\",address:\"621 Huntington Ave, Boston, MA 02115\"},{image:\"https://cdn.sanity.io/images/zey523mz/production/44e3a756294be1312041584286c849d26709e3fc-1600x900.jpg\",title:\"Mount Auburn Cemetery\",address:\"580 Mt Auburn St, Cambridge, MA 02138\"},{image:\"https://cdn.sanity.io/images/zey523mz/production/efef281b392f0dc5cad3107ee1ae678e81c36567-1037x691.jpg\",title:\"Museum of Fine Arts\",address:\"465 Huntington Ave, Boston, MA 02115\"},{image:\"https://cdn.sanity.io/images/zey523mz/production/f0f817c58cea484b0f1418f75741fd752d380fcf-1600x900.jpg\",title:\"Rocky Woods\",address:\"38 Hartford St, Medfield, MA 02052\"},{image:\"https://cdn.sanity.io/images/zey523mz/production/911d64575522e7e2518b15126f7a516088706e63-4032x3024.jpg\",title:\"Somerville Theatre\",address:\"55 Davis Square, Somerville, MA 02144\"},{image:\"https://cdn.sanity.io/images/zey523mz/production/86394349b7b2240adab0b7821604c8b75951894e-2918x2040.jpg\",title:\"The Brattle\",address:\"40 Brattle St, Cambridge, MA 02138\"},{image:\"https://cdn.sanity.io/images/zey523mz/production/4aaf9d2a735cf7a5406cd8f5eed7c3d6b0991d97-2016x1512.jpg\",title:\"The Greenway\",address:\"Atlantic Ave & Milk St, Boston, MA 02110\"},{image:\"https://cdn.sanity.io/images/zey523mz/production/fc01f418b3ba51f70eb61c36392060298661bf9e-1560x1170.jpg\",title:\"The Speedway\",address:\"525 Western Ave, Brighton, MA 02135\"},{image:\"https://cdn.sanity.io/images/zey523mz/production/9054edee4655e07accb65ddb252618a863e7fa06-1000x563.jpg\",title:\"West Newton Cinema\",address:\"1296 Washington St, West Newton, MA 02465\"}]},\"uses\":{}},{\"type\":\"data\",\"data\":{data:{screenings:{\"2024-09-15\":[{id:1271,tmdb_id:11016,theater:\"The Brattle\",link:\"https://brattlefilm.org/movies/key-largo/\",day:\"2024-09-15\",format:\"35mm\",time:[\"12:00:00\"],notes:\"\",presented_by_sb:false,movies:{id:11016,year:1948,genre:[80,53],title:\"Key Largo\",runtime:100,director:\"John Huston\",override:\"\",description:\"A hurricane swells outside, but it's nothing compared to the storm within the hotel at Key Largo. There, sadistic mobster Johnny Rocco holes up - and holds at gunpoint hotel owner James Temple, his widowed daughter-in-law Nora, and ex-GI Frank McCloud.\",poster_path:\"/9ZhQ9iMUtck9DvKm7mfB2332fRr.jpg\",backdrop_path:\"/m2SXRnAd0d5N6qH2cbgluRgMX4z.jpg\"}},{id:1253,tmdb_id:947,theater:\"Coolidge Corner Theatre\",link:\"https://coolidge.org/films/lawrence-arabia-70mm\",day:\"2024-09-15\",format:\"70mm\",time:[\"14:00:00\"],notes:\"\",presented_by_sb:true,movies:{id:947,year:1962,genre:[12,36,10752],title:\"Lawrence of Arabia\",runtime:228,director:\"David Lean\",override:\"\",description:\"The story of British officer T.E. Lawrence's mission to aid the Arab tribes in their revolt against the Ottoman Empire during the First World War. Lawrence becomes a flamboyant, messianic figure in the cause of Arab unity but his psychological instability threatens to undermine his achievements.\",poster_path:\"/AiAm0EtDvyGqNpVoieRw4u65vD1.jpg\",backdrop_path:\"/mx2jS5Kaa5rmaldEFzKeKpDN9Q2.jpg\"}},{id:1272,tmdb_id:69605,theater:\"The Brattle\",link:\"https://brattlefilm.org/movies/written-on-the-wind/\",day:\"2024-09-15\",format:\"35mm\",time:[\"14:30:00\"],notes:\"\",presented_by_sb:false,movies:{id:69605,year:1956,genre:[18,10749],title:\"Written on the Wind\",runtime:99,director:\"Douglas Sirk\",override:\"\",description:\"Mitch Wayne is a geologist working for the Hadleys, an oil-rich Texas family. While the patriarch, Jasper, works hard to establish the family business, his irresponsible son, Kyle, is an alcoholic playboy, and his daughter, Marylee, is the town tramp. Mitch harbors a secret love for Kyle's unsatisfied wife, Lucy -- a fact that leaves him exposed when the jealous Marylee accuses him of murder.\",poster_path:\"/paeBU70fHsFAOooWM5V35q562f2.jpg\",backdrop_path:\"/xoJiT00Koax8Zbj7pBzy6i6fOUh.jpg\"}},{id:1288,tmdb_id:12092,theater:\"Harvard Film Archive\",link:\"https://harvardfilmarchive.org/calendar/alice-in-wonderland-2024-09\",day:\"2024-09-15\",format:\"35mm\",time:[\"15:00:00\"],notes:\"\",presented_by_sb:false,movies:{id:12092,year:1951,genre:[16,10751,14,12],title:\"Alice in Wonderland\",runtime:75,director:\"Clyde Geronimi, Wilfred Jackson, Hamilton Luske\",override:\"\",description:\"On a golden afternoon, young Alice follows a White Rabbit, who disappears down a nearby rabbit hole. Quickly following him, she tumbles into the burrow - and enters the merry, topsy-turvy world of Wonderland! Memorable songs and whimsical escapades highlight Alice's journey, which culminates in a madcap encounter with the Queen of Hearts - and her army of playing cards!\",poster_path:\"/20cvfwfaFqNbe9Fc3VEHJuPRxmn.jpg\",backdrop_path:\"/b4yiLlIFuiULuuLTxT0Pt1QyT6J.jpg\"}},{id:1274,tmdb_id:10297,theater:\"The Brattle\",link:\"https://brattlefilm.org/movies/how-to-marry-a-millionaire/\",day:\"2024-09-15\",format:\"DCP\",time:[\"16:45:00\"],notes:\"\",presented_by_sb:false,movies:{id:10297,year:1953,genre:[35,10749],title:\"How to Marry a Millionaire\",runtime:95,director:\"Jean Negulesco\",override:\"\",description:\"Three women set out to find eligible millionaires to marry, but find true love in the process.\",poster_path:\"/dFwefYyEOOZaWVn15xGY6CbYYJ2.jpg\",backdrop_path:\"/pkOgOztKdFadcarmNZwrOcNHrdq.jpg\"}},{id:1019,tmdb_id:10428,theater:\"Somerville Theatre\",link:\"https://www.somervilletheatre.com/production/hackers-in-35mm/\",day:\"2024-09-15\",format:\"35mm\",time:[\"18:00:00\"],notes:\"\",presented_by_sb:false,movies:{id:10428,year:1995,genre:[28,80,53,18],title:\"Hackers\",runtime:107,director:\"Iain Softley\",override:\"\",description:\"Along with his new friends, a teenager who was arrested by the US Secret Service and banned from using a computer for writing a computer virus discovers a plot by a nefarious hacker, but they must use their computer skills to find the evidence while being pursued by the Secret Service and the evil computer genius behind the virus.\",poster_path:\"/qfx2EENW1sOpKNVKLzr7VOhlxkt.jpg\",backdrop_path:\"/bqFO92d1idNAI4OOncUrduz2YoA.jpg\"}},{id:1185,tmdb_id:11657,theater:\"Harvard Film Archive\",link:\"https://harvardfilmarchive.org/calendar/le-cercle-rouge-2024-09\",day:\"2024-09-15\",format:\"DCP\",time:[\"19:00:00\"],notes:\"\",presented_by_sb:false,movies:{id:11657,year:1970,genre:[80,53],title:\"Le Cercle Rouge\",runtime:140,director:\"Jean-Pierre Melville\",override:\"\",description:\"When French criminal Corey gets released from prison, he resolves to never return. He is quickly pulled back into the underworld, however, after a chance encounter with escaped murderer Vogel. Along with former policeman and current alcoholic Jansen, they plot an intricate jewel heist. All the while, quirky Police Commissioner Mattei, who was the one to lose custody of Vogel, is determined to find him.\",poster_path:\"/w56La43IJnGpLepgqfGCAZsbQPp.jpg\",backdrop_path:\"/nfSaFuQkLqnCrwf300wM3xIY5sT.jpg\"}},{id:1275,tmdb_id:553,theater:\"The Brattle\",link:\"https://brattlefilm.org/movies/dogville/\",day:\"2024-09-15\",format:\"DCP\",time:[\"19:30:00\"],notes:\"\",presented_by_sb:false,movies:{id:553,year:2003,genre:[80,18,53],title:\"Dogville\",runtime:178,director:\"Lars von Trier\",override:\"\",description:\"When a beautiful young Grace arrives in the isolated township of Dogville, the small community agrees to hide her from a gang of ruthless gangsters, and, in return, Grace agrees to do odd jobs for the townspeople.\",poster_path:\"/lraVawavIXh5geMlVjpzCw9TGwR.jpg\",backdrop_path:\"/sNACthNvOoSTJxo240N5sqa67ip.jpg\"}}],\"2024-09-16\":[{id:1268,tmdb_id:910,theater:\"The Brattle\",link:\"https://brattlefilm.org/movies/the-big-sleep/\",day:\"2024-09-16\",format:\"35mm\",time:[\"17:30:00\"],notes:\"\",presented_by_sb:false,movies:{id:910,year:1946,genre:[9648,80,53],title:\"The Big Sleep\",runtime:114,director:\"Howard Hawks\",override:\"large_the_big_sleep_X03_blu-ray_.jpg\",description:\"Private Investigator Philip Marlowe is hired by wealthy General Sternwood regarding a matter involving his youngest daughter Carmen. Before the complex case is over, Marlowe sees murder, blackmail, deception, and what might be love.\",poster_path:\"/lraHo9D8c0YWfxsKqT5P5sVqMKN.jpg\",backdrop_path:\"/1fMD4KvZ4cR04aQo6hH6R5NdIH8.jpg\"}},{id:1192,tmdb_id:404,theater:\"Coolidge Corner Theatre\",link:\"https://coolidge.org/films/straight-story\",day:\"2024-09-16\",format:\"35mm\",time:[\"19:00:00\"],notes:null,presented_by_sb:null,movies:{id:404,year:1999,genre:[18],title:\"The Straight Story\",runtime:112,director:\"David Lynch\",override:null,description:\"A retired farmer and widower in his 70s, Alvin Straight learns one day that his distant brother Lyle has suffered a stroke and may not recover. Alvin is determined to make things right with Lyle while he still can, but his brother lives in Wisconsin, while Alvin is stuck in Iowa with no car and no driver's license. Then he hits on the idea of making the trip on his old lawnmower, thus beginning a picturesque and at times deeply spiritual odyssey.\",poster_path:\"/tT9cMiVDdtlcdZxOoFy3VRmEoKk.jpg\",backdrop_path:\"/veiWT3UYVvEOGCfGZLGDJtjJvdV.jpg\"}},{id:1355,tmdb_id:795811,theater:\"Harvard Film Archive\",link:\"https://harvardfilmarchive.org/calendar/wheel-of-fortune-and-fantasy-2024-09\",day:\"2024-09-16\",format:\"DCP\",time:[\"19:00:00\"],notes:\"RyÅ«suke Hamaguchi in Person\",presented_by_sb:false,movies:{id:795811,year:2021,genre:[18,10749],title:\"Wheel of Fortune and Fantasy\",runtime:121,director:\"RyÅ«suke Hamaguchi\",override:\"\",description:\"An unexpected love triangle, a seduction trap, and a random encounter are the three episodes, told in three movements to depict three female characters and trace the trajectories between their choices and regrets.\",poster_path:\"/z3xqVWOsetW6pSEgx1uiqXfzRet.jpg\",backdrop_path:\"/uvoOoMvI5n4K5PXi44yPMfu2Ibt.jpg\"}},{id:1417,tmdb_id:62,theater:\"Coolidge Corner Theatre\",link:\"https://coolidge.org/films/2001-space-odyssey\",day:\"2024-09-16\",format:\"70mm\",time:[\"19:30:00\"],notes:\"\",presented_by_sb:false,movies:{id:62,year:1968,genre:[878,9648,12],title:\"2001: A Space Odyssey\",runtime:149,director:\"Stanley Kubrick\",override:\"\",description:\"Humanity finds a mysterious object buried beneath the lunar surface and sets off to find its origins with the help of HAL 9000, the world's most advanced super computer.\",poster_path:\"/ve72VxNqjGM69Uky4WTo2bK6rfq.jpg\",backdrop_path:\"/w5IDXtifKntw0ajv2co7jFlTQDM.jpg\"}},{id:1276,tmdb_id:26268,theater:\"The Brattle\",link:\"https://brattlefilm.org/movies/harper/\",day:\"2024-09-16\",format:\"35mm\",time:[\"20:00:00\"],notes:\"\",presented_by_sb:false,movies:{id:26268,year:1966,genre:[9648,80,53],title:\"Harper\",runtime:121,director:\"Jack Smight\",override:\"\",description:\"Harper is a cynical private eye in the best tradition of Bogart. He even has Bogie's Baby hiring him to find her missing husband, getting involved along the way with an assortment of unsavory characters and an illegal-alien smuggling ring.\",poster_path:\"/zy56CkGHBA9WubuJ7fjntTZCvRi.jpg\",backdrop_path:\"/lSjWDLe8KwU731Bhs1TAwA7agGH.jpg\"}}],\"2024-09-17\":[{id:1350,tmdb_id:260,theater:\"Somerville Theatre\",link:\"https://www.somervilletheatre.com/production/the-39-steps/\",day:\"2024-09-17\",format:\"DCP\",time:[\"19:00:00\"],notes:\"\",presented_by_sb:false,movies:{id:260,year:1935,genre:[9648,53],title:\"The 39 Steps\",runtime:86,director:\"Alfred Hitchcock\",override:\"\",description:\"Richard Hanney has a rude awakening when a glamorous female spy falls into his bed - with a knife in her back. Having a bit of trouble explaining it all to Scotland Yard, he heads for the hills of Scotland to try to clear his name by locating the spy ring known as The 39 Steps.\",poster_path:\"/paI9Tmqm2cZG6xy4Tnjw3Ydjuw5.jpg\",backdrop_path:\"/aCUka2PmLUIUINsiTNzOIqjS3sW.jpg\"}},{id:1364,tmdb_id:426,theater:\"Coolidge Corner Theatre\",link:\"https://coolidge.org/films/vertigo-70mm\",day:\"2024-09-17\",format:\"70mm\",time:[\"19:30:00\"],notes:\"\",presented_by_sb:false,movies:{id:426,year:1958,genre:[9648,10749,53],title:\"Vertigo\",runtime:129,director:\"Alfred Hitchcock\",override:\"\",description:\"A retired San Francisco detective suffering from acrophobia investigates the strange activities of an old friend's wife, all the while becoming dangerously obsessed with her.\",poster_path:\"/15uOEfqBNTVtDUT7hGBVCka0rZz.jpg\",backdrop_path:\"/77aHwg1SCy89rfvQtiruPU58qEV.jpg\"}},{id:1278,tmdb_id:4176,theater:\"The Brattle\",link:\"https://brattlefilm.org/movies/murder-on-the-orient-express/\",day:\"2024-09-17\",format:\"DCP\",time:[\"20:00:00\"],notes:\"\",presented_by_sb:false,movies:{id:4176,year:1974,genre:[18,53,9648],title:\"Murder on the Orient Express\",runtime:128,director:\"Sidney Lumet\",override:null,description:\"In 1935, when his train is stopped by deep snow, detective Hercule Poirot is called on to solve a murder that occurred in his car the night before.\",poster_path:\"/6tHXXo9kciCKGp3kF0ffY9mjuOA.jpg\",backdrop_path:\"/tAXK5R0ytrN2l2qgGfyxums5J0w.jpg\"}},{id:1349,tmdb_id:940,theater:\"Somerville Theatre\",link:\"https://www.somervilletheatre.com/production/the-lady-vanishes/\",day:\"2024-09-17\",format:\"DCP\",time:[\"20:40:00\"],notes:\"\",presented_by_sb:false,movies:{id:940,year:1938,genre:[9648,53,35],title:\"The Lady Vanishes\",runtime:96,director:\"Alfred Hitchcock\",override:\"\",description:\"On a train headed for England a group of travelers is delayed by an avalanche. Holed up in a hotel in a fictional European country, young Iris befriends elderly Miss Froy. When the train resumes, Iris suffers a bout of unconsciousness and wakes to find the old woman has disappeared. The other passengers ominously deny Miss Froy ever existed, so Iris begins to investigate with another traveler and, as the pair sleuth, romantic sparks fly.\",poster_path:\"/c1t9LB76LvEARPanfEzXmkm7fwY.jpg\",backdrop_path:\"/15HEZcSKtLcl69avXfmjoIJBuay.jpg\"}}],\"2024-09-18\":[{id:1393,tmdb_id:26268,theater:\"The Brattle\",link:\"https://brattlefilm.org/movies/harper/\",day:\"2024-09-18\",format:\"35mm\",time:[\"16:00:00\"],notes:\"\",presented_by_sb:false,movies:{id:26268,year:1966,genre:[9648,80,53],title:\"Harper\",runtime:121,director:\"Jack Smight\",override:\"\",description:\"Harper is a cynical private eye in the best tradition of Bogart. He even has Bogie's Baby hiring him to find her missing husband, getting involved along the way with an assortment of unsavory characters and an illegal-alien smuggling ring.\",poster_path:\"/zy56CkGHBA9WubuJ7fjntTZCvRi.jpg\",backdrop_path:\"/lSjWDLe8KwU731Bhs1TAwA7agGH.jpg\"}},{id:1498,tmdb_id:-10,theater:\"The Brattle\",link:\"https://brattlefilm.org/special_events/a-faith-hubley-centennial/\",day:\"2024-09-18\",format:\"35mm\",time:[\"19:00:00\"],notes:\"Filmmaker's Daughter in Person \",presented_by_sb:false,movies:{id:-10,year:1974,genre:[16],title:\"A Faith Hubley Centennial (part 1)\",runtime:75,director:\"Faith Hubley\",override:\"5be0a3cb14295.jpg\",description:\"A selection of films by the animator Faith Hubley in celebration of what would be her 100th birthday, presented by her daughter, filmmaker Emily Hubley. \\nWhither Weather (1977), 10 min\\nEnter Life (1982), 7 min\\nHello (1984), 9 min\\nVoyage to Next (1974), 8 min\\nTime of the Angels (1987), 10 min\\nFaithy, hey (2018), 5 min\\nTall Time Tales (1992), 8 min (on 35mm!)\\nWitch Madness (1999), 9 min (on 35mm!)\\nNorthern Ice Golden Sun (2001), 6 min (on 35mm!) \",poster_path:null,backdrop_path:null}},{id:1251,tmdb_id:466272,theater:\"Coolidge Corner Theatre\",link:\"https://coolidge.org/films/once-upon-time-hollywood-70mm\",day:\"2024-09-18\",format:\"70mm\",time:[\"19:30:00\"],notes:\"\",presented_by_sb:true,movies:{id:466272,year:2019,genre:[35,18,53],title:\"Once Upon a Time... in Hollywood\",runtime:162,director:\"Quentin Tarantino\",override:\"\",description:\"Los Angeles, 1969. TV star Rick Dalton, a struggling actor specializing in westerns, and stuntman Cliff Booth, his best friend, try to survive in a constantly changing movie industry. Dalton is the neighbor of the young and promising actress and model Sharon Tate, who has just married the prestigious Polish director Roman Polanskiâ¦\",poster_path:\"/8j58iEBw9pOXFD2L0nt0ZXeHviB.jpg\",backdrop_path:\"/oRiUKwDpcqDdoLwPoA4FIRh3hqY.jpg\"}}],\"2024-09-19\":[{id:1335,tmdb_id:69605,theater:\"The Brattle\",link:\"https://brattlefilm.org/movies/written-on-the-wind/\",day:\"2024-09-19\",format:\"35mm\",time:[\"16:00:00\"],notes:\"\",presented_by_sb:false,movies:{id:69605,year:1956,genre:[18,10749],title:\"Written on the Wind\",runtime:99,director:\"Douglas Sirk\",override:\"\",description:\"Mitch Wayne is a geologist working for the Hadleys, an oil-rich Texas family. While the patriarch, Jasper, works hard to establish the family business, his irresponsible son, Kyle, is an alcoholic playboy, and his daughter, Marylee, is the town tramp. Mitch harbors a secret love for Kyle's unsatisfied wife, Lucy -- a fact that leaves him exposed when the jealous Marylee accuses him of murder.\",poster_path:\"/paeBU70fHsFAOooWM5V35q562f2.jpg\",backdrop_path:\"/xoJiT00Koax8Zbj7pBzy6i6fOUh.jpg\"}},{id:1214,tmdb_id:621,theater:\"Coolidge Corner Theatre\",link:\"https://coolidge.org/films/grease-1978-sing-along\",day:\"2024-09-19\",format:\"DCP\",time:[\"19:00:00\"],notes:\"Sing-Along\",presented_by_sb:false,movies:{id:621,year:1978,genre:[10749,35],title:\"Grease\",runtime:110,director:\"Randal Kleiser\",override:\"\",description:\"Australian good girl Sandy and greaser Danny fell in love over the summer. But when they unexpectedly discover they're now in the same high school, will they be able to rekindle their romance despite their eccentric friends?\",poster_path:\"/tffa4pHTS5RAhzR4KFX9BfIVn8I.jpg\",backdrop_path:\"/pdhDFmVQSA0f5i5IL0gpWROjgZ5.jpg\"}},{id:1358,tmdb_id:141,theater:\"Museum of Fine Arts\",link:\"https://mfa.org/event/film/donnie-darko?event=127416\",day:\"2024-09-19\",format:\"DCP\",time:[\"19:00:00\"],notes:\"\",presented_by_sb:false,movies:{id:141,year:2001,genre:[14,18,9648],title:\"Donnie Darko\",runtime:114,director:\"Richard Kelly\",override:\"\",description:\"After narrowly escaping a bizarre accident, a troubled teenager is plagued by visions of a large bunny rabbit that manipulates him to commit a series of crimes.\",poster_path:\"/fhQoQfejY1hUcwyuLgpBrYs6uFt.jpg\",backdrop_path:\"/msCHK5Kh1YbdZ0zPJ2nzPUhhSN9.jpg\"}},{id:1497,tmdb_id:-11,theater:\"The Brattle\",link:\"https://brattlefilm.org/special_events/a-faith-hubley-centennial/\",day:\"2024-09-19\",format:\"35mm\",time:[\"19:00:00\"],notes:\"Filmmaker's Daughter in Person \",presented_by_sb:false,movies:{id:-11,year:1958,genre:[16],title:\"A Faith Hubley Centennial (Part 2)\",runtime:75,director:\"Faith Hubley\",override:\"windy day.jpg\",description:\"A selection of films by the animator Faith Hubley in celebration of what would be her 100th birthday, presented by her daughter, filmmaker Emily Hubley \\nTender Game (1958), 6 min (on 35mm!)\\nDate with Dizzy (1958), 10 min (on 35mm!)\\nThe Hat (1964), 18 min (on 35mm!)\\nWindy Day (1967), 8 min\\nHer Grandmotherâs Gift (1995), 5 min\\nRainbows of Hawaii (1995), 10 min\\nSet Set Spike (2002), 4 min\\nBrainworm Billy (2018), 4 min\",poster_path:null,backdrop_path:null}},{id:1362,tmdb_id:3114,theater:\"Somerville Theatre\",link:\"https://www.somervilletheatre.com/production/the-searchers/\",day:\"2024-09-19\",format:\"70mm\",time:[\"19:30:00\"],notes:\"\",presented_by_sb:false,movies:{id:3114,year:1956,genre:[37],title:\"The Searchers\",runtime:119,director:\"John Ford\",override:\"\",description:\"As a Civil War veteran spends years searching for a young niece captured by Indians, his motivation becomes increasingly questionable.\",poster_path:\"/jLBmgW0epNzJ1N9uzaVCjbyT94v.jpg\",backdrop_path:\"/grJi7ukBcPOH6hpGOw0v7tIZrds.jpg\"}},{id:1345,tmdb_id:20770,theater:\"Coolidge Corner Theatre\",link:\"https://coolidge.org/films/im-cheerleader\",day:\"2024-09-19\",format:\"DCP\",time:[\"21:55:00\"],notes:\"\",presented_by_sb:false,movies:{id:20770,year:2000,genre:[35,10749],title:\"But I'm a Cheerleader\",runtime:85,director:\"Jamie Babbit\",override:\"But_Im_a_Cheerleader-MAIN.jpg\",description:\"Megan is an all-American girl. A cheerleader. She has a boyfriend. But Megan doesn't like kissing her boyfriend very much. And she's pretty touchy with her cheerleader friends. Her conservative parents worry that she must be a lesbian and send her off to \\\"sexual redirection\\\" school, where she must, with other lesbians and gays learn how to be straight.\",poster_path:\"/zC3BaoHJsrIeqOg4eZolNszsTej.jpg\",backdrop_path:\"/f4ZgIaMpOWd6rewhCfoIIMqWquh.jpg\"}}],\"2024-09-20\":[{id:1250,tmdb_id:3114,theater:\"Somerville Theatre\",link:\"https://www.somervilletheatre.com/production/the-searchers/\",day:\"2024-09-20\",format:\"70mm\",time:[\"16:00:00\",\"19:30:00\"],notes:\"\",presented_by_sb:true,movies:{id:3114,year:1956,genre:[37],title:\"The Searchers\",runtime:119,director:\"John Ford\",override:\"\",description:\"As a Civil War veteran spends years searching for a young niece captured by Indians, his motivation becomes increasingly questionable.\",poster_path:\"/jLBmgW0epNzJ1N9uzaVCjbyT94v.jpg\",backdrop_path:\"/grJi7ukBcPOH6hpGOw0v7tIZrds.jpg\"}},{id:1400,tmdb_id:244786,theater:\"Somerville Theatre\",link:\"https://www.somervilletheatre.com/production/whiplash-10th-anniversary-rerelease/\",day:\"2024-09-20\",format:\"DCP\",time:[\"16:30:00\"],notes:\"Start of 3-day run\",presented_by_sb:false,movies:{id:244786,year:2014,genre:[18,10402],title:\"Whiplash\",runtime:107,director:\"Damien Chazelle\",override:\"\",description:\"Under the direction of a ruthless instructor, a talented young drummer begins to pursue perfection at any cost, even his humanity.\",poster_path:\"/7fn624j5lj3xTme2SgiLCeuedmO.jpg\",backdrop_path:\"/vNXGrknx4GjWLgmuNTftWZluIUl.jpg\"}},{id:1289,tmdb_id:40650,theater:\"Harvard Film Archive\",link:\"https://harvardfilmarchive.org/calendar/the-silence-of-the-sea-2024-10\",day:\"2024-09-20\",format:\"35mm\",time:[\"19:00:00\"],notes:\"\",presented_by_sb:false,movies:{id:40650,year:1949,genre:[18,10752],title:\"The Silence of the Sea\",runtime:87,director:\"Jean-Pierre Melville\",override:\"\",description:\"In a small town in occupied France in 1941, the German officer, Werner Von Ebrennac is billeted in the house of the uncle and his niece. The uncle and niece refuse to speak to him, but each evening the officer warms himself by the fire and talks of his country, his music, and his idealistic views of the relationship between France and Germany. That is, until he visits Paris and discovers what is really going on...\",poster_path:\"/5yagil6aUFTkdYqIoldZmDAGpay.jpg\",backdrop_path:\"/5tEJWRXGEWQGZrCtJb5krxYvg6r.jpg\"}},{id:1249,tmdb_id:967,theater:\"Coolidge Corner Theatre\",link:\"https://coolidge.org/films/spartacus-70mm\",day:\"2024-09-20\",format:\"70mm\",time:[\"19:30:00\"],notes:\"\",presented_by_sb:true,movies:{id:967,year:1960,genre:[36,10752,18,12],title:\"Spartacus\",runtime:197,director:\"Stanley Kubrick\",override:\"\",description:\"The rebellious Thracian Spartacus, born and raised a slave, is sold to Gladiator trainer Batiatus. After weeks of being trained to kill for the arena, Spartacus turns on his owners and leads the other slaves in rebellion. As the rebels move from town to town, their numbers swell as escaped slaves join their ranks. Under the leadership of Spartacus, they make their way to southern Italy, where they will cross the sea and return to their homes.\",poster_path:\"/xLPpQlFWE12cbqNJQ5Vf4eJU8ij.jpg\",backdrop_path:\"/aheSIG4h3JNxWeDvdb1NxKzgjaM.jpg\"}},{id:1365,tmdb_id:271680,theater:\"The Brattle\",link:\"https://brattlefilm.org/movies/naked-acts/\",day:\"2024-09-20\",format:\"DCP\",time:[\"20:00:00\"],notes:\"\",presented_by_sb:false,movies:{id:271680,year:1996,genre:[35,18],title:\"Naked Acts\",runtime:87,director:\"Bridgett M. Davis\",override:\"\",description:\"An aspiring actress has lost considerable weight to land her first movie role, but what the director didnât tell her was that it includes a nude scene. Reluctant to do it, she embarks on a personal journey that unveils secrets once hidden under her weight, as she discovers emotional nudity is just as revealing as taking her clothes off.\",poster_path:\"/oMOwQFackj5WWE4rH6KgxdWAIef.jpg\",backdrop_path:\"/b6njtlDwFR7ijJM5XPr9QmjjIVD.jpg\"}},{id:1353,tmdb_id:115784,theater:\"Harvard Film Archive\",link:\"https://harvardfilmarchive.org/calendar/moving-2024-09\",day:\"2024-09-20\",format:\"DCP\",time:[\"21:00:00\"],notes:\"RyÅ«suke Hamaguchi in person\",presented_by_sb:false,movies:{id:115784,year:1993,genre:[18],title:\"Moving\",runtime:124,director:\"Shinji SÅmai\",override:\"\",description:\"Physically separated from her father and at odds with her distraught mother, a girl must negotiate her own passage to maturity.\",poster_path:\"/uPibtCM7Cyniyl4fu4a98a1cnQG.jpg\",backdrop_path:\"/hw3VxoXg2YgJgMQbFr0VQu19EQu.jpg\"}},{id:1186,tmdb_id:26914,theater:\"Coolidge Corner Theatre\",link:\"https://coolidge.org/films/troll-2\",day:\"2024-09-20\",format:\"35mm\",time:[\"23:59:00\"],notes:null,presented_by_sb:null,movies:{id:26914,year:1990,genre:[27,14],title:\"Troll 2\",runtime:95,director:\"Claudio Fragasso\",override:\"\",description:\"When young Joshua learns that he will be going on vacation with his family to a small town called Nilbog, he protests adamantly. He is warned by the spirit of his deceased grandfather that goblins populate the town. His parents, Michael and Diana, dismiss his apprehensions, but soon learn to appreciate their son's warnings. Guided by his grandfather's ghost, will Joshua and his family stand a chance in fighting off these evil beings?\",poster_path:\"/eFth6zw4PEInzr2Y64mYVN1zbBi.jpg\",backdrop_path:\"/AsjEwOxebU1AF040QjfMkE8lskK.jpg\"}}],\"2024-09-21\":[{id:1354,tmdb_id:758866,theater:\"Harvard Film Archive\",link:\"https://harvardfilmarchive.org/calendar/drive-my-car-2024-09\",day:\"2024-09-21\",format:\"DCP\",time:[\"18:00:00\"],notes:\"RyÅ«suke Hamaguchi in Person\",presented_by_sb:false,movies:{id:758866,year:2021,genre:[18],title:\"Drive My Car\",runtime:179,director:\"RyÅ«suke Hamaguchi\",override:\"\",description:\"Yusuke Kafuku, a stage actor and director, still unable, after two years, to cope with the loss of his beloved wife, accepts to direct Uncle Vanya at a theater festival in Hiroshima. There he meets Misaki, an introverted young woman, appointed to drive his car. In between rides, secrets from the past and heartfelt confessions will be unveiled.\",poster_path:\"/3cOsf5HBjPK2QCz9ebQlGHNnE7y.jpg\",backdrop_path:\"/r6aqhlmJmu8Dv5E7QYEruaEXKYm.jpg\"}},{id:1337,tmdb_id:271680,theater:\"The Brattle\",link:\"https://brattlefilm.org/movies/naked-acts/\",day:\"2024-09-21\",format:\"DCP\",time:[\"19:00:00\"],notes:\"\",presented_by_sb:false,movies:{id:271680,year:1996,genre:[35,18],title:\"Naked Acts\",runtime:87,director:\"Bridgett M. Davis\",override:\"\",description:\"An aspiring actress has lost considerable weight to land her first movie role, but what the director didnât tell her was that it includes a nude scene. Reluctant to do it, she embarks on a personal journey that unveils secrets once hidden under her weight, as she discovers emotional nudity is just as revealing as taking her clothes off.\",poster_path:\"/oMOwQFackj5WWE4rH6KgxdWAIef.jpg\",backdrop_path:\"/b6njtlDwFR7ijJM5XPr9QmjjIVD.jpg\"}},{id:1248,tmdb_id:27205,theater:\"Coolidge Corner Theatre\",link:\"https://coolidge.org/films/inception-70mm\",day:\"2024-09-21\",format:\"70mm\",time:[\"19:30:00\"],notes:\"\",presented_by_sb:true,movies:{id:27205,year:2010,genre:[28,878,12],title:\"Inception\",runtime:148,director:\"Christopher Nolan\",override:\"e8uAsD9sbHBy2bkW1EmkJiB3Hke.jpg\",description:\"Cobb, a skilled thief who commits corporate espionage by infiltrating the subconscious of his targets is offered a chance to regain his old life as payment for a task considered to be impossible: \\\"inception\\\", the implantation of another person's idea into a target's subconscious.\",poster_path:\"/ljsZTbVsrQSqZgWeep2B1QiDKuh.jpg\",backdrop_path:\"/8ZTVqvKDQ8emSGUEMjsS4yHAwrp.jpg\"}},{id:1401,tmdb_id:41650,theater:\"Somerville Theatre\",link:\"https://www.somervilletheatre.com/production/wigstock-the-movie-2/\",day:\"2024-09-21\",format:\"DCP\",time:[\"23:59:00\"],notes:\"\",presented_by_sb:false,movies:{id:41650,year:1995,genre:[99],title:\"Wigstock: The Movie\",runtime:85,director:\"Barry Shils\",override:\"\",description:\"The three-decade-old annual Manhattan gathering of drag queens and their fans is portrayed in this colorful documentary. The film concentrates on the spectacle of the event, providing abundant examples of the elaborate costumes, flamboyant wigs, and campy musical performances that characterize the event.\",poster_path:\"/wBi27jvPN3XKyoNlwy1aY6D722L.jpg\",backdrop_path:\"/bng2PBTeyJPty1Q5jryigxvfVst.jpg\"}},{id:1220,tmdb_id:17473,theater:\"Coolidge Corner Theatre\",link:\"https://coolidge.org/films/room-greg-sestero\",day:\"2024-09-21\",format:\"DCP\",time:[\"23:59:00\"],notes:\"Greg Sestero in Person\",presented_by_sb:false,movies:{id:17473,year:2003,genre:[18,10749],title:\"The Room\",runtime:99,director:\"Tommy Wiseau\",override:\"\",description:\"Johnny is a successful banker with great respect for and dedication to the people in his life, especially his future wife Lisa. The happy-go-lucky guy sees his world being torn apart when his friends begin to betray him one-by-one.\",poster_path:\"/oGI3QSsY4XsmUzuNYUQBQDdjuaP.jpg\",backdrop_path:\"/fsyLxF8eIfZ2Z7DXmjD6n9vHmb8.jpg\"}}],\"2024-09-22\":[{id:1196,tmdb_id:979050,theater:\"Coolidge Corner Theatre\",link:\"https://coolidge.org/films/beyond-blue-border\",day:\"2024-09-22\",format:\"DCP\",time:[\"11:00:00\"],notes:null,presented_by_sb:null,movies:{id:979050,year:2024,genre:[18,36,12],title:\"Beyond the Blue Border\",runtime:102,director:\"Sarah Neumann\",override:null,description:\"GDR, August 1989: Hanna and Andreas became a target of the secret police and had to give up their plans for their future studies and desired professions. Instead, they face arbitrariness, mistrust and reprisals. Their only chance for a self-determined life lies in fleeing across the Baltic Sea. Fifty kilometres of water separate them from freedom - and only a thin connecting rope around their wrists saves them from absolute loneliness.\",poster_path:\"/ymp6OzFKDMVmhJbAu4utBYZGbau.jpg\",backdrop_path:\"/AtjFp3vATGr21Ao55Vsg4IXM13E.jpg\"}},{id:1367,tmdb_id:271680,theater:\"The Brattle\",link:\"https://brattlefilm.org/movies/naked-acts/\",day:\"2024-09-22\",format:\"DCP\",time:[\"12:30:00\",\"17:00:00\",\"19:00:00\"],notes:\"\",presented_by_sb:false,movies:{id:271680,year:1996,genre:[35,18],title:\"Naked Acts\",runtime:87,director:\"Bridgett M. Davis\",override:\"\",description:\"An aspiring actress has lost considerable weight to land her first movie role, but what the director didnât tell her was that it includes a nude scene. Reluctant to do it, she embarks on a personal journey that unveils secrets once hidden under her weight, as she discovers emotional nudity is just as revealing as taking her clothes off.\",poster_path:\"/oMOwQFackj5WWE4rH6KgxdWAIef.jpg\",backdrop_path:\"/b6njtlDwFR7ijJM5XPr9QmjjIVD.jpg\"}},{id:1247,tmdb_id:15121,theater:\"Coolidge Corner Theatre\",link:\"https://coolidge.org/films/sound-music-70mm\",day:\"2024-09-22\",format:\"70mm\",time:[\"14:00:00\"],notes:\"\",presented_by_sb:true,movies:{id:15121,year:1965,genre:[18,10751,10402,10749],title:\"The Sound of Music\",runtime:174,director:\"Robert Wise\",override:\"\",description:\"In the years before the Second World War, a tomboyish postulant at an Austrian abbey is hired as a governess in the home of a widowed naval captain with seven children, and brings a new love of life and music into the home.  Preserved by the Academy Film Archive in partnership with Twentieth Century Fox Film Corporation in 2003.\",poster_path:\"/5qQTu2iGTiQ2UvyGp0beQAZ2rKx.jpg\",backdrop_path:\"/m5n1nguLC3pTJLPKhN5Ek0aNT6E.jpg\"}},{id:1291,tmdb_id:63892,theater:\"Harvard Film Archive\",link:\"https://harvardfilmarchive.org/calendar/leon-morin-priest-2024-07\",day:\"2024-09-22\",format:\"DCP\",time:[\"15:00:00\"],notes:\"\",presented_by_sb:false,movies:{id:63892,year:1961,genre:[18,10749],title:\"LÃ©on Morin, Priest\",runtime:117,director:\"Jean-Pierre Melville\",override:\"\",description:\"The widow Barny lives in Nazi-occupied France, looking after her half-Jewish daughter in a small village. When the Germans arrive, she decides to baptize her and chooses priest LÃ©on Morin to do so. After spending some time with him, the relationship with her confessor turns into a confrontation with both God and her own repressed desire.Â \",poster_path:\"/i89R891gei0UVS8xY6ymOUPExtW.jpg\",backdrop_path:\"/74M37zW3cAeNhyBgex5QaSn1hsM.jpg\"}},{id:1315,tmdb_id:15383,theater:\"Harvard Film Archive\",link:\"https://harvardfilmarchive.org/calendar/army-of-shadows-2024-10\",day:\"2024-09-22\",format:\"35mm\",time:[\"19:00:00\"],notes:\"\",presented_by_sb:false,movies:{id:15383,year:1969,genre:[10752,36,53],title:\"Army of Shadows\",runtime:145,director:\"Jean-Pierre Melville\",override:\"Army of Shadows.jpg\",description:\"Betrayed by an informant, Philippe Gerbier finds himself trapped in a torturous Nazi prison camp. Though Gerbier escapes to rejoin the Resistance in occupied Marseilles, France, and exacts his revenge on the informant, he must continue a quiet, seemingly endless battle against the Nazis in an atmosphere of tension, paranoia and distrust.\",poster_path:\"/aqNZWM9bspt8zaDvVRIRiWxRVJ7.jpg\",backdrop_path:\"/bvap9hlAGP3fOdwsIBHQQplgmCq.jpg\"}}],\"2024-09-23\":[{id:1394,tmdb_id:439,theater:\"The Brattle\",link:\"https://brattlefilm.org/movies/la-dolce-vita/\",day:\"2024-09-23\",format:\"DCP\",time:[\"16:00:00\",\"19:30:00\"],notes:\"\",presented_by_sb:false,movies:{id:439,year:1960,genre:[35,18],title:\"La Dolce Vita\",runtime:176,director:\"Federico Fellini\",override:\"\",description:\"Episodic journey of journalist Marcello who struggles to find his place in the world, torn between the allure of Rome's elite social scene and the stifling domesticity offered by his girlfriend, all the while searching for a way to become a serious writer.\",poster_path:\"/skFeWHHBwbQNfXep9OEdrQPJKoS.jpg\",backdrop_path:\"/uaEfEkb2tjl4hN1oaSyzcxt4cEg.jpg\"}},{id:1357,tmdb_id:1156200,theater:\"Harvard Film Archive\",link:\"https://harvardfilmarchive.org/calendar/gift-a-live-score-by-ishibashi-eiko-x-film-by-hamaguchi-ryusuke-\",day:\"2024-09-23\",format:\"DCP\",time:[\"18:00:00\",\"20:30:00\"],notes:\"Live Score; RyÅ«suke Hamaguchi in Person\",presented_by_sb:false,movies:{id:1156200,year:2023,genre:[10402],title:\"Gift\",runtime:74,director:\"RyÅ«suke Hamaguchi\",override:\"\",description:\"We follow Takumi and his daughter who lead a modest life in the village in the middle of nature. One day Takumi receives word that there are plans to build a glamping site near his home. The discovery that wastewater will be piped into the villageâs water source not only causes unrest among the residents, but also affects Takumiâs life.\",poster_path:\"/egL4aFUXgAJYhXmzs8iKQB2SSyX.jpg\",backdrop_path:\"/1x6RiKBcraJY0wLSi60imLXacNe.jpg\"}},{id:1246,tmdb_id:967,theater:\"Coolidge Corner Theatre\",link:\"https://coolidge.org/films/spartacus-70mm\",day:\"2024-09-23\",format:\"70mm\",time:[\"19:30:00\"],notes:\"\",presented_by_sb:true,movies:{id:967,year:1960,genre:[36,10752,18,12],title:\"Spartacus\",runtime:197,director:\"Stanley Kubrick\",override:\"\",description:\"The rebellious Thracian Spartacus, born and raised a slave, is sold to Gladiator trainer Batiatus. After weeks of being trained to kill for the arena, Spartacus turns on his owners and leads the other slaves in rebellion. As the rebels move from town to town, their numbers swell as escaped slaves join their ranks. Under the leadership of Spartacus, they make their way to southern Italy, where they will cross the sea and return to their homes.\",poster_path:\"/xLPpQlFWE12cbqNJQ5Vf4eJU8ij.jpg\",backdrop_path:\"/aheSIG4h3JNxWeDvdb1NxKzgjaM.jpg\"}}],\"2024-09-24\":[{id:1339,tmdb_id:422,theater:\"The Brattle\",link:\"https://brattlefilm.org/movies/8%c2%bd/\",day:\"2024-09-24\",format:\"35mm\",time:[\"16:00:00\",\"19:00:00\"],notes:\"\",presented_by_sb:false,movies:{id:422,year:1963,genre:[18],title:\"8Â½\",runtime:139,director:\"Federico Fellini\",override:\"\",description:\"Guido Anselmi, a film director, finds himself creatively barren at the peak of his career. Urged by his doctors to rest, Anselmi heads for a luxurious resort, but a sorry group gathersâhis producer, staff, actors, wife, mistress, and relativesâeach one begging him to get on with the show. In retreat from their dependency, he fantasizes about past women and dreams of his childhood.\",poster_path:\"/sjTIqwvPNAnEN7fcRK8MOlGfZMB.jpg\",backdrop_path:\"/ng5JFJ7TlixGXFIdbLXRimYTCCH.jpg\"}},{id:1348,tmdb_id:845,theater:\"Somerville Theatre\",link:\"https://www.somervilletheatre.com/production/strangers-on-a-train-in-35mm/\",day:\"2024-09-24\",format:\"35mm\",time:[\"19:00:00\"],notes:\"\",presented_by_sb:false,movies:{id:845,year:1951,genre:[80,53],title:\"Strangers on a Train\",runtime:101,director:\"Alfred Hitchcock\",override:\"\",description:\"Having met on a train, a smooth-talking psychotic socialite shares his theory on how two complete strangers can get away with murder to an amateur tennis player â a theory he plans to test out.\",poster_path:\"/ihC083U7ef56Ui4x0P0dobojrZ1.jpg\",backdrop_path:\"/gX2GxGsSVIPbRnrb1Tmc4HQ3HWy.jpg\"}},{id:1236,tmdb_id:1073091,theater:\"Coolidge Corner Theatre\",link:\"https://coolidge.org/films/join-or-die\",day:\"2024-09-24\",format:\"DCP\",time:[\"19:00:00\"],notes:\"Robert Putnam in Person\",presented_by_sb:false,movies:{id:1073091,year:2024,genre:[99],title:\"Join or Die\",runtime:99,director:\"Pete Davis, Rebecca Davis\",override:null,description:\"A film about why you should join a clubâand why the fate of America may depend on it. Follow the story of Americaâs civic unraveling through the work of Robert Putnam, whose legendary Bowling Alone findings light a path out of our democracyâs crisis.\",poster_path:\"/on6uKi9ae4iPO9vjNbm1j1psLgQ.jpg\",backdrop_path:\"/1sRbPnTQeNydN1DASOH4rulFraA.jpg\"}},{id:1238,tmdb_id:490,theater:\"Mount Auburn Cemetery\",link:\"https://coolidge.org/events/cemetery-cinema-seventh-seal-and-bill-teds-bogus-journey\",day:\"2024-09-24\",format:\"DCP\",time:[\"19:00:00\"],notes:\"Double Feature with Bill & Ted's Bogus Journey\",presented_by_sb:false,movies:{id:490,year:1957,genre:[14,18],title:\"The Seventh Seal\",runtime:96,director:\"Ingmar Bergman\",override:\"\",description:\"When disillusioned Swedish knight Antonius Block returns home from the Crusades to find his country in the grips of the Black Death, he challenges Death to a chess match for his life. Tormented by the belief that God does not exist, Block sets off on a journey, meeting up with traveling players Jof and his wife, Mia, and becoming determined to evade Death long enough to commit one redemptive act while he still lives.\",poster_path:\"/j6z3c6dGXtPHUATJX8J7Y70mM1S.jpg\",backdrop_path:\"/7tBfYcZH4P4AA1oFzjflUTSDZgx.jpg\"}},{id:1237,tmdb_id:1649,theater:\"Mount Auburn Cemetery\",link:\"https://coolidge.org/events/cemetery-cinema-seventh-seal-and-bill-teds-bogus-journey\",day:\"2024-09-24\",format:\"DCP\",time:[\"20:30:00\"],notes:\"Double Feature with the Seventh Seal\",presented_by_sb:false,movies:{id:1649,year:1991,genre:[12,35,878],title:\"Bill & Ted's Bogus Journey\",runtime:93,director:\"Peter Hewitt\",override:\"\",description:\"Amiable slackers Bill and Ted are once again roped into a fantastical adventure when De Nomolos, a villain from the future, sends evil robot duplicates of the two lads to terminate and replace them. The robot doubles actually succeed in killing Bill and Ted, but the two are determined to escape the afterlife, challenging the Grim Reaper to a series of games in order to return to the land of the living.\",poster_path:\"/tldtDfLnPFOtTWp758EmIP2Hbz5.jpg\",backdrop_path:\"/y5lidfqb4KCrPEwrq8fVmfaB5ul.jpg\"}},{id:1347,tmdb_id:521,theater:\"Somerville Theatre\",link:\"https://www.somervilletheatre.com/production/dial-m-for-murder/\",day:\"2024-09-24\",format:\"35mm\",time:[\"20:55:00\"],notes:\"\",presented_by_sb:false,movies:{id:521,year:1954,genre:[53,80],title:\"Dial M for Murder\",runtime:105,director:\"Alfred Hitchcock\",override:\"\",description:\"An ex-tennis pro carries out a plot to have his wealthy wife murdered after discovering she is having an affair, and assumes she will soon leave him for the other man anyway.\",poster_path:\"/4KKiFDvtEusJzqzlwHp7iMceXKS.jpg\",backdrop_path:\"/uvd1KXopHKelymR2JbSumRupRJo.jpg\"}}],\"2024-09-25\":[{id:1245,tmdb_id:27205,theater:\"Coolidge Corner Theatre\",link:\"https://coolidge.org/films/inception-70mm\",day:\"2024-09-25\",format:\"70mm\",time:[\"19:30:00\"],notes:\"\",presented_by_sb:true,movies:{id:27205,year:2010,genre:[28,878,12],title:\"Inception\",runtime:148,director:\"Christopher Nolan\",override:\"e8uAsD9sbHBy2bkW1EmkJiB3Hke.jpg\",description:\"Cobb, a skilled thief who commits corporate espionage by infiltrating the subconscious of his targets is offered a chance to regain his old life as payment for a task considered to be impossible: \\\"inception\\\", the implantation of another person's idea into a target's subconscious.\",poster_path:\"/ljsZTbVsrQSqZgWeep2B1QiDKuh.jpg\",backdrop_path:\"/8ZTVqvKDQ8emSGUEMjsS4yHAwrp.jpg\"}}],\"2024-09-26\":[{id:1194,tmdb_id:37735,theater:\"Coolidge Corner Theatre\",link:\"https://coolidge.org/films/easy\",day:\"2024-09-26\",format:\"35mm\",time:[\"19:00:00\"],notes:null,presented_by_sb:null,movies:{id:37735,year:2010,genre:[35],title:\"Easy A\",runtime:93,director:\"Will Gluck\",override:null,description:\"Olive, an average high school student, sees her below-the-radar existence turn around overnight once she decides to use the school's gossip grapevine to advance her social standing. Now her classmates are turning against her and the school board is becoming concerned, including her favorite teacher and the distracted guidance counselor. With the support of her hilariously idiosyncratic parents and a little help from a long-time crush, Olive attempts to take on her notorious new identity and crush the rumor mill once and for all.\",poster_path:\"/v5f1qO6NJnxWgONgkYg21TW39DT.jpg\",backdrop_path:\"/30rvmoEBqovm723agDJ3QddWXcY.jpg\"}}],\"2024-09-27\":[{id:1370,tmdb_id:905,theater:\"The Brattle\",link:\"https://brattlefilm.org/movies/pandoras-box/\",day:\"2024-09-27\",format:\"DCP\",time:[\"18:00:00\"],notes:\"\",presented_by_sb:false,movies:{id:905,year:1929,genre:[18,80,10749],title:\"Pandora's Box\",runtime:133,director:\"G.W. Pabst\",override:\"\",description:\"Lulu is a young woman so beautiful and alluring that few can resist her siren charms. The men drawn into her web include respectable newspaper publisher Dr. Ludwig SchÃ¶n, his musical producer son Alwa, circus performer Rodrigo Quast, and seedy old Schigolch. When Lulu's charms inevitably lead to tragedy, the downward spiral encompasses them all.\",poster_path:\"/xw5KFcTBYyvu4IzQY5ErgBQ73Eq.jpg\",backdrop_path:\"/y3WwIEEDcbT88MxjCjM8mlBEF04.jpg\"}},{id:1293,tmdb_id:5511,theater:\"Harvard Film Archive\",link:\"https://harvardfilmarchive.org/calendar/le-samourai-2024-07\",day:\"2024-09-27\",format:\"35mm\",time:[\"19:00:00\"],notes:\"\",presented_by_sb:false,movies:{id:5511,year:1967,genre:[80,53],title:\"Le SamouraÃ¯\",runtime:105,director:\"Jean-Pierre Melville\",override:\"\",description:\"After carrying out a flawlessly planned hit, Jef Costello, a contract killer with samurai instincts, finds himself caught between a persistent police investigator and a ruthless employer, and not even his armor of fedora and trench coat can protect him.\",poster_path:\"/5Fa6o5nfUPEatQ9b3OwEvdEdR7T.jpg\",backdrop_path:\"/znLq5iyuMVvHwDdgZf6HyVUNjWB.jpg\"}},{id:1294,tmdb_id:4235,theater:\"Harvard Film Archive\",link:\"https://harvardfilmarchive.org/calendar/the-sicilian-clan-2024-09\",day:\"2024-09-27\",format:\"DCP\",time:[\"21:15:00\"],notes:\"\",presented_by_sb:false,movies:{id:4235,year:1969,genre:[80,18],title:\"The Sicilian Clan\",runtime:117,director:\"Henri Verneuil\",override:\"\",description:\"An ambitious mobster plans an elaborate diamond heist while seducing the daughter-in-law of a ruthless mob patriarch as a determined police commissioner closes in on all of them.\",poster_path:\"/uVBbDPbm1H4Z9M7uZ976KFaAjDR.jpg\",backdrop_path:\"/j5DSgn34GGfvnnAMS3qFFXOzFuO.jpg\"}},{id:1195,tmdb_id:65374,theater:\"Coolidge Corner Theatre\",link:\"https://coolidge.org/films/samurai-cop\",day:\"2024-09-27\",format:\"DCP\",time:[\"23:59:00\"],notes:null,presented_by_sb:null,movies:{id:65374,year:1991,genre:[28,80,35,53],title:\"Samurai Cop\",runtime:96,director:\"Amir Shervan\",override:null,description:\"When Japanese organized crime imbeds itself within LA, the police turn to one man to take down the deadly Yakuza â Joe Marshall, aka \\\"The Samurai.\\\" With his fearless swagger and rock hard jaw, The Samurai tears a two-fisted hole through the mob and doesn't stop until the job is done.\",poster_path:\"/jOlz0kpxlLY5xixyDYpcYUi2SJy.jpg\",backdrop_path:\"/9tMxMZA4L5YOSAeYa7wdq1Hg93c.jpg\"}}],\"2024-09-28\":[{id:1371,tmdb_id:50182,theater:\"The Brattle\",link:\"https://brattlefilm.org/movies/la-roue/\",day:\"2024-09-28\",format:\"DCP\",time:[\"12:00:00\"],notes:\"\",presented_by_sb:false,movies:{id:50182,year:1923,genre:[18],title:\"La Roue\",runtime:418,director:\"Abel Gance\",override:\"\",description:\"Sisif, a railwayman, saves a young girl named Norma orphaned by a train crash and raises her as his own daughter alongside his son, Elie. As she becomes an adult, Sisif grapples with whether to tell Norma the truth about her parentage.\",poster_path:\"/5ed3ywd7lmDPhsCXmcdSih9SxP2.jpg\",backdrop_path:\"/vztsAbG3PdWkhPy6whJzeg5mb8k.jpg\"}},{id:1296,tmdb_id:269,theater:\"Harvard Film Archive\",link:\"https://harvardfilmarchive.org/calendar/breathless-2024-09\",day:\"2024-09-28\",format:\"35mm\",time:[\"19:00:00\"],notes:\"\",presented_by_sb:false,movies:{id:269,year:1960,genre:[18,80],title:\"Breathless\",runtime:90,director:\"Jean-Luc Godard\",override:\"Breathless.jpg\",description:\"A small-time thief steals a car and impulsively murders a motorcycle policeman. Wanted by the authorities, he attempts to persuade a girl to run away to Italy with him.\",poster_path:\"/9Wx0Wdn2EOqeCZU4SP6tlS3LOml.jpg\",backdrop_path:\"/4WGuyWf1f94CsEeVIIqDKGw5rmO.jpg\"}},{id:1297,tmdb_id:27061,theater:\"Harvard Film Archive\",link:\"https://harvardfilmarchive.org/calendar/two-men-in-manhattan-2024-09\",day:\"2024-09-28\",format:\"DCP\",time:[\"21:00:00\"],notes:\"\",presented_by_sb:false,movies:{id:27061,year:1959,genre:[80,18,53],title:\"Two Men in Manhattan\",runtime:84,director:\"Jean-Pierre Melville\",override:\"\",description:\"Two French journalists become embroiled in a criminal plot in New York City involving a disappeared United Nations diplomat.\",poster_path:\"/oiLXcwYmKIMDBtDw3vNRK1LzDy6.jpg\",backdrop_path:\"/6tzyYR5a88KhHqebXKs0GRyXdwG.jpg\"}},{id:1190,tmdb_id:40016,theater:\"Coolidge Corner Theatre\",link:\"https://coolidge.org/films/birdemic-shock-and-terror\",day:\"2024-09-28\",format:\"DCP\",time:[\"23:59:00\"],notes:null,presented_by_sb:null,movies:{id:40016,year:2010,genre:[10749,27,53],title:\"Birdemic: Shock and Terror\",runtime:94,director:\"James Nguyen\",override:null,description:\"A platoon of eagles and vultures attacks the residents of a small town. Many people die. It's not known what caused the flying menace to attack. Two people manage to fight back, but will they survive Birdemic?\",poster_path:\"/gqmcAVNNUosB55RliecFYnkWT4M.jpg\",backdrop_path:\"/wDrs28ZYYnXVIeb87H0dCYlWiFA.jpg\"}},{id:1283,tmdb_id:59558,theater:\"Somerville Theatre\",link:\"https://www.somervilletheatre.com/production/miami-connection-in-4k/\",day:\"2024-09-28\",format:\"DCP\",time:[\"23:59:00\"],notes:\"\",presented_by_sb:false,movies:{id:59558,year:1987,genre:[28,80,10402],title:\"Miami Connection\",runtime:86,director:\"Y.K. Kim, Richard Park Wu-sang\",override:null,description:\"In a world where ninjas dream of being rock stars and rock stars dream of being ninjas, a martial arts rock band goes up against a band of motorcycle ninjas who have tightened their grip on Florida's narcotics trade.\",poster_path:\"/fS1LLzhJLfSqSlCDSp1UPK8gtDB.jpg\",backdrop_path:\"/h5xS2MIXoG7qIrDp84YgDl3DEvh.jpg\"}}],\"2024-09-29\":[{id:1403,tmdb_id:35668,theater:\"Somerville Theatre\",link:\"https://www.somervilletheatre.com/production/they-came-from-beyond-space/\",day:\"2024-09-29\",format:\"DCP\",time:[\"12:30:00\"],notes:\"\",presented_by_sb:false,movies:{id:35668,year:1967,genre:[878,27],title:\"They Came from Beyond Space\",runtime:85,director:\"Freddie Francis\",override:\"\",description:\"A group of scientists are possessed by an alien force when they investigate a meteor shower in a rural field.\",poster_path:\"/dJURpYgHWtsxNpIUOi9syHSoEgF.jpg\",backdrop_path:\"/t8yqhwUuoM7e4plO0ZUtLsEtTky.jpg\"}},{id:1404,tmdb_id:41302,theater:\"Somerville Theatre\",link:\"https://www.somervilletheatre.com/production/zontar-the-thing-from-venus/\",day:\"2024-09-29\",format:\"DCP\",time:[\"14:10:00\"],notes:\"\",presented_by_sb:false,movies:{id:41302,year:1967,genre:[27,878,10770],title:\"Zontar: The Thing from Venus\",runtime:80,director:\"Larry Buchanan\",override:\"\",description:\"A misguided scientist enables an alien from Venus named Zontar to come to earth in order to \\\"help solve man's problems\\\". However, as soon as Zontar arrives on Earth, it quickly becomes obvious that the three-eyed, bat-winged, skeletal black creature has a hidden agenda.\",poster_path:\"/2YY7c3dws5XU7FX4G41kcnJRlaQ.jpg\",backdrop_path:\"/9OOFIRotd2s7L7hUhOI1q2gTlu3.jpg\"}},{id:1459,tmdb_id:-5,theater:\"Harvard Film Archive\",link:\"https://harvardfilmarchive.org/calendar/films-nos-1-5-7-and-10-11-and-16-2024-09\",day:\"2024-09-29\",format:\"16mm\",time:[\"15:00:00\"],notes:\"\",presented_by_sb:false,movies:{id:-5,year:1946,genre:[99],title:\"Harry Smith Films Nos. 1 â 5, 7 & 10, 11 & 16\",runtime:42,director:\"Harry Smith\",override:\"Harry Smith.jpg\",description:\"This selection of Harry Smithâs early works is everything that currently survives.\",poster_path:null,backdrop_path:null}},{id:1373,tmdb_id:992,theater:\"The Brattle\",link:\"https://brattlefilm.org/special_events/sherlock-jr-and-the-navigator/\",day:\"2024-09-29\",format:\"DCP\",time:[\"15:15:00\"],notes:\"Double Feature with The Navigator\",presented_by_sb:false,movies:{id:992,year:1924,genre:[28,35,9648],title:\"Sherlock Jr.\",runtime:45,director:\"Buster Keaton\",override:\"\",description:\"A film projectionist longs to be a detective, and puts his meagre skills to work when he is framed by a rival for stealing his girlfriend's father's pocketwatch.\",poster_path:\"/1G9r3rqtbFAQuyWKOZm4Y5J5s7Q.jpg\",backdrop_path:\"/dRKCNvOjXkRTIA3D3KAve7GRu4k.jpg\"}},{id:1341,tmdb_id:905,theater:\"The Brattle\",link:\"https://brattlefilm.org/movies/pandoras-box/\",day:\"2024-09-29\",format:\"DCP\",time:[\"17:30:00\"],notes:\"\",presented_by_sb:false,movies:{id:905,year:1929,genre:[18,80,10749],title:\"Pandora's Box\",runtime:133,director:\"G.W. Pabst\",override:\"\",description:\"Lulu is a young woman so beautiful and alluring that few can resist her siren charms. The men drawn into her web include respectable newspaper publisher Dr. Ludwig SchÃ¶n, his musical producer son Alwa, circus performer Rodrigo Quast, and seedy old Schigolch. When Lulu's charms inevitably lead to tragedy, the downward spiral encompasses them all.\",poster_path:\"/xw5KFcTBYyvu4IzQY5ErgBQ73Eq.jpg\",backdrop_path:\"/y3WwIEEDcbT88MxjCjM8mlBEF04.jpg\"}},{id:1298,tmdb_id:11657,theater:\"Harvard Film Archive\",link:\"https://harvardfilmarchive.org/calendar/le-cercle-rouge-2024-09\",day:\"2024-09-29\",format:\"35mm\",time:[\"19:00:00\"],notes:\"\",presented_by_sb:false,movies:{id:11657,year:1970,genre:[80,53],title:\"Le Cercle Rouge\",runtime:140,director:\"Jean-Pierre Melville\",override:\"\",description:\"When French criminal Corey gets released from prison, he resolves to never return. He is quickly pulled back into the underworld, however, after a chance encounter with escaped murderer Vogel. Along with former policeman and current alcoholic Jansen, they plot an intricate jewel heist. All the while, quirky Police Commissioner Mattei, who was the one to lose custody of Vogel, is determined to find him.\",poster_path:\"/w56La43IJnGpLepgqfGCAZsbQPp.jpg\",backdrop_path:\"/nfSaFuQkLqnCrwf300wM3xIY5sT.jpg\"}},{id:1346,tmdb_id:8966,theater:\"Coolidge Corner Theatre\",link:\"https://coolidge.org/events/twilight-saga-marathon\",day:\"2024-09-29\",format:\"DCP\",time:[\"23:00:00\"],notes:\"Twilight Saga Marathon - All 5 Films\",presented_by_sb:false,movies:{id:8966,year:2008,genre:[14,18,10749],title:\"Twilight\",runtime:122,director:\"Catherine Hardwicke\",override:\"\",description:\"When Bella Swan moves to a small town in the Pacific Northwest, she falls in love with Edward Cullen, a mysterious classmate who reveals himself to be a 108-year-old vampire. Despite Edward's repeated cautions, Bella can't stay away from him, a fatal move that endangers her own life.\",poster_path:\"/3Gkb6jm6962ADUPaCBqzz9CTbn9.jpg\",backdrop_path:\"/7eK8FJr4fqq3J5W2xvlr2GVaep2.jpg\"}}],\"2024-09-30\":[{id:1225,tmdb_id:2034,theater:\"Coolidge Corner Theatre\",link:\"https://coolidge.org/films/training-day\",day:\"2024-09-30\",format:\"DCP\",time:[\"19:00:00\"],notes:\"\",presented_by_sb:false,movies:{id:2034,year:2001,genre:[28,80,18],title:\"Training Day\",runtime:122,director:\"Antoine Fuqua\",override:\"nEQ6H2ih2caDHnkmJqiOC0m0fKk.jpg\",description:\"On his first day on the job as a narcotics officer, a rookie cop works with a rogue detective who isn't what he appears.\",poster_path:\"/bUeiwBQdupBLQthMCHKV7zv56uv.jpg\",backdrop_path:\"/mkfRdkM7FtmOndrh1jML3MIRB2i.jpg\"}},{id:1299,tmdb_id:34145,theater:\"Harvard Film Archive\",link:\"https://harvardfilmarchive.org/calendar/classe-tous-risques-2024-07\",day:\"2024-09-30\",format:\"DCP\",time:[\"19:00:00\"],notes:\"\",presented_by_sb:false,movies:{id:34145,year:1960,genre:[80],title:\"The Big Risk\",runtime:110,director:\"Claude Sautet\",override:\"\",description:\"On crowded Milan streets, two men execute a split-second payroll heistâin broad daylightâthen begin a lightning-paced getaway, via every conveyance available. But after all, when a tough guy's returning to France (where he's been sentenced to death in absentia) after holing up in Italy for nearly a decade, he's got to have some startup moneyâparticularly if he's going back with the wife and kids.\",poster_path:\"/uMiuUAlPwiWDKSgu4SoShpzvMR.jpg\",backdrop_path:\"/n5ekLLoLLoxDzXCvwEHmkSSeUtz.jpg\"}},{id:1395,tmdb_id:992,theater:\"The Brattle\",link:\"https://brattlefilm.org/special_events/sherlock-jr-and-the-navigator/\",day:\"2024-09-30\",format:\"DCP\",time:[\"20:30:00\"],notes:\"Double Feature with The Navigator\",presented_by_sb:false,movies:{id:992,year:1924,genre:[28,35,9648],title:\"Sherlock Jr.\",runtime:45,director:\"Buster Keaton\",override:\"\",description:\"A film projectionist longs to be a detective, and puts his meagre skills to work when he is framed by a rival for stealing his girlfriend's father's pocketwatch.\",poster_path:\"/1G9r3rqtbFAQuyWKOZm4Y5J5s7Q.jpg\",backdrop_path:\"/dRKCNvOjXkRTIA3D3KAve7GRu4k.jpg\"}}]},error:null}},\"uses\":{}}];\n",
      "\n",
      "\t\t\t\t\tPromise.all([\n",
      "\t\t\t\t\t\timport(\"./_app/immutable/entry/start.7ef1d6d1.js\"),\n",
      "\t\t\t\t\t\timport(\"./_app/immutable/entry/app.6fd987c9.js\")\n",
      "\t\t\t\t\t]).then(([kit, app]) => {\n",
      "\t\t\t\t\t\tkit.start(app, element, {\n",
      "\t\t\t\t\t\t\tnode_ids: [0, 2],\n",
      "\t\t\t\t\t\t\tdata,\n",
      "\t\t\t\t\t\t\tform: null,\n",
      "\t\t\t\t\t\t\terror: null\n",
      "\t\t\t\t\t\t});\n",
      "\t\t\t\t\t});\n",
      "\t\t\t\t}\n",
      "\t\t\t</script>\n",
      "\t\t</div>\n",
      "\t</body>\n",
      "</html>\n",
      "\n"
     ]
    }
   ],
   "source": [
    "with open(file_path, 'r', encoding='utf-8') as file:\n",
    "    html = file.read()\n",
    "    file.close()\n",
    "print(html)"
   ]
  },
  {
   "cell_type": "code",
   "execution_count": 59,
   "id": "d2db0759",
   "metadata": {
    "deletable": false,
    "editable": false
   },
   "outputs": [
    {
     "data": {
      "text/html": [
       "<p><strong><pre style='display: inline;'>q1</pre></strong> passed! 🌟</p>"
      ],
      "text/plain": [
       "q1 results: All test cases passed!"
      ]
     },
     "execution_count": 59,
     "metadata": {},
     "output_type": "execute_result"
    }
   ],
   "source": [
    "grader.check(\"q1\")"
   ]
  },
  {
   "cell_type": "markdown",
   "id": "06e2b4b1-3614-4d82-8f58-4e4a49168b31",
   "metadata": {
    "deletable": false,
    "editable": false
   },
   "source": [
    "<div class=md>\n",
    "<h3>2. Parsing HTML into an Efficient Data Structure</h3>\n",
    "\n",
    "<p>Were you to open this HTML file in an editor, you'd find it wouldn't make for light reading.\n",
    "There's a lot of text in there, but we're currently only interested in a small portion of it. Thankfully, this small portion's constituant occurances appear in a mostly predictable way.\n",
    "</p>\n",
    "\n",
    "<div class='prompt'>\n",
    "1. Parse the HTML page to produce an iterable of dictionaries called <code>movies</code>. Here is one possible example:\n",
    "<div style=\"max-width:30em;padding:1em\">\n",
    "    \n",
    "```python\n",
    "{'title': 'Monty Python and the Holy Grail',\n",
    " 'directors': 'Terry Jones, Terry Gilliam',\n",
    " 'year': 1975,\n",
    " 'genre': 'Adventure',\n",
    " 'runtime': '1h 31m',\n",
    " 'theater': 'Coolidge Corner Theater',\n",
    " 'screen_date': '2024-08-17'\n",
    " 'screen_times': '11:59 PM'}\n",
    "```\n",
    "</div>\n",
    "\n",
    "2. Report the number of dictionaries in your iterable.\n",
    "3. Display an example dictionary.\n",
    "</div>\n",
    "\n",
    "<p>\n",
    "<b>One possible approach:</b> leveraging the structure of the page, use BeautifulSoup to divide it into disjoint peices of the HTML tree, each containing the set of information outlined above for each title's screening date at a given theater. Each peice is processed by a helper function(s) which extracts the desired fields and assemples them into a dictionary. These dictionaries are then accumulated in some iterable such as a list.\n",
    "</p>\n",
    "\n",
    "**Hints:**\n",
    "- Your browser's 'inspect' tool is very useful for exploring a page's structure.\n",
    "- To maintain a uniform set of keys across all movie dictionaries, use the plural 'directors' even for movies which attribute only a single director. \n",
    "</div>\n",
    "</div>"
   ]
  },
  {
   "cell_type": "code",
   "execution_count": 63,
   "id": "fd237053-2e4d-4081-9d70-6281d7b73e97",
   "metadata": {
    "scrolled": true,
    "tags": []
   },
   "outputs": [
    {
     "name": "stdout",
     "output_type": "stream",
     "text": [
      "{'title, screen_date, screen_times, directors, year, genre, runtime, theater'}\n",
      "[{'title': 'Key Largo', 'directors': 'John Huston', 'year': 1948, 'genre': 'Crime', 'runtime': '1h 40m', 'theater': 'The Brattle', 'screen_date': '2024-09-15', 'screen_times': '12:00 PM'}, {'title': 'Lawrence of Arabia', 'directors': 'David Lean', 'year': 1962, 'genre': 'Adventure', 'runtime': '3h 48m', 'theater': 'Coolidge Corner Theatre', 'screen_date': '2024-09-15', 'screen_times': '2:00 PM'}, {'title': 'Written on the Wind', 'directors': 'Douglas Sirk', 'year': 1956, 'genre': 'Drama', 'runtime': '1h 39m', 'theater': 'The Brattle', 'screen_date': '2024-09-15', 'screen_times': '2:30 PM'}, {'title': 'Alice in Wonderland', 'directors': 'Clyde Geronimi, Wilfred Jackson, Hamilton Luske', 'year': 1951, 'genre': 'Animation', 'runtime': '1h 15m', 'theater': 'Harvard Film Archive', 'screen_date': '2024-09-15', 'screen_times': '3:00 PM'}, {'title': 'How to Marry a Millionaire', 'directors': 'Jean Negulesco', 'year': 1953, 'genre': 'Comedy', 'runtime': '1h 35m', 'theater': 'The Brattle', 'screen_date': '2024-09-15', 'screen_times': '4:45 PM'}, {'title': 'Hackers', 'directors': 'Iain Softley', 'year': 1995, 'genre': 'Action', 'runtime': '1h 47m', 'theater': 'Somerville Theatre', 'screen_date': '2024-09-15', 'screen_times': '6:00 PM'}, {'title': 'Le Cercle Rouge', 'directors': 'Jean-Pierre Melville', 'year': 1970, 'genre': 'Crime', 'runtime': '2h 20m', 'theater': 'Harvard Film Archive', 'screen_date': '2024-09-15', 'screen_times': '7:00 PM'}, {'title': 'Dogville', 'directors': 'Lars von Trier', 'year': 2003, 'genre': 'Crime', 'runtime': '2h 58m', 'theater': 'The Brattle', 'screen_date': '2024-09-15', 'screen_times': '7:30 PM'}, {'title': 'The Big Sleep', 'directors': 'Howard Hawks', 'year': 1946, 'genre': 'Mystery', 'runtime': '1h 54m', 'theater': 'The Brattle', 'screen_date': '2024-09-15', 'screen_times': '5:30 PM'}, {'title': 'The Straight Story', 'directors': 'David Lynch', 'year': 1999, 'genre': 'Drama', 'runtime': '1h 52m', 'theater': 'Coolidge Corner Theatre', 'screen_date': '2024-09-15', 'screen_times': '7:00 PM'}, {'title': 'Wheel of Fortune and Fantasy', 'directors': 'RyÅ«suke Hamaguchi', 'year': 2021, 'genre': 'Drama', 'runtime': '2h 1m', 'theater': 'Harvard Film Archive', 'screen_date': '2024-09-15', 'screen_times': '7:00 PM'}, {'title': '2001: A Space Odyssey', 'directors': 'Stanley Kubrick', 'year': 1968, 'genre': 'SciFi', 'runtime': '2h 29m', 'theater': 'Coolidge Corner Theatre', 'screen_date': '2024-09-15', 'screen_times': '7:30 PM'}, {'title': 'Harper', 'directors': 'Jack Smight', 'year': 1966, 'genre': 'Mystery', 'runtime': '2h 1m', 'theater': 'The Brattle', 'screen_date': '2024-09-15', 'screen_times': '8:00 PM'}, {'title': 'The 39 Steps', 'directors': 'Alfred Hitchcock', 'year': 1935, 'genre': 'Mystery', 'runtime': '1h 26m', 'theater': 'Somerville Theatre', 'screen_date': '2024-09-15', 'screen_times': '7:00 PM'}, {'title': 'Vertigo', 'directors': 'Alfred Hitchcock', 'year': 1958, 'genre': 'Mystery', 'runtime': '2h 9m', 'theater': 'Coolidge Corner Theatre', 'screen_date': '2024-09-15', 'screen_times': '7:30 PM'}, {'title': 'Murder on the Orient Express', 'directors': 'Sidney Lumet', 'year': 1974, 'genre': 'Drama', 'runtime': '2h 8m', 'theater': 'The Brattle', 'screen_date': '2024-09-15', 'screen_times': '8:00 PM'}, {'title': 'The Lady Vanishes', 'directors': 'Alfred Hitchcock', 'year': 1938, 'genre': 'Mystery', 'runtime': '1h 36m', 'theater': 'Somerville Theatre', 'screen_date': '2024-09-15', 'screen_times': '8:40 PM'}, {'title': 'Harper', 'directors': 'Jack Smight', 'year': 1966, 'genre': 'Mystery', 'runtime': '2h 1m', 'theater': 'The Brattle', 'screen_date': '2024-09-15', 'screen_times': '4:00 PM'}, {'title': 'A Faith Hubley Centennial (part 1)', 'directors': 'Faith Hubley', 'year': 1974, 'genre': 'Animation', 'runtime': '1h 15m', 'theater': 'The Brattle', 'screen_date': '2024-09-15', 'screen_times': '7:00 PM'}, {'title': 'Once Upon a Time... in Hollywood', 'directors': 'Quentin Tarantino', 'year': 2019, 'genre': 'Comedy', 'runtime': '2h 42m', 'theater': 'Coolidge Corner Theatre', 'screen_date': '2024-09-15', 'screen_times': '7:30 PM'}, {'title': 'Written on the Wind', 'directors': 'Douglas Sirk', 'year': 1956, 'genre': 'Drama', 'runtime': '1h 39m', 'theater': 'The Brattle', 'screen_date': '2024-09-15', 'screen_times': '4:00 PM'}, {'title': 'Grease', 'directors': 'Randal Kleiser', 'year': 1978, 'genre': 'Romance', 'runtime': '1h 50m', 'theater': 'Coolidge Corner Theatre', 'screen_date': '2024-09-15', 'screen_times': '7:00 PM'}, {'title': 'Donnie Darko', 'directors': 'Richard Kelly', 'year': 2001, 'genre': 'Fantasy', 'runtime': '1h 54m', 'theater': 'Museum of Fine Arts', 'screen_date': '2024-09-15', 'screen_times': '7:00 PM'}, {'title': 'A Faith Hubley Centennial (Part 2)', 'directors': 'Faith Hubley', 'year': 1958, 'genre': 'Animation', 'runtime': '1h 15m', 'theater': 'The Brattle', 'screen_date': '2024-09-15', 'screen_times': '7:00 PM'}, {'title': 'The Searchers', 'directors': 'John Ford', 'year': 1956, 'genre': 'Western', 'runtime': '1h 59m', 'theater': 'Somerville Theatre', 'screen_date': '2024-09-15', 'screen_times': '7:30 PM'}, {'title': \"But I'm a Cheerleader\", 'directors': 'Jamie Babbit', 'year': 2000, 'genre': 'Comedy', 'runtime': '1h 25m', 'theater': 'Coolidge Corner Theatre', 'screen_date': '2024-09-15', 'screen_times': '9:55 PM'}, {'title': 'The Searchers', 'directors': 'John Ford', 'year': 1956, 'genre': 'Western', 'runtime': '1h 59m', 'theater': 'Somerville Theatre', 'screen_date': '2024-09-15', 'screen_times': '4:00 PM, 7:30 PM'}, {'title': 'Whiplash', 'directors': 'Damien Chazelle', 'year': 2014, 'genre': 'Drama', 'runtime': '1h 47m', 'theater': 'Somerville Theatre', 'screen_date': '2024-09-15', 'screen_times': '4:30 PM'}, {'title': 'The Silence of the Sea', 'directors': 'Jean-Pierre Melville', 'year': 1949, 'genre': 'Drama', 'runtime': '1h 27m', 'theater': 'Harvard Film Archive', 'screen_date': '2024-09-15', 'screen_times': '7:00 PM'}, {'title': 'Spartacus', 'directors': 'Stanley Kubrick', 'year': 1960, 'genre': 'History', 'runtime': '3h 17m', 'theater': 'Coolidge Corner Theatre', 'screen_date': '2024-09-15', 'screen_times': '7:30 PM'}, {'title': 'Naked Acts', 'directors': 'Bridgett M. Davis', 'year': 1996, 'genre': 'Comedy', 'runtime': '1h 27m', 'theater': 'The Brattle', 'screen_date': '2024-09-15', 'screen_times': '8:00 PM'}, {'title': 'Moving', 'directors': 'Shinji SÅ\\x8dmai', 'year': 1993, 'genre': 'Drama', 'runtime': '2h 4m', 'theater': 'Harvard Film Archive', 'screen_date': '2024-09-15', 'screen_times': '9:00 PM'}, {'title': 'Troll 2', 'directors': 'Claudio Fragasso', 'year': 1990, 'genre': 'Horror', 'runtime': '1h 35m', 'theater': 'Coolidge Corner Theatre', 'screen_date': '2024-09-15', 'screen_times': '11:59 PM'}, {'title': 'Drive My Car', 'directors': 'RyÅ«suke Hamaguchi', 'year': 2021, 'genre': 'Drama', 'runtime': '2h 59m', 'theater': 'Harvard Film Archive', 'screen_date': '2024-09-15', 'screen_times': '6:00 PM'}, {'title': 'Naked Acts', 'directors': 'Bridgett M. Davis', 'year': 1996, 'genre': 'Comedy', 'runtime': '1h 27m', 'theater': 'The Brattle', 'screen_date': '2024-09-15', 'screen_times': '7:00 PM'}, {'title': 'Inception', 'directors': 'Christopher Nolan', 'year': 2010, 'genre': 'Action', 'runtime': '2h 28m', 'theater': 'Coolidge Corner Theatre', 'screen_date': '2024-09-15', 'screen_times': '7:30 PM'}, {'title': 'Wigstock: The Movie', 'directors': 'Barry Shils', 'year': 1995, 'genre': 'Documentary', 'runtime': '1h 25m', 'theater': 'Somerville Theatre', 'screen_date': '2024-09-15', 'screen_times': '11:59 PM'}, {'title': 'The Room', 'directors': 'Tommy Wiseau', 'year': 2003, 'genre': 'Drama', 'runtime': '1h 39m', 'theater': 'Coolidge Corner Theatre', 'screen_date': '2024-09-15', 'screen_times': '11:59 PM'}, {'title': 'Beyond the Blue Border', 'directors': 'Sarah Neumann', 'year': 2024, 'genre': 'Drama', 'runtime': '1h 42m', 'theater': 'Coolidge Corner Theatre', 'screen_date': '2024-09-15', 'screen_times': '11:00 AM'}, {'title': 'Naked Acts', 'directors': 'Bridgett M. Davis', 'year': 1996, 'genre': 'Comedy', 'runtime': '1h 27m', 'theater': 'The Brattle', 'screen_date': '2024-09-15', 'screen_times': '12:30 PM, 5:00 PM, 7:00 PM'}, {'title': 'The Sound of Music', 'directors': 'Robert Wise', 'year': 1965, 'genre': 'Drama', 'runtime': '2h 54m', 'theater': 'Coolidge Corner Theatre', 'screen_date': '2024-09-15', 'screen_times': '2:00 PM'}, {'title': 'LÃ©on Morin, Priest', 'directors': 'Jean-Pierre Melville', 'year': 1961, 'genre': 'Drama', 'runtime': '1h 57m', 'theater': 'Harvard Film Archive', 'screen_date': '2024-09-15', 'screen_times': '3:00 PM'}, {'title': 'Army of Shadows', 'directors': 'Jean-Pierre Melville', 'year': 1969, 'genre': 'War', 'runtime': '2h 25m', 'theater': 'Harvard Film Archive', 'screen_date': '2024-09-15', 'screen_times': '7:00 PM'}, {'title': 'La Dolce Vita', 'directors': 'Federico Fellini', 'year': 1960, 'genre': 'Comedy', 'runtime': '2h 56m', 'theater': 'The Brattle', 'screen_date': '2024-09-15', 'screen_times': '4:00 PM, 7:30 PM'}, {'title': 'Gift', 'directors': 'RyÅ«suke Hamaguchi', 'year': 2023, 'genre': 'Music', 'runtime': '1h 14m', 'theater': 'Harvard Film Archive', 'screen_date': '2024-09-15', 'screen_times': '6:00 PM, 8:30 PM'}, {'title': 'Spartacus', 'directors': 'Stanley Kubrick', 'year': 1960, 'genre': 'History', 'runtime': '3h 17m', 'theater': 'Coolidge Corner Theatre', 'screen_date': '2024-09-15', 'screen_times': '7:30 PM'}, {'title': '8Â½', 'directors': 'Federico Fellini', 'year': 1963, 'genre': 'Drama', 'runtime': '2h 19m', 'theater': 'The Brattle', 'screen_date': '2024-09-15', 'screen_times': '4:00 PM, 7:00 PM'}, {'title': 'Strangers on a Train', 'directors': 'Alfred Hitchcock', 'year': 1951, 'genre': 'Crime', 'runtime': '1h 41m', 'theater': 'Somerville Theatre', 'screen_date': '2024-09-15', 'screen_times': '7:00 PM'}, {'title': 'Join or Die', 'directors': 'Pete Davis, Rebecca Davis', 'year': 2024, 'genre': 'Documentary', 'runtime': '1h 39m', 'theater': 'Coolidge Corner Theatre', 'screen_date': '2024-09-15', 'screen_times': '7:00 PM'}, {'title': 'The Seventh Seal', 'directors': 'Ingmar Bergman', 'year': 1957, 'genre': 'Fantasy', 'runtime': '1h 36m', 'theater': 'Mount Auburn Cemetery', 'screen_date': '2024-09-15', 'screen_times': '7:00 PM'}, {'title': \"Bill & Ted's Bogus Journey\", 'directors': 'Peter Hewitt', 'year': 1991, 'genre': 'Adventure', 'runtime': '1h 33m', 'theater': 'Mount Auburn Cemetery', 'screen_date': '2024-09-15', 'screen_times': '8:30 PM'}, {'title': 'Dial M for Murder', 'directors': 'Alfred Hitchcock', 'year': 1954, 'genre': 'Thriller', 'runtime': '1h 45m', 'theater': 'Somerville Theatre', 'screen_date': '2024-09-15', 'screen_times': '8:55 PM'}, {'title': 'Inception', 'directors': 'Christopher Nolan', 'year': 2010, 'genre': 'Action', 'runtime': '2h 28m', 'theater': 'Coolidge Corner Theatre', 'screen_date': '2024-09-15', 'screen_times': '7:30 PM'}, {'title': 'Easy A', 'directors': 'Will Gluck', 'year': 2010, 'genre': 'Comedy', 'runtime': '1h 33m', 'theater': 'Coolidge Corner Theatre', 'screen_date': '2024-09-15', 'screen_times': '7:00 PM'}, {'title': \"Pandora's Box\", 'directors': 'G.W. Pabst', 'year': 1929, 'genre': 'Drama', 'runtime': '2h 13m', 'theater': 'The Brattle', 'screen_date': '2024-09-15', 'screen_times': '6:00 PM'}, {'title': 'Le SamouraÃ¯', 'directors': 'Jean-Pierre Melville', 'year': 1967, 'genre': 'Crime', 'runtime': '1h 45m', 'theater': 'Harvard Film Archive', 'screen_date': '2024-09-15', 'screen_times': '7:00 PM'}, {'title': 'The Sicilian Clan', 'directors': 'Henri Verneuil', 'year': 1969, 'genre': 'Crime', 'runtime': '1h 57m', 'theater': 'Harvard Film Archive', 'screen_date': '2024-09-15', 'screen_times': '9:15 PM'}, {'title': 'Samurai Cop', 'directors': 'Amir Shervan', 'year': 1991, 'genre': 'Action', 'runtime': '1h 36m', 'theater': 'Coolidge Corner Theatre', 'screen_date': '2024-09-15', 'screen_times': '11:59 PM'}, {'title': 'La Roue', 'directors': 'Abel Gance', 'year': 1923, 'genre': 'Drama', 'runtime': '6h 58m', 'theater': 'The Brattle', 'screen_date': '2024-09-15', 'screen_times': '12:00 PM'}, {'title': 'Breathless', 'directors': 'Jean-Luc Godard', 'year': 1960, 'genre': 'Drama', 'runtime': '1h 30m', 'theater': 'Harvard Film Archive', 'screen_date': '2024-09-15', 'screen_times': '7:00 PM'}, {'title': 'Two Men in Manhattan', 'directors': 'Jean-Pierre Melville', 'year': 1959, 'genre': 'Crime', 'runtime': '1h 24m', 'theater': 'Harvard Film Archive', 'screen_date': '2024-09-15', 'screen_times': '9:00 PM'}, {'title': 'Birdemic: Shock and Terror', 'directors': 'James Nguyen', 'year': 2010, 'genre': 'Romance', 'runtime': '1h 34m', 'theater': 'Coolidge Corner Theatre', 'screen_date': '2024-09-15', 'screen_times': '11:59 PM'}, {'title': 'Miami Connection', 'directors': 'Y.K. Kim, Richard Park Wu-sang', 'year': 1987, 'genre': 'Action', 'runtime': '1h 26m', 'theater': 'Somerville Theatre', 'screen_date': '2024-09-15', 'screen_times': '11:59 PM'}, {'title': 'They Came from Beyond Space', 'directors': 'Freddie Francis', 'year': 1967, 'genre': 'SciFi', 'runtime': '1h 25m', 'theater': 'Somerville Theatre', 'screen_date': '2024-09-15', 'screen_times': '12:30 PM'}, {'title': 'Zontar: The Thing from Venus', 'directors': 'Larry Buchanan', 'year': 1967, 'genre': 'Horror', 'runtime': '1h 20m', 'theater': 'Somerville Theatre', 'screen_date': '2024-09-15', 'screen_times': '2:10 PM'}, {'title': 'Harry Smith Films Nos. 1 â\\x80\\x93 5, 7 & 10, 11 & 16', 'directors': 'Harry Smith', 'year': 1946, 'genre': 'Documentary', 'runtime': '0h 42m', 'theater': 'Harvard Film Archive', 'screen_date': '2024-09-15', 'screen_times': '3:00 PM'}, {'title': 'Sherlock Jr.', 'directors': 'Buster Keaton', 'year': 1924, 'genre': 'Action', 'runtime': '0h 45m', 'theater': 'The Brattle', 'screen_date': '2024-09-15', 'screen_times': '3:15 PM'}, {'title': \"Pandora's Box\", 'directors': 'G.W. Pabst', 'year': 1929, 'genre': 'Drama', 'runtime': '2h 13m', 'theater': 'The Brattle', 'screen_date': '2024-09-15', 'screen_times': '5:30 PM'}, {'title': 'Le Cercle Rouge', 'directors': 'Jean-Pierre Melville', 'year': 1970, 'genre': 'Crime', 'runtime': '2h 20m', 'theater': 'Harvard Film Archive', 'screen_date': '2024-09-15', 'screen_times': '7:00 PM'}, {'title': 'Twilight', 'directors': 'Catherine Hardwicke', 'year': 2008, 'genre': 'Fantasy', 'runtime': '2h 2m', 'theater': 'Coolidge Corner Theatre', 'screen_date': '2024-09-15', 'screen_times': '11:00 PM'}, {'title': 'Training Day', 'directors': 'Antoine Fuqua', 'year': 2001, 'genre': 'Action', 'runtime': '2h 2m', 'theater': 'Coolidge Corner Theatre', 'screen_date': '2024-09-15', 'screen_times': '7:00 PM'}, {'title': 'The Big Risk', 'directors': 'Claude Sautet', 'year': 1960, 'genre': 'Crime', 'runtime': '1h 50m', 'theater': 'Harvard Film Archive', 'screen_date': '2024-09-15', 'screen_times': '7:00 PM'}, {'title': 'Sherlock Jr.', 'directors': 'Buster Keaton', 'year': 1924, 'genre': 'Action', 'runtime': '0h 45m', 'theater': 'The Brattle', 'screen_date': '2024-09-15', 'screen_times': '8:30 PM'}]\n"
     ]
    },
    {
     "name": "stderr",
     "output_type": "stream",
     "text": [
      "/var/folders/4p/n886yd3s3513z05rpt3f5wgm0000gn/T/ipykernel_12456/2880360074.py:87: DeprecationWarning: The 'text' argument to find()-type methods is deprecated. Use 'string' instead.\n",
      "  time_elems = theater_and_times_div.find_all('p', text=re.compile(r'\\d+:\\d+ [AP]M'))\n",
      "/var/folders/4p/n886yd3s3513z05rpt3f5wgm0000gn/T/ipykernel_12456/2880360074.py:91: DeprecationWarning: The 'text' argument to find()-type methods is deprecated. Use 'string' instead.\n",
      "  date_elem = soup.find('p', class_='small', text=re.compile(r'\\w+, \\w+ \\d+'))\n"
     ]
    }
   ],
   "source": [
    "soup = BeautifulSoup(open(file_path, 'r', encoding='utf-8'), 'html.parser')\n",
    "movies = []\n",
    "keys = {'title', 'directors', 'year', 'genre', 'runtime', 'theater', 'screen_date', 'screen_times'}\n",
    "\n",
    "# Month mapping for converting month names to numbers\n",
    "month_map = {\n",
    "    'January': '01',\n",
    "    'February': '02',\n",
    "    'March': '03',\n",
    "    'April': '04',\n",
    "    'May': '05',\n",
    "    'June': '06',\n",
    "    'July': '07',\n",
    "    'August': '08',\n",
    "    'September': '09',\n",
    "    'October': '10',\n",
    "    'November': '11',\n",
    "    'December': '12'\n",
    "}\n",
    "\n",
    "for div in soup.find_all('div', class_='grid h-full md:grid-cols-5 gap-1 bg-white hover:bg-white/60 transition-colors p-1'):\n",
    "    movie = {\n",
    "        'title': '',\n",
    "        'directors': '',\n",
    "        'year': None,\n",
    "        'genre': '',\n",
    "        'runtime': '',\n",
    "        'theater': '',\n",
    "        'screen_date': '',\n",
    "        'screen_times': ''\n",
    "    }\n",
    "\n",
    "    # Get the title\n",
    "    title_elem = div.find('p', class_='big whitespace-normal w-full min-w-0 overflow-hidden')\n",
    "    movie['title'] = title_elem.text.strip() if title_elem else ''\n",
    "\n",
    "    # Get the details div\n",
    "    details_div = div.find('div', class_='flex child:flex-1 gap-1 -mb-[3px] md:-mb-[.5px]')\n",
    "    if details_div:\n",
    "        detail_divs = details_div.find_all('div')\n",
    "        if len(detail_divs) >= 2:\n",
    "            # First div contains director, year, genre, runtime\n",
    "            director_and_info_div = detail_divs[0]\n",
    "            # Second div contains theater and times\n",
    "            theater_and_times_div = detail_divs[1]\n",
    "\n",
    "            # Get director(s)\n",
    "            director_elems = director_and_info_div.find_all('p')\n",
    "            if director_elems:\n",
    "                # Assume last 'p' is 'year, genre, runtime', so directors are before that\n",
    "                if len(director_elems) >= 2:\n",
    "                    director_texts = [p.text.strip() for p in director_elems[:-1]]\n",
    "                    movie['directors'] = ', '.join(director_texts)\n",
    "                else:\n",
    "                    movie['directors'] = director_elems[0].text.strip()\n",
    "            else:\n",
    "                movie['directors'] = ''\n",
    "\n",
    "            # Get year, genre, runtime\n",
    "            if len(director_elems) > 1:\n",
    "                info_text = director_elems[-1].text.strip()\n",
    "                # Info text is like '1948, Crime, 1h 40m'\n",
    "                # Split by ','\n",
    "                parts = [part.strip() for part in info_text.split(',')]\n",
    "                if len(parts) >= 1:\n",
    "                    # First part is year\n",
    "                    year_match = re.search(r'\\d{4}', parts[0])\n",
    "                    movie['year'] = int(year_match.group()) if year_match else None\n",
    "                if len(parts) >= 2:\n",
    "                    # Second part is genre\n",
    "                    movie['genre'] = parts[1]\n",
    "                if len(parts) >= 3:\n",
    "                    # Third part is runtime\n",
    "                    movie['runtime'] = parts[2]\n",
    "                else:\n",
    "                    movie['runtime'] = ''\n",
    "            else:\n",
    "                movie['year'] = None\n",
    "                movie['genre'] = ''\n",
    "                movie['runtime'] = ''\n",
    "\n",
    "            # Get theater\n",
    "            theater_elem = theater_and_times_div.find('p')\n",
    "            movie['theater'] = theater_elem.text.strip() if theater_elem else ''\n",
    "\n",
    "            # Get screen times\n",
    "            time_elems = theater_and_times_div.find_all('p', text=re.compile(r'\\d+:\\d+ [AP]M'))\n",
    "            movie['screen_times'] = ', '.join([time.text.strip() for time in time_elems]) if time_elems else ''\n",
    "\n",
    "    # Screen date extraction\n",
    "    date_elem = soup.find('p', class_='small', text=re.compile(r'\\w+, \\w+ \\d+'))\n",
    "    if date_elem:\n",
    "        date_text = date_elem.text.strip()\n",
    "        date_match = re.search(r'\\w+, (\\w+) (\\d+)', date_text)\n",
    "        if date_match:\n",
    "            month_name, day = date_match.group(1), date_match.group(2)\n",
    "            month_number = month_map.get(month_name)\n",
    "            if month_number:\n",
    "                movie['screen_date'] = f\"2024-{month_number}-{day.zfill(2)}\"\n",
    "\n",
    "    movies.append(movie)\n",
    "\n",
    "\n",
    "for movie in movies:\n",
    "    assert isinstance(movie, dict), \"Each item in `movies` should be a dictionary.\"\n",
    "    assert set(keys).issubset(movie.keys()), \"A movie dictionary is missing keys.\"\n",
    "hello = {', '.join(keys)}\n",
    "print(hello)\n",
    "\n",
    "print(movies)\n"
   ]
  },
  {
   "cell_type": "code",
   "execution_count": 62,
   "id": "487de9c7",
   "metadata": {
    "deletable": false,
    "editable": false
   },
   "outputs": [
    {
     "data": {
      "text/html": [
       "<p><strong style='color: red;'><pre style='display: inline;'>q2</pre> results:</strong></p><p><strong><pre style='display: inline;'>q2 - 1</pre> result:</strong></p><pre>    ✅ Test case passed</pre><p><strong><pre style='display: inline;'>q2 - 2</pre> result:</strong></p><pre>    ❌ Test case failed\n",
       "    Trying:\n",
       "        keys = {'title', 'directors', 'year', 'genre', 'runtime', 'theater', 'screen_date', 'screen_times'}\n",
       "    Expecting nothing\n",
       "    ok\n",
       "    Trying:\n",
       "        assert all((set(keys).issubset(m.keys()) for m in movies)), f'Each dictionary in `movies` should contain all of these keys: {', '.join(keys)}. At least one dictionary is missing one or more keys.'\n",
       "    Expecting nothing\n",
       "    **********************************************************************\n",
       "    Line 2, in q2 1\n",
       "    Failed example:\n",
       "        assert all((set(keys).issubset(m.keys()) for m in movies)), f'Each dictionary in `movies` should contain all of these keys: {', '.join(keys)}. At least one dictionary is missing one or more keys.'\n",
       "    Exception raised:\n",
       "        Traceback (most recent call last):\n",
       "          File \"/opt/anaconda3/lib/python3.11/doctest.py\", line 1353, in __run\n",
       "            exec(compile(example.source, filename, \"single\",\n",
       "                 ^^^^^^^^^^^^^^^^^^^^^^^^^^^^^^^^^^^^^^^^^^^\n",
       "          File \"<doctest q2 1[1]>\", line 1\n",
       "            assert all((set(keys).issubset(m.keys()) for m in movies)), f'Each dictionary in `movies` should contain all of these keys: {', '.join(keys)}. At least one dictionary is missing one or more keys.'\n",
       "                                                                                                                                          ^\n",
       "        SyntaxError: f-string: expecting '}'\n",
       "</pre><p><strong><pre style='display: inline;'>q2 - 3</pre> result:</strong></p><pre>    ✅ Test case passed</pre>"
      ],
      "text/plain": [
       "q2 results:\n",
       "    q2 - 1 result:\n",
       "        ✅ Test case passed\n",
       "\n",
       "    q2 - 2 result:\n",
       "        ❌ Test case failed\n",
       "        Trying:\n",
       "            keys = {'title', 'directors', 'year', 'genre', 'runtime', 'theater', 'screen_date', 'screen_times'}\n",
       "        Expecting nothing\n",
       "        ok\n",
       "        Trying:\n",
       "            assert all((set(keys).issubset(m.keys()) for m in movies)), f'Each dictionary in `movies` should contain all of these keys: {', '.join(keys)}. At least one dictionary is missing one or more keys.'\n",
       "        Expecting nothing\n",
       "        **********************************************************************\n",
       "        Line 2, in q2 1\n",
       "        Failed example:\n",
       "            assert all((set(keys).issubset(m.keys()) for m in movies)), f'Each dictionary in `movies` should contain all of these keys: {', '.join(keys)}. At least one dictionary is missing one or more keys.'\n",
       "        Exception raised:\n",
       "            Traceback (most recent call last):\n",
       "              File \"/opt/anaconda3/lib/python3.11/doctest.py\", line 1353, in __run\n",
       "                exec(compile(example.source, filename, \"single\",\n",
       "                     ^^^^^^^^^^^^^^^^^^^^^^^^^^^^^^^^^^^^^^^^^^^\n",
       "              File \"<doctest q2 1[1]>\", line 1\n",
       "                assert all((set(keys).issubset(m.keys()) for m in movies)), f'Each dictionary in `movies` should contain all of these keys: {', '.join(keys)}. At least one dictionary is missing one or more keys.'\n",
       "                                                                                                                                              ^\n",
       "            SyntaxError: f-string: expecting '}'\n",
       "\n",
       "    q2 - 3 result:\n",
       "        ✅ Test case passed"
      ]
     },
     "execution_count": 62,
     "metadata": {},
     "output_type": "execute_result"
    }
   ],
   "source": [
    "grader.check(\"q2\")"
   ]
  },
  {
   "cell_type": "markdown",
   "id": "cfcacef4-c29f-4743-8811-45064c7a0357",
   "metadata": {
    "deletable": false,
    "editable": false
   },
   "source": [
    "<div class=md>\n",
    "    <h3>3. Adding Historical Data: Snapshots from the Internet Archive's Wayback Machine</h3>\n",
    "<p>\n",
    "The screenboston.com page only shows screenings scheduled from the current day until about 2-4 weeks into the future.\n",
    "Using the <a href=\"http://web.archive.org/\">Wayback Machine</a>, we can augment our dataset with past snapshots of the page  \n",
    "</p>\n",
    "\n",
    "<p>\n",
    "Rather than clicking around to download each snapshot manually, we should again acquire our pages programmatically using <code>requests</code>. The Internet Archive offers an <a href='https://archive.org/help/wayback_api.php'>API</a> where you can specify a URL and timestamp and receive a JSON object which contains a new URL to a snapshot of the desired page nearest to the provided timestamp. You can then use <code>requests</code> again to acquire the HTML of this snapshot.\n",
    "</p>\n",
    "    \n",
    "<div class=prompt>\n",
    "\n",
    "1. Acquire enough snapshots to cover all days from Jan through September 2024 for which there exists data. \n",
    "For simplicity we'll assume that any well-formed screenboston.com page will cover at least through the end of that month and that a day's schedule won't change once displayed.\n",
    "2. Write each snapshot's HTML content to disk in the `/data/html` directory using filenames of the form `'snapshot_YYYYMMDD.html'`. Your code should only make requests if no local snapshot files already exist.\n",
    "3. Using your parsing function from the previous section, add movie dictionaries extracted from all the snapshots to your list, `movies`. Save this list of dictionaries as 'data/movies.json'. You should only perform the parsing if the JSON file does not already exist. Don't worry about any duplicate movie screenings in your list at this point.\n",
    "\n",
    "</div>\n",
    "\n",
    "**Hints:**\n",
    "- When retrieving JSON content with <code>requests</code>, us the `json()` method rather than the `text` attribute to extract the content from the returned request object into a nested dictionary rather than a string.\n",
    "- APIs often take parameters as key-value pairs occuring after a '?' character in the URL. For example 'http://archive.org/wayback/available?url=example.com&timestamp=20060101' includes a 'url' and a 'timestamp' parameter. When using <code>requests.get()</code> you can exclude these parameters from the URL itself and instead pass them as a dictionary to an argument called 'params'.\n",
    "- Use <code>json.dump()</code> and <code>json.load()</code> from the imported <code>json</code> module for writing and reading JSON content."
   ]
  },
  {
   "cell_type": "code",
   "execution_count": null,
   "id": "e0cba772-70ea-40c6-abaa-ff20025c7cf3",
   "metadata": {
    "tags": []
   },
   "outputs": [],
   "source": [
    "html_dir = 'data/html'\n",
    "if not os.path.exists(html_dir):\n",
    "    os.makedirs(html_dir)\n",
    "\n",
    "dates = []\n",
    "for month in range(1, 10):\n",
    "    dates.append(time(2024, month, 1))\n",
    "    dates.append(time(2024, month, 15))\n",
    "\n",
    "for date in dates:\n",
    "    date_str = date.strftime('%Y%m%d')\n",
    "    filename = f'snapshot_{date_str}.html'\n",
    "    filepath = os.path.join(html_dir, filename)\n",
    "    if os.path.exists(filepath):\n",
    "        print(f\"File {filename} already exists. Skipping download.\")\n",
    "        continue\n",
    "    else:\n",
    "        print(f\"Downloading snapshot for date {date_str}\")\n",
    "        timestamp = date.strftime('%Y%m%d%H%M%S')\n",
    "        params = {\n",
    "            'url': 'screenboston.com',\n",
    "            'timestamp': timestamp\n",
    "        }\n",
    "        response = requests.get('http://archive.org/wayback/available', params=params)\n",
    "        data = response.json()\n",
    "        if 'archived_snapshots' in data and 'closest' in data['archived_snapshots']:\n",
    "            snapshot = data['archived_snapshots']['closest']\n",
    "            snapshot_url = snapshot['url']\n",
    "            snapshot_response = requests.get(snapshot_url)\n",
    "            with open(filepath, 'w', encoding='utf-8') as f:\n",
    "                f.write(snapshot_response.text)\n",
    "            print(f\"Saved snapshot to {filepath}\")\n",
    "        else:\n",
    "            print(f\"No snapshot available for date {date_str}\")\n",
    "        time.sleep(1) \n",
    "\n",
    "\n",
    "\n",
    "movies_json_path = 'data/movies.json'\n",
    "if os.path.exists(movies_json_path):\n",
    "    print(f\"{movies_json_path} already exists. Skipping parsing.\")\n",
    "else:\n",
    "    print(f\"Parsing HTML files to extract movies.\")\n",
    "    movies = []\n",
    "    html_files = sorted(os.listdir(html_dir))\n",
    "    for filename in html_files:\n",
    "        filepath = os.path.join(html_dir, filename)\n",
    "        with open(filepath, 'r', encoding='utf-8') as f:\n",
    "            html_content = f.read()\n",
    "            movies_from_html = parse_movies_from_html(html_content) # this comes from before!! make that a function\n",
    "            movies.extend(movies_from_html)\n",
    "    # Save the movies list as JSON\n",
    "    with open(movies_json_path, 'w', encoding='utf-8') as f:\n",
    "        json.dump(movies, f)\n",
    "    print(f\"Saved movies to {movies_json_path}\")"
   ]
  },
  {
   "cell_type": "code",
   "execution_count": null,
   "id": "00c000d1-37c3-4b59-b557-4ce6ffb8a8f2",
   "metadata": {
    "deletable": false,
    "editable": false
   },
   "outputs": [],
   "source": [
    "# Display info about snapshots and results of parsing\n",
    "print(f\"Snapshots:\")\n",
    "print([f.split('/')[-1] for f in glob.glob('data/html/snapshot_*')])\n",
    "print(f\"Found {len(movies)} movie entries across all HTML files.\")"
   ]
  },
  {
   "cell_type": "code",
   "execution_count": null,
   "id": "c1705d55",
   "metadata": {
    "deletable": false,
    "editable": false
   },
   "outputs": [],
   "source": [
    "grader.check(\"q3\")"
   ]
  },
  {
   "cell_type": "markdown",
   "id": "1e227fb9-5645-4086-b89e-fda1afa80d19",
   "metadata": {
    "deletable": false,
    "editable": false
   },
   "source": [
    "<div class=md>\n",
    "    \n",
    "<h3>4. DataFrame Creation & Manipulation</h3>\n",
    "\n",
    "Your variable `movies` is a list of dictionaries which you can use to create a Pandas DataFrame. Have our data in a DataFrame will make it much easier to analyze and manipulate.\n",
    "\n",
    "<div class=prompt>\n",
    "    \n",
    "1. Use `movies` to create a DataFrame and call it `df`\n",
    "2. Drop any **duplicate rows** and report the number of remaining rows. Here we consider duplicates to be rows in which *all* values match. The same movie screening on different days, even at the same theater, will not be considered a duplicate.\n",
    "3. Check for **nans**. If you find any nans you should report the number of nans in each column and display the rows that contain at least one nan. If there are no nans then you should display output to confirm this fact.\n",
    "4. Convert the **'screen_date'** to a Pandas `datetime` dtype and **'runtime'** to a Pandas `timedelta` dtype.\n",
    "5. Sort your `df` by ascending 'screen_date'\n",
    "</div>\n",
    "\n",
    "Your result should look something like:\n",
    "\n",
    "| title                            | directors       | year | genre  | runtime         | theater                   | screen_date | screen_times         |\n",
    "|-----------------------------------|-----------------|------|--------|-----------------|---------------------------|-------------|----------------------|\n",
    "| Ghost Dog: The Way of the Samurai | Jim Jarmusch    | 1999 | Crime  | 0 days 01:56:00 | The Brattle               | 2024-05-24  | 4:00 PM, 9:00 PM     |\n",
    "| Stray Dog                        | Akira Kurosawa  | 1949 | Crime  | 0 days 02:02:00 | The Brattle               | 2024-05-24  | 6:30 PM              |\n",
    "| Big Trouble in Little China       | John Carpenter  | 1986 | Comedy | 0 days 01:40:00 | Coolidge Corner Theatre    | 2024-05-24  | 11:59 PM             |\n",
    "| Young Frankenstein               | Mel Brooks      | 1974 | Comedy | 0 days 01:46:00 | The Brattle               | 2024-05-25  | 12:00 PM             |\n",
    "| Poetry                           | Lee Chang-dong  | 2010 | Drama  | 0 days 02:19:00 | Museum of Fine Arts        | 2024-05-25  | 2:30 PM              |\n",
    "\n",
    "**Hints:**\n",
    "- You can use the `dt.date` attribute on a datetime column to extract just the day (and ignore the time)\n",
    "- You may need to to do some string parsing on 'runtime' before coverting it to a `timedelta`\n",
    "- Pandas now supports [PyArrow](https://arrow.apache.org/docs/python/index.html) as a backend alternative to Numpy. This gives access to new datatypes including native strings (as opposed to the catch-all 'object'), ints that support NaN values, and others. Using these datatypes can often speed up computations so you may choose to experiment with converting some or all of your columns to these new datatypes. You can read more [here](https://pandas.pydata.org/docs/user_guide/pyarrow.html).\n",
    "</div>"
   ]
  },
  {
   "cell_type": "code",
   "execution_count": null,
   "id": "ad6cd265-e541-4f93-abb4-ea00287f7b08",
   "metadata": {
    "tags": []
   },
   "outputs": [],
   "source": [
    "# your code here\n",
    "..."
   ]
  },
  {
   "cell_type": "code",
   "execution_count": null,
   "id": "4d2a1b1f",
   "metadata": {
    "deletable": false,
    "editable": false
   },
   "outputs": [],
   "source": [
    "grader.check(\"q4\")"
   ]
  },
  {
   "cell_type": "markdown",
   "id": "b2f235ae-92d0-49b6-83aa-eb0a4021b1eb",
   "metadata": {
    "deletable": false,
    "editable": false
   },
   "source": [
    "<div class=md>\n",
    "    \n",
    "<h3>5. Initial Exploratory Data Analysis (EDA)</h3>\n",
    "\n",
    "Using your DataFrame, perform the following exploratory data analysis tasks. Note that we'll use the term \"screening\" to refer to rows in the DataFrame example provided above. For each visualization component of this question you should interpret the results and draw conclusions.\n",
    "\n",
    "<div class=prompt>\n",
    "\n",
    "1. **Longest Films**:\n",
    "   Display the rows corresponding to the top 5 longest reported runtimes in descending order.\n",
    "\n",
    "2. **Screening Counts**:\n",
    "   Create two plots as side-by-side subplots with a shared y-axis range:\\\n",
    "   a. Number of screenings by theater\\\n",
    "   b. Number of screenings by genre\\\n",
    "\n",
    "3. **Movie Year Analysis**:\n",
    "   Create two separate plots:\\\n",
    "   a. Distribution of 'year' for all movies\\\n",
    "   b. Distribution of 'year' grouped by theater\n",
    "\n",
    "4. **Custom Analysis**:\n",
    "   Ask two questions of your choice regarding the screening data and use plots to attempt to find some answers. For each question:\\\n",
    "   a. Clearly state your question\\\n",
    "   b. Explain your approach to answering the question\\\n",
    "   c. Create an appropriate visualization\\\n",
    "   \n",
    "   At least one of these new plots must be a different type from those used in parts 2 and 3.\n",
    "\n",
    "Example questions you might consider:\n",
    "- Is there a relationship between a movie's age (current year - release year) and the number of screenings it receives?\n",
    "- Do certain genres tend to have longer runtimes?\n",
    "- Are there patterns in screening times for different theaters or genres?\n",
    "- How does the distribution of genres vary across different theaters?\n",
    "\n",
    "\n",
    "</div>\n",
    "</div>"
   ]
  },
  {
   "cell_type": "code",
   "execution_count": null,
   "id": "e5d6435e-bc72-4d9c-9b55-bc8d31362318",
   "metadata": {
    "tags": []
   },
   "outputs": [],
   "source": [
    "# 1. Longest films\n",
    "# your code here\n",
    "..."
   ]
  },
  {
   "cell_type": "markdown",
   "id": "62d0a96b-260c-4fc9-8a15-edacd492f21d",
   "metadata": {
    "editable": false
   },
   "source": [
    "*your answer here*\n",
    "\n"
   ]
  },
  {
   "cell_type": "code",
   "execution_count": null,
   "id": "ccfab035-93a1-4d20-8a8c-5d288f07bd15",
   "metadata": {
    "tags": []
   },
   "outputs": [],
   "source": [
    "# 2. Screenings by theater & screenings by genre\n",
    "# your code here\n",
    "..."
   ]
  },
  {
   "cell_type": "markdown",
   "id": "61a0754d-158e-4300-b51c-d1b335408133",
   "metadata": {
    "editable": false
   },
   "source": [
    "*your answer here*\n",
    "\n"
   ]
  },
  {
   "cell_type": "code",
   "execution_count": null,
   "id": "94f37c38-75c9-4dc9-9f9d-4b9b5fadea31",
   "metadata": {
    "tags": []
   },
   "outputs": [],
   "source": [
    "# 3. Year distribution & distribution of year by theater\n",
    "# your code here\n",
    "..."
   ]
  },
  {
   "cell_type": "markdown",
   "id": "7c104497-819f-4a13-bc81-9e37afa88017",
   "metadata": {
    "editable": false
   },
   "source": [
    "*your answer here*\n",
    "\n"
   ]
  },
  {
   "cell_type": "code",
   "execution_count": null,
   "id": "167374a0-bb68-4188-b766-0919e94c261c",
   "metadata": {
    "tags": []
   },
   "outputs": [],
   "source": [
    "# 4.1 Custom question 1\n",
    "# your code here\n",
    "..."
   ]
  },
  {
   "cell_type": "markdown",
   "id": "25a9f4a1-8230-41fa-8c64-301713fb96d8",
   "metadata": {
    "editable": false
   },
   "source": [
    "*your answer here*\n",
    "\n"
   ]
  },
  {
   "cell_type": "code",
   "execution_count": null,
   "id": "cfa02d2a-c38e-480c-8c81-08107b1eaa54",
   "metadata": {
    "tags": []
   },
   "outputs": [],
   "source": [
    "# 4.2 Custom question 2\n",
    "# your code here\n",
    "..."
   ]
  },
  {
   "cell_type": "markdown",
   "id": "26019307-2c49-4e06-9a23-b1cf5f9aed33",
   "metadata": {
    "editable": false
   },
   "source": [
    "*your answer here*\n",
    "\n"
   ]
  },
  {
   "cell_type": "markdown",
   "id": "10d6174f-88a3-4e95-b111-f9b24ab16c34",
   "metadata": {
    "deletable": false,
    "editable": false
   },
   "source": [
    "<div class=md>\n",
    "    <h3>6. Get a film's Wikipedia page identifier</h3>\n",
    "\n",
    "The screenboston page has relatively little information about each film.  But we can use some of the what we *do* know about each film to query Wikipedia for additional data.\n",
    "<div class=prompt>\n",
    "    \n",
    "  Find a unique identifier for the Wikipedia page for each film and store it in a new 'wiki_id' column. This could be the URL itself or a unique page ID that will allow you to recover the URL. Display the head of your updated DataFrame and describe your approach. You should strive to find page identifiers for as many films as possible, but don't worry if you can't find them all. Shoot for at least 50%.\n",
    "</div>\n",
    "\n",
    "**Hints:**\n",
    "- One way to do this is to construct a query string to that can be appended to wikipeda's search URL:<br>\n",
    "<code>'https://en.wikipedia.org/w/index.php?search='`</code><br>\n",
    "You could use movie info from your DataFrame to construct the query string. This could include the title, year, the fact that it is a film, etc. A unqiue identifier such as a URL or page ID can then be extracted from the approapriate search. \n",
    "- Feel free to explore wikipedia's API options as an alternative using the search URL.\n",
    "- Depending on your implementation, this process could take anywhere from a few seconds to a few minutes. To avoid unnecessary requests (and waiting) you should once again write your results to a file and only make requests if this file does not already exist. This point won't be repeated any more in this assignment but you should follow this principle whenever possible to avoid repeating any long tasks or computations.\n",
    "- Most of the time taken by a request is spend waiting for a response. Asynchronous requests allow you to initiate new requests without having to wait for the previous one to be returned. You can explore the asyncio and aiohttp libraries (imported above) if you'd like to optimize your code for speed. Just be warned that these are very deep topics in themselves so this should really just be an optimization step for the curious. To complicate matters, asyncio works slightly differently in Jupyter notebooks than in Python scripts. Finally, making too many requests too quickly can cause some to fail or may even result in your IP being temporarily blocked by a server.\n",
    "\n",
    "</div>"
   ]
  },
  {
   "cell_type": "code",
   "execution_count": null,
   "id": "4a92269b-b3df-4a85-b5ac-b74083302711",
   "metadata": {
    "scrolled": true,
    "tags": []
   },
   "outputs": [],
   "source": [
    "# your code here\n",
    "..."
   ]
  },
  {
   "cell_type": "code",
   "execution_count": null,
   "id": "6764473d-6052-4ed0-82db-ac6e7b34a7d6",
   "metadata": {
    "deletable": false,
    "editable": false
   },
   "outputs": [],
   "source": [
    "# Display results of updated df\n",
    "missing_rows = df[df.wiki_id.isna()]\n",
    "num_wiki_id_na = missing_rows.shape[0]\n",
    "print(\"Number of screenings missing a wiki ID:\", num_wiki_id_na)\n",
    "if num_wiki_id_na > 0:\n",
    "    print(\"Example rows with missing wiki ID\")\n",
    "    display.display(missing_rows)"
   ]
  },
  {
   "cell_type": "markdown",
   "id": "e58b8849-38eb-4687-90ab-349237d0d6eb",
   "metadata": {
    "deletable": false,
    "editable": false
   },
   "source": [
    "*your answer here*\n",
    "\n"
   ]
  },
  {
   "cell_type": "code",
   "execution_count": null,
   "id": "9f50c8e1",
   "metadata": {
    "deletable": false,
    "editable": false
   },
   "outputs": [],
   "source": [
    "grader.check(\"q6\")"
   ]
  },
  {
   "cell_type": "markdown",
   "id": "b4d6b0b6-93a9-4604-a218-bdefcc6bf484",
   "metadata": {
    "deletable": false,
    "editable": false
   },
   "source": [
    "<div class='md'>\n",
    "    \n",
    "<h3>7. Acquire HTML from wiki page and store in DataFrame</h3>\n",
    "\n",
    "<div class=prompt>\n",
    "    \n",
    "Use `'wiki_id'` to acquire the HTML content of each film's Wikipedia page and store it in a new column called `'wiki_html'`.\n",
    "</div>\n",
    "</div>"
   ]
  },
  {
   "cell_type": "code",
   "execution_count": null,
   "id": "7bb29141-971d-4053-a403-42a734e5a521",
   "metadata": {
    "scrolled": true,
    "tags": []
   },
   "outputs": [],
   "source": [
    "# your code here\n",
    "..."
   ]
  },
  {
   "cell_type": "code",
   "execution_count": null,
   "id": "444931d1-6a06-4971-a0af-5b89d3ccd676",
   "metadata": {
    "deletable": false,
    "editable": false
   },
   "outputs": [],
   "source": [
    "# Display results of updated df\n",
    "missing_rows = df[df.wiki_html.isna()]\n",
    "num_wiki_html_na = missing_rows.shape[0]\n",
    "print(\"Number of screenings missing wiki HTML:\", num_wiki_html_na)\n",
    "if num_wiki_html_na > 0:\n",
    "    print(\"Example rows with missing wiki HTML\")\n",
    "    display.display(missing_rows)"
   ]
  },
  {
   "cell_type": "code",
   "execution_count": null,
   "id": "3b2d543e",
   "metadata": {
    "deletable": false,
    "editable": false
   },
   "outputs": [],
   "source": [
    "grader.check(\"q7\")"
   ]
  },
  {
   "cell_type": "markdown",
   "id": "8f7a9317-d9b5-4215-9f27-9df08d7b2f69",
   "metadata": {
    "deletable": false,
    "editable": false
   },
   "source": [
    "<div class=md>\n",
    "\n",
    "<h3>8. Adding Data from Wikipedia and Asking New Questions</h3>\n",
    "\n",
    "Now that we have Wikipedia pages for most or all of our movies, we can add supplemental data from those pages to our DataFrame, ask new questions, and use Pandas and visualizations to try and get some answers. This final section is very open-ended, and you are encouraged to experiment. We want to see what you can do!\n",
    "\n",
    "<div class='prompt'>\n",
    "\n",
    "1. **Data Extraction and Integration**\n",
    "   - Extract at least one new piece of data from each movie page you found.\n",
    "   - Add this data as a new column(s) to your DataFrame.\n",
    "   - Display the head of your updated DataFrame.\n",
    "   - Discuss your strategy for extracting the new data, including any challenges you faced and how you overcame them.\n",
    "\n",
    "2. **Data Analysis and Visualization**\n",
    "    - Formulate at least two new questions that involve the Wikipedia data you've added.\n",
    "    - For each question:\n",
    "      - Clearly state your question and why it's interesting or relevant.\n",
    "      - Describe your approach to answering the question.\n",
    "      - Use Pandas to manipulate and analyze the data as needed.\n",
    "      - Create at least one meaningful visualization that helps answer your question.\n",
    "      - Ensure your plots are well-labeled and easy to interpret.\n",
    "      - Interpret the results of your analysis, discussing any insights, patterns, or surprises you discovered.\n",
    "\n",
    "</div>\n",
    "\n",
    "**Hints:**\n",
    "- The 'info box' on the right side of most Wikipedia pages is fairly standardized across film pages. This might be the easiest place to start.\n",
    "- Some potential pieces of data to extract include the language of the film, its box office revenue or budget, the starring cast, etc.\n",
    "- Feel free to extract more than just a single new piece of data to use in your analysis. If you're feeling particularly adventurous, you can even jump from the film page to other linked pages to acquire more data!\n",
    "- Consider how the new data you've extracted might relate to the screening information you already have. Are there interesting connections or patterns to explore?\n",
    "\n",
    "Remember, the goal is to demonstrate your ability to ask insightful questions, use appropriate data science techniques to answer them, and effectively communicate your findings.\n",
    "</div>"
   ]
  },
  {
   "cell_type": "code",
   "execution_count": null,
   "id": "ce124146-e7ee-421e-b249-2b421ad3d57b",
   "metadata": {
    "tags": []
   },
   "outputs": [],
   "source": [
    "# 1. Data Extraction and Integration\n",
    "# your code here\n",
    "..."
   ]
  },
  {
   "cell_type": "code",
   "execution_count": null,
   "id": "69ce4c29-8c1f-4939-859b-632506dc636f",
   "metadata": {
    "tags": []
   },
   "outputs": [],
   "source": [
    "# 2. Data Analysis and Visualization\n",
    "# your code here\n",
    "..."
   ]
  },
  {
   "cell_type": "markdown",
   "id": "992ad7ac-6f76-457b-b884-6c32152ff625",
   "metadata": {
    "editable": false
   },
   "source": [
    "*your answer here*\n",
    "\n"
   ]
  },
  {
   "cell_type": "markdown",
   "id": "30dce54e-0e1d-495c-9a9f-f9c3d59268a0",
   "metadata": {
    "deletable": false,
    "editable": false
   },
   "source": [
    "<div class=\"alert alert-info\" style=\"color: #4a4a4a; background-color: #fbe8ff; border-color: #eed4db; border-width: 1px; border-radius: 3px; padding: 10px;\">\n",
    "\n",
    "**Wrap-up**\n",
    "\n",
    "* Please describe the aspect(s) of the assignment you found most challenging. This could be conceptual and/or related to coding and implementation. This is also a good place to ask any remaining questions you may have.\n",
    "\n",
    "* How many hours did you spend working on this assignment? Store this as an int or float in `hours_spent_on_hw`. If you worked on the project in a group, report the *average* time spent per person.\n",
    "\n",
    "</div>"
   ]
  },
  {
   "cell_type": "markdown",
   "id": "93220f9c-74ca-4f53-a854-c00f37931d3c",
   "metadata": {
    "editable": false
   },
   "source": [
    "*your answer here*\n",
    "\n"
   ]
  },
  {
   "cell_type": "code",
   "execution_count": null,
   "id": "4dea51b8-4184-486b-9073-465e6f724ffc",
   "metadata": {
    "tags": []
   },
   "outputs": [],
   "source": [
    "hours_spent_on_hw = ..."
   ]
  },
  {
   "cell_type": "code",
   "execution_count": null,
   "id": "78e2207c",
   "metadata": {
    "deletable": false,
    "editable": false
   },
   "outputs": [],
   "source": [
    "grader.check(\"wrapup\")"
   ]
  },
  {
   "cell_type": "code",
   "execution_count": null,
   "id": "15cc0855-6ed3-42fa-a89a-0ea7f63956bc",
   "metadata": {},
   "outputs": [],
   "source": [
    "notebook_end = time.time()\n",
    "print(f\"It took {(notebook_end - notebook_start)/60:.2f} minutes for this notebook to run\")"
   ]
  },
  {
   "cell_type": "markdown",
   "id": "273e4ed6-d3d9-44aa-88f6-61f712d915d9",
   "metadata": {},
   "source": [
    "🌈 **This concludes HW1. Thank you!**"
   ]
  }
 ],
 "metadata": {
  "kernelspec": {
   "display_name": "Python 3 (ipykernel)",
   "language": "python",
   "name": "python3"
  },
  "language_info": {
   "codemirror_mode": {
    "name": "ipython",
    "version": 3
   },
   "file_extension": ".py",
   "mimetype": "text/x-python",
   "name": "python",
   "nbconvert_exporter": "python",
   "pygments_lexer": "ipython3",
   "version": "3.11.7"
  },
  "otter": {
   "OK_FORMAT": true,
   "tests": {
    "q1": {
     "name": "q1",
     "points": 10,
     "suites": [
      {
       "cases": [
        {
         "code": ">>> expected_url = './data/html/screenboston.html'\n>>> assert os.path.isfile(expected_url), f'Expected local file {expected_url}'\n",
         "hidden": false,
         "locked": false,
         "points": 3
        },
        {
         "code": ">>> expected_url = './data/html/screenboston.html'\n>>> with open(expected_url, 'r') as f:\n...     content = f.read()\n...     s = BeautifulSoup(content)\n...     assert s.select_one('p').text == 'Screen Boston', f'Content of file saved from {expected_url} should contain a <p> tag with the page name.'\n",
         "hidden": false,
         "locked": false,
         "points": 4
        },
        {
         "code": ">>> \n",
         "hidden": false,
         "locked": false
        }
       ],
       "scored": true,
       "setup": "",
       "teardown": "",
       "type": "doctest"
      }
     ]
    },
    "q2": {
     "name": "q2",
     "points": 15,
     "suites": [
      {
       "cases": [
        {
         "code": ">>> n = 50\n>>> assert len(movies) > n, f'`movies` should contain more than {n} elements; you have {len(movies)}.'\n>>> assert all((isinstance(m, dict) for m in movies)), 'Elements of `movies` should all be dictionaries.'\n",
         "hidden": false,
         "locked": false,
         "points": 4
        },
        {
         "code": ">>> keys = {'title', 'directors', 'year', 'genre', 'runtime', 'theater', 'screen_date', 'screen_times'}\n>>> assert all((set(keys).issubset(m.keys()) for m in movies)), f'Each dictionary in `movies` should contain all of these keys: {', '.join(keys)}. At least one dictionary is missing one or more keys.'\n",
         "hidden": false,
         "locked": false,
         "points": 4
        },
        {
         "code": ">>> assert all((isinstance(m['year'], int) for m in movies)), \"The 'year' value should be an integer in all dictionaries.\"\n",
         "hidden": false,
         "locked": false,
         "points": 2
        }
       ],
       "scored": true,
       "setup": "",
       "teardown": "",
       "type": "doctest"
      }
     ]
    },
    "q3": {
     "name": "q3",
     "points": 15,
     "suites": [
      {
       "cases": [
        {
         "code": ">>> snapshots = glob.glob('./data/html/snapshot_*.html')\n>>> assert len(snapshots) >= 4, f'You should have at least 4 snapshots, but found {len(snapshots)} files with paths like ./data/html/snapshot_*.html'\n",
         "hidden": false,
         "locked": false,
         "points": 3
        },
        {
         "code": ">>> snapshots = glob.glob('./data/html/snapshot_*.html')\n>>> assert all((re.match('snapshot_\\\\d{8}\\\\.html', os.path.basename(f)) for f in snapshots)), \"All snapshot files should be named in the format 'snapshot_YYYYMMDD.html'\"\n",
         "hidden": false,
         "locked": false,
         "points": 2
        },
        {
         "code": ">>> assert os.path.isfile('data/movies.json'), \"The file 'data/movies.json' should exist.\"\n",
         "hidden": false,
         "locked": false,
         "points": 2
        },
        {
         "code": ">>> with open('data/movies.json', 'r') as f:\n...     movies = json.load(f)\n>>> n = 300\n>>> assert len(movies) > n, f'`movies` should now contain more than {n} elements; you have {len(movies)}.'\n",
         "hidden": false,
         "locked": false,
         "points": 3
        },
        {
         "code": ">>> keys = {'title', 'directors', 'year', 'genre', 'runtime', 'theater', 'screen_date', 'screen_times'}\n>>> assert all((isinstance(m, dict) and set(keys).issubset(m.keys()) for m in movies)), f'Each dictionary in `movies` should contain all of these keys: {', '.join(keys)}. At least one dictionary is missing one or more keys.'\n",
         "hidden": false,
         "locked": false,
         "points": 5
        }
       ],
       "scored": true,
       "setup": "",
       "teardown": "",
       "type": "doctest"
      }
     ]
    },
    "q4": {
     "name": "q4",
     "points": 15,
     "suites": [
      {
       "cases": [
        {
         "code": ">>> assert isinstance(df, pd.DataFrame), \"You should have stored your DataFrame in a variable called 'df'\"\n>>> assert df.shape[1] == 8, 'Your DataFrame, df, should have 8 columns'\n",
         "hidden": false,
         "locked": false,
         "points": 3
        },
        {
         "code": ">>> assert df.shape[0] > 300, 'You should have found at least 300 non-duplicate rows'\n>>> assert df.shape[0] == df.drop_duplicates().shape[0], 'There are still duplicate rows in your DataFrame'\n",
         "hidden": false,
         "locked": false,
         "points": 3
        },
        {
         "code": ">>> def is_datetime_column_hacky(column):\n...     dtype_str = str(column.dtype)\n...     valid_types = ['date', 'timestamp', 'timedelta', 'duration']\n...     return any((t in dtype_str.lower() for t in valid_types))\n>>> assert is_datetime_column_hacky(df['screen_date']), \"The 'screen_date' column must be either a Pandas or PyArrow date/datetime type.\"\n",
         "hidden": false,
         "locked": false,
         "points": 2
        },
        {
         "code": ">>> def is_datetime_column_hacky(column):\n...     dtype_str = str(column.dtype)\n...     valid_types = ['date', 'timestamp', 'timedelta', 'duration']\n...     return any((t in dtype_str.lower() for t in valid_types))\n>>> assert is_datetime_column_hacky(df['runtime']), \"The 'runtime' column must be either a Pandas or PyArrow timedelta type.\"\n",
         "hidden": false,
         "locked": false,
         "points": 2
        },
        {
         "code": ">>> assert df['screen_date'].is_monotonic_increasing, \"The 'screen_date' column is not sorted in ascending order\"\n",
         "hidden": false,
         "locked": false,
         "points": 2
        },
        {
         "code": ">>> \n",
         "hidden": false,
         "locked": false
        }
       ],
       "scored": true,
       "setup": "",
       "teardown": "",
       "type": "doctest"
      }
     ]
    },
    "q6": {
     "name": "q6",
     "points": 7,
     "suites": [
      {
       "cases": [
        {
         "code": ">>> assert 'wiki_id' in df.columns, \"`df` should now have a column called 'wiki_id'.\"\n",
         "hidden": false,
         "locked": false,
         "points": 2
        },
        {
         "code": ">>> p = 0.5\n>>> assert (q := df['wiki_id'].notna().mean()) >= p, f'You should have been able to find wiki IDs for at least {p:.0%} of the screenings. You found {q:.0%}.'\n",
         "hidden": false,
         "locked": false,
         "points": 3
        },
        {
         "code": ">>> \n",
         "hidden": false,
         "locked": false
        }
       ],
       "scored": true,
       "setup": "",
       "teardown": "",
       "type": "doctest"
      }
     ]
    },
    "q7": {
     "name": "q7",
     "points": 3,
     "suites": [
      {
       "cases": [
        {
         "code": ">>> assert 'wiki_html' in df.columns, \"`df` should now have a column called 'wiki_html'.\"\n",
         "hidden": false,
         "locked": false,
         "points": 1
        },
        {
         "code": ">>> p = 0.5\n>>> assert (q := df['wiki_html'].notna().mean()) >= p, f'You should have been able to acquire wiki page HTML content for at least {p:.0%} of the screenings. You found {q:.0%}.'\n",
         "hidden": false,
         "locked": false,
         "points": 2
        }
       ],
       "scored": true,
       "setup": "",
       "teardown": "",
       "type": "doctest"
      }
     ]
    },
    "wrapup": {
     "name": "wrapup",
     "points": 5,
     "suites": [
      {
       "cases": [
        {
         "code": ">>> assert float(hours_spent_on_hw), 'Please select a time in hours (int or float) to specify how long you spent on this assignment.'\n",
         "hidden": false,
         "locked": false
        }
       ],
       "scored": true,
       "setup": "",
       "teardown": "",
       "type": "doctest"
      }
     ]
    }
   }
  }
 },
 "nbformat": 4,
 "nbformat_minor": 5
}
